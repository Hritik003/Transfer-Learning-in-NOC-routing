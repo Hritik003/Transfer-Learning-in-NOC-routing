{
 "cells": [
  {
   "cell_type": "code",
   "execution_count": 33,
   "metadata": {},
   "outputs": [],
   "source": [
    "import torch\n",
    "import torch.nn as nn\n",
    "import torch.optim as optim\n",
    "\n",
    "class Generator(nn.Module):\n",
    "    def __init__(self, noise_dim, src_dest_dim, hidden_size, output_size, num_layers=1):\n",
    "        super(Generator, self).__init__()\n",
    "        self.hidden_size = hidden_size\n",
    "        self.num_layers = num_layers\n",
    "        self.embed = nn.Embedding(16, src_dest_dim)  # Assuming 16 possible nodes in a 4x4 grid\n",
    "        self.lstm = nn.LSTM(noise_dim + 2*src_dest_dim, hidden_size, num_layers, batch_first=True)\n",
    "        self.fc = nn.Linear(hidden_size, output_size)\n",
    "\n",
    "    def forward(self, noise, src, dest):\n",
    "        src_embedded = self.embed(src).view(noise.size(0), 1, -1)\n",
    "        dest_embedded = self.embed(dest).view(noise.size(0), 1, -1)\n",
    "\n",
    "        combined_input = torch.cat((noise, src_embedded, dest_embedded), -1)\n",
    "        h0 = torch.zeros(self.num_layers, combined_input.size(0), self.hidden_size).to(combined_input.device)\n",
    "        c0 = torch.zeros(self.num_layers, combined_input.size(0), self.hidden_size).to(combined_input.device)\n",
    "        out, _ = self.lstm(combined_input, (h0, c0))\n",
    "        out = self.fc(out[:, -1, :])\n",
    "        return out\n",
    "\n",
    "class Discriminator(nn.Module):\n",
    "    def __init__(self, input_size, hidden_size, num_layers=1):\n",
    "        super(Discriminator, self).__init__()\n",
    "        self.hidden_size = hidden_size\n",
    "        self.num_layers = num_layers\n",
    "        self.lstm = nn.LSTM(input_size, hidden_size, num_layers, batch_first=True)\n",
    "        self.fc = nn.Linear(hidden_size, 1)\n",
    "        self.sigmoid = nn.Sigmoid()\n",
    "\n",
    "    def forward(self, path_sequence):\n",
    "        batch_size = path_sequence.size(0)\n",
    "        h0 = torch.zeros(self.num_layers, batch_size, self.hidden_size).to(path_sequence.device)\n",
    "        c0 = torch.zeros(self.num_layers, batch_size, self.hidden_size).to(path_sequence.device)\n",
    "    \n",
    "        out, _ = self.lstm(path_sequence, (h0, c0))\n",
    "        out = self.fc(out[:, -1, :])\n",
    "        out = self.sigmoid(out)\n",
    "        return out\n"
   ]
  },
  {
   "cell_type": "code",
   "execution_count": 27,
   "metadata": {},
   "outputs": [],
   "source": [
    "import numpy as np\n",
    "import networkx as nx\n",
    "\n",
    "def create_4x4_mesh():\n",
    "    G = nx.grid_2d_graph(4, 4)\n",
    "    return G\n",
    "\n",
    "G = create_4x4_mesh()\n"
   ]
  },
  {
   "cell_type": "code",
   "execution_count": 28,
   "metadata": {},
   "outputs": [
    {
     "name": "stdout",
     "output_type": "stream",
     "text": [
      "Path: [(0, 0), (1, 0), (1, 1), (1, 2)]\n",
      "encoded path:[0, 1, 5, 9]\n",
      "decoded Path: [(0, 0), (1, 0), (1, 1), (1, 2)]\n"
     ]
    }
   ],
   "source": [
    "def encode_path(path, grid_size=(4, 4)):\n",
    "    width, height = grid_size\n",
    "    return [x + y * width for x, y in path]\n",
    "\n",
    "def decode_path(encoded_path, grid_size=(4, 4)):\n",
    "    width, height = grid_size\n",
    "    return [(index % width, index // width) for index in encoded_path]\n",
    "\n",
    "path = [(0, 0), (1, 0), (1, 1), (1, 2)]  \n",
    "encoded_path = encode_path(path)\n",
    "decoded_path = decode_path(encoded_path)\n",
    "\n",
    "print(f\"Path: {path}\")\n",
    "print(f\"encoded path:{encoded_path}\")\n",
    "print(f\"decoded Path: {decoded_path}\")\n"
   ]
  },
  {
   "cell_type": "code",
   "execution_count": 29,
   "metadata": {},
   "outputs": [
    {
     "name": "stdout",
     "output_type": "stream",
     "text": [
      "[{'source': 0, 'target': 1, 'path': [0, 1]}, {'source': 0, 'target': 2, 'path': [0, 1, 2]}, {'source': 0, 'target': 3, 'path': [0, 1, 2, 3]}, {'source': 0, 'target': 4, 'path': [0, 4]}, {'source': 0, 'target': 5, 'path': [0, 1, 5]}, {'source': 0, 'target': 6, 'path': [0, 4, 5, 6]}, {'source': 0, 'target': 7, 'path': [0, 4, 5, 6, 7]}, {'source': 0, 'target': 8, 'path': [0, 4, 8]}, {'source': 0, 'target': 9, 'path': [0, 4, 8, 9]}, {'source': 0, 'target': 10, 'path': [0, 4, 8, 9, 10]}, {'source': 0, 'target': 11, 'path': [0, 1, 2, 3, 7, 11]}, {'source': 0, 'target': 12, 'path': [0, 4, 8, 12]}, {'source': 0, 'target': 13, 'path': [0, 4, 8, 12, 13]}, {'source': 0, 'target': 14, 'path': [0, 4, 5, 6, 10, 14]}, {'source': 0, 'target': 15, 'path': [0, 1, 2, 3, 7, 11, 15]}, {'source': 1, 'target': 0, 'path': [1, 0]}, {'source': 1, 'target': 2, 'path': [1, 2]}, {'source': 1, 'target': 3, 'path': [1, 2, 3]}, {'source': 1, 'target': 4, 'path': [1, 0, 4]}, {'source': 1, 'target': 5, 'path': [1, 5]}, {'source': 1, 'target': 6, 'path': [1, 2, 6]}, {'source': 1, 'target': 7, 'path': [1, 5, 6, 7]}, {'source': 1, 'target': 8, 'path': [1, 5, 9, 8]}, {'source': 1, 'target': 9, 'path': [1, 5, 9]}, {'source': 1, 'target': 10, 'path': [1, 5, 9, 10]}, {'source': 1, 'target': 11, 'path': [1, 2, 3, 7, 11]}, {'source': 1, 'target': 12, 'path': [1, 5, 9, 8, 12]}, {'source': 1, 'target': 13, 'path': [1, 5, 9, 13]}, {'source': 1, 'target': 14, 'path': [1, 5, 6, 10, 14]}, {'source': 1, 'target': 15, 'path': [1, 2, 3, 7, 11, 15]}, {'source': 2, 'target': 0, 'path': [2, 1, 0]}, {'source': 2, 'target': 1, 'path': [2, 1]}, {'source': 2, 'target': 3, 'path': [2, 3]}, {'source': 2, 'target': 4, 'path': [2, 6, 5, 4]}, {'source': 2, 'target': 5, 'path': [2, 1, 5]}, {'source': 2, 'target': 6, 'path': [2, 6]}, {'source': 2, 'target': 7, 'path': [2, 3, 7]}, {'source': 2, 'target': 8, 'path': [2, 1, 0, 4, 8]}, {'source': 2, 'target': 9, 'path': [2, 6, 10, 9]}, {'source': 2, 'target': 10, 'path': [2, 6, 10]}, {'source': 2, 'target': 11, 'path': [2, 6, 10, 11]}, {'source': 2, 'target': 12, 'path': [2, 1, 0, 4, 8, 12]}, {'source': 2, 'target': 13, 'path': [2, 6, 5, 9, 13]}, {'source': 2, 'target': 14, 'path': [2, 6, 10, 14]}, {'source': 2, 'target': 15, 'path': [2, 6, 10, 11, 15]}, {'source': 3, 'target': 0, 'path': [3, 2, 1, 0]}, {'source': 3, 'target': 1, 'path': [3, 2, 1]}, {'source': 3, 'target': 2, 'path': [3, 2]}, {'source': 3, 'target': 4, 'path': [3, 7, 6, 5, 4]}, {'source': 3, 'target': 5, 'path': [3, 7, 6, 5]}, {'source': 3, 'target': 6, 'path': [3, 2, 6]}, {'source': 3, 'target': 7, 'path': [3, 7]}, {'source': 3, 'target': 8, 'path': [3, 2, 1, 0, 4, 8]}, {'source': 3, 'target': 9, 'path': [3, 7, 11, 10, 9]}, {'source': 3, 'target': 10, 'path': [3, 7, 11, 10]}, {'source': 3, 'target': 11, 'path': [3, 7, 11]}, {'source': 3, 'target': 12, 'path': [3, 2, 1, 0, 4, 8, 12]}, {'source': 3, 'target': 13, 'path': [3, 7, 6, 5, 9, 13]}, {'source': 3, 'target': 14, 'path': [3, 7, 11, 15, 14]}, {'source': 3, 'target': 15, 'path': [3, 7, 11, 15]}, {'source': 4, 'target': 0, 'path': [4, 0]}, {'source': 4, 'target': 1, 'path': [4, 5, 1]}, {'source': 4, 'target': 2, 'path': [4, 0, 1, 2]}, {'source': 4, 'target': 3, 'path': [4, 0, 1, 2, 3]}, {'source': 4, 'target': 5, 'path': [4, 5]}, {'source': 4, 'target': 6, 'path': [4, 5, 6]}, {'source': 4, 'target': 7, 'path': [4, 5, 6, 7]}, {'source': 4, 'target': 8, 'path': [4, 8]}, {'source': 4, 'target': 9, 'path': [4, 5, 9]}, {'source': 4, 'target': 10, 'path': [4, 8, 9, 10]}, {'source': 4, 'target': 11, 'path': [4, 5, 6, 7, 11]}, {'source': 4, 'target': 12, 'path': [4, 8, 12]}, {'source': 4, 'target': 13, 'path': [4, 8, 12, 13]}, {'source': 4, 'target': 14, 'path': [4, 5, 6, 10, 14]}, {'source': 4, 'target': 15, 'path': [4, 5, 6, 7, 11, 15]}, {'source': 5, 'target': 0, 'path': [5, 4, 0]}, {'source': 5, 'target': 1, 'path': [5, 1]}, {'source': 5, 'target': 2, 'path': [5, 6, 2]}, {'source': 5, 'target': 3, 'path': [5, 6, 7, 3]}, {'source': 5, 'target': 4, 'path': [5, 4]}, {'source': 5, 'target': 6, 'path': [5, 6]}, {'source': 5, 'target': 7, 'path': [5, 6, 7]}, {'source': 5, 'target': 8, 'path': [5, 4, 8]}, {'source': 5, 'target': 9, 'path': [5, 9]}, {'source': 5, 'target': 10, 'path': [5, 6, 10]}, {'source': 5, 'target': 11, 'path': [5, 6, 7, 11]}, {'source': 5, 'target': 12, 'path': [5, 4, 8, 12]}, {'source': 5, 'target': 13, 'path': [5, 9, 13]}, {'source': 5, 'target': 14, 'path': [5, 6, 10, 14]}, {'source': 5, 'target': 15, 'path': [5, 6, 7, 11, 15]}, {'source': 6, 'target': 0, 'path': [6, 5, 4, 0]}, {'source': 6, 'target': 1, 'path': [6, 5, 1]}, {'source': 6, 'target': 2, 'path': [6, 2]}, {'source': 6, 'target': 3, 'path': [6, 7, 3]}, {'source': 6, 'target': 4, 'path': [6, 5, 4]}, {'source': 6, 'target': 5, 'path': [6, 5]}, {'source': 6, 'target': 7, 'path': [6, 7]}, {'source': 6, 'target': 8, 'path': [6, 5, 4, 8]}, {'source': 6, 'target': 9, 'path': [6, 5, 9]}, {'source': 6, 'target': 10, 'path': [6, 10]}, {'source': 6, 'target': 11, 'path': [6, 7, 11]}, {'source': 6, 'target': 12, 'path': [6, 5, 4, 8, 12]}, {'source': 6, 'target': 13, 'path': [6, 5, 9, 13]}, {'source': 6, 'target': 14, 'path': [6, 10, 14]}, {'source': 6, 'target': 15, 'path': [6, 7, 11, 15]}, {'source': 7, 'target': 0, 'path': [7, 3, 2, 1, 0]}, {'source': 7, 'target': 1, 'path': [7, 3, 2, 1]}, {'source': 7, 'target': 2, 'path': [7, 6, 2]}, {'source': 7, 'target': 3, 'path': [7, 3]}, {'source': 7, 'target': 4, 'path': [7, 6, 5, 4]}, {'source': 7, 'target': 5, 'path': [7, 6, 5]}, {'source': 7, 'target': 6, 'path': [7, 6]}, {'source': 7, 'target': 8, 'path': [7, 6, 5, 4, 8]}, {'source': 7, 'target': 9, 'path': [7, 11, 10, 9]}, {'source': 7, 'target': 10, 'path': [7, 6, 10]}, {'source': 7, 'target': 11, 'path': [7, 11]}, {'source': 7, 'target': 12, 'path': [7, 6, 5, 4, 8, 12]}, {'source': 7, 'target': 13, 'path': [7, 6, 5, 9, 13]}, {'source': 7, 'target': 14, 'path': [7, 11, 15, 14]}, {'source': 7, 'target': 15, 'path': [7, 11, 15]}, {'source': 8, 'target': 0, 'path': [8, 4, 0]}, {'source': 8, 'target': 1, 'path': [8, 4, 0, 1]}, {'source': 8, 'target': 2, 'path': [8, 9, 10, 6, 2]}, {'source': 8, 'target': 3, 'path': [8, 9, 10, 11, 7, 3]}, {'source': 8, 'target': 4, 'path': [8, 4]}, {'source': 8, 'target': 5, 'path': [8, 9, 5]}, {'source': 8, 'target': 6, 'path': [8, 4, 5, 6]}, {'source': 8, 'target': 7, 'path': [8, 9, 10, 11, 7]}, {'source': 8, 'target': 9, 'path': [8, 9]}, {'source': 8, 'target': 10, 'path': [8, 9, 10]}, {'source': 8, 'target': 11, 'path': [8, 9, 10, 11]}, {'source': 8, 'target': 12, 'path': [8, 12]}, {'source': 8, 'target': 13, 'path': [8, 9, 13]}, {'source': 8, 'target': 14, 'path': [8, 12, 13, 14]}, {'source': 8, 'target': 15, 'path': [8, 12, 13, 14, 15]}, {'source': 9, 'target': 0, 'path': [9, 8, 4, 0]}, {'source': 9, 'target': 1, 'path': [9, 5, 1]}, {'source': 9, 'target': 2, 'path': [9, 10, 6, 2]}, {'source': 9, 'target': 3, 'path': [9, 10, 11, 7, 3]}, {'source': 9, 'target': 4, 'path': [9, 8, 4]}, {'source': 9, 'target': 5, 'path': [9, 5]}, {'source': 9, 'target': 6, 'path': [9, 10, 6]}, {'source': 9, 'target': 7, 'path': [9, 10, 11, 7]}, {'source': 9, 'target': 8, 'path': [9, 8]}, {'source': 9, 'target': 10, 'path': [9, 10]}, {'source': 9, 'target': 11, 'path': [9, 10, 11]}, {'source': 9, 'target': 12, 'path': [9, 8, 12]}, {'source': 9, 'target': 13, 'path': [9, 13]}, {'source': 9, 'target': 14, 'path': [9, 10, 14]}, {'source': 9, 'target': 15, 'path': [9, 10, 11, 15]}, {'source': 10, 'target': 0, 'path': [10, 9, 8, 4, 0]}, {'source': 10, 'target': 1, 'path': [10, 9, 5, 1]}, {'source': 10, 'target': 2, 'path': [10, 6, 2]}, {'source': 10, 'target': 3, 'path': [10, 11, 7, 3]}, {'source': 10, 'target': 4, 'path': [10, 9, 8, 4]}, {'source': 10, 'target': 5, 'path': [10, 9, 5]}, {'source': 10, 'target': 6, 'path': [10, 6]}, {'source': 10, 'target': 7, 'path': [10, 11, 7]}, {'source': 10, 'target': 8, 'path': [10, 9, 8]}, {'source': 10, 'target': 9, 'path': [10, 9]}, {'source': 10, 'target': 11, 'path': [10, 11]}, {'source': 10, 'target': 12, 'path': [10, 9, 8, 12]}, {'source': 10, 'target': 13, 'path': [10, 9, 13]}, {'source': 10, 'target': 14, 'path': [10, 14]}, {'source': 10, 'target': 15, 'path': [10, 11, 15]}, {'source': 11, 'target': 0, 'path': [11, 10, 9, 8, 4, 0]}, {'source': 11, 'target': 1, 'path': [11, 10, 9, 5, 1]}, {'source': 11, 'target': 2, 'path': [11, 7, 3, 2]}, {'source': 11, 'target': 3, 'path': [11, 7, 3]}, {'source': 11, 'target': 4, 'path': [11, 10, 9, 8, 4]}, {'source': 11, 'target': 5, 'path': [11, 7, 6, 5]}, {'source': 11, 'target': 6, 'path': [11, 10, 6]}, {'source': 11, 'target': 7, 'path': [11, 7]}, {'source': 11, 'target': 8, 'path': [11, 10, 9, 8]}, {'source': 11, 'target': 9, 'path': [11, 10, 9]}, {'source': 11, 'target': 10, 'path': [11, 10]}, {'source': 11, 'target': 12, 'path': [11, 15, 14, 13, 12]}, {'source': 11, 'target': 13, 'path': [11, 15, 14, 13]}, {'source': 11, 'target': 14, 'path': [11, 10, 14]}, {'source': 11, 'target': 15, 'path': [11, 15]}, {'source': 12, 'target': 0, 'path': [12, 8, 4, 0]}, {'source': 12, 'target': 1, 'path': [12, 8, 4, 0, 1]}, {'source': 12, 'target': 2, 'path': [12, 8, 9, 10, 6, 2]}, {'source': 12, 'target': 3, 'path': [12, 13, 14, 15, 11, 7, 3]}, {'source': 12, 'target': 4, 'path': [12, 8, 4]}, {'source': 12, 'target': 5, 'path': [12, 8, 4, 5]}, {'source': 12, 'target': 6, 'path': [12, 8, 4, 5, 6]}, {'source': 12, 'target': 7, 'path': [12, 13, 14, 15, 11, 7]}, {'source': 12, 'target': 8, 'path': [12, 8]}, {'source': 12, 'target': 9, 'path': [12, 13, 9]}, {'source': 12, 'target': 10, 'path': [12, 8, 9, 10]}, {'source': 12, 'target': 11, 'path': [12, 8, 9, 10, 11]}, {'source': 12, 'target': 13, 'path': [12, 13]}, {'source': 12, 'target': 14, 'path': [12, 13, 14]}, {'source': 12, 'target': 15, 'path': [12, 13, 14, 15]}, {'source': 13, 'target': 0, 'path': [13, 9, 5, 4, 0]}, {'source': 13, 'target': 1, 'path': [13, 9, 5, 1]}, {'source': 13, 'target': 2, 'path': [13, 9, 10, 6, 2]}, {'source': 13, 'target': 3, 'path': [13, 14, 15, 11, 7, 3]}, {'source': 13, 'target': 4, 'path': [13, 9, 5, 4]}, {'source': 13, 'target': 5, 'path': [13, 9, 5]}, {'source': 13, 'target': 6, 'path': [13, 9, 5, 6]}, {'source': 13, 'target': 7, 'path': [13, 14, 15, 11, 7]}, {'source': 13, 'target': 8, 'path': [13, 12, 8]}, {'source': 13, 'target': 9, 'path': [13, 9]}, {'source': 13, 'target': 10, 'path': [13, 14, 10]}, {'source': 13, 'target': 11, 'path': [13, 9, 10, 11]}, {'source': 13, 'target': 12, 'path': [13, 12]}, {'source': 13, 'target': 14, 'path': [13, 14]}, {'source': 13, 'target': 15, 'path': [13, 14, 15]}, {'source': 14, 'target': 0, 'path': [14, 13, 12, 8, 4, 0]}, {'source': 14, 'target': 1, 'path': [14, 10, 9, 5, 1]}, {'source': 14, 'target': 2, 'path': [14, 10, 6, 2]}, {'source': 14, 'target': 3, 'path': [14, 10, 6, 7, 3]}, {'source': 14, 'target': 4, 'path': [14, 13, 12, 8, 4]}, {'source': 14, 'target': 5, 'path': [14, 10, 6, 5]}, {'source': 14, 'target': 6, 'path': [14, 10, 6]}, {'source': 14, 'target': 7, 'path': [14, 10, 6, 7]}, {'source': 14, 'target': 8, 'path': [14, 10, 9, 8]}, {'source': 14, 'target': 9, 'path': [14, 13, 9]}, {'source': 14, 'target': 10, 'path': [14, 10]}, {'source': 14, 'target': 11, 'path': [14, 15, 11]}, {'source': 14, 'target': 12, 'path': [14, 13, 12]}, {'source': 14, 'target': 13, 'path': [14, 13]}, {'source': 14, 'target': 15, 'path': [14, 15]}, {'source': 15, 'target': 0, 'path': [15, 14, 13, 12, 8, 4, 0]}, {'source': 15, 'target': 1, 'path': [15, 11, 10, 9, 5, 1]}, {'source': 15, 'target': 2, 'path': [15, 11, 7, 3, 2]}, {'source': 15, 'target': 3, 'path': [15, 11, 7, 3]}, {'source': 15, 'target': 4, 'path': [15, 14, 13, 12, 8, 4]}, {'source': 15, 'target': 5, 'path': [15, 11, 7, 6, 5]}, {'source': 15, 'target': 6, 'path': [15, 11, 7, 6]}, {'source': 15, 'target': 7, 'path': [15, 11, 7]}, {'source': 15, 'target': 8, 'path': [15, 11, 10, 9, 8]}, {'source': 15, 'target': 9, 'path': [15, 11, 10, 9]}, {'source': 15, 'target': 10, 'path': [15, 14, 10]}, {'source': 15, 'target': 11, 'path': [15, 11]}, {'source': 15, 'target': 12, 'path': [15, 14, 13, 12]}, {'source': 15, 'target': 13, 'path': [15, 14, 13]}, {'source': 15, 'target': 14, 'path': [15, 14]}]\n"
     ]
    }
   ],
   "source": [
    "import networkx as nx\n",
    "\n",
    "G = nx.grid_2d_graph(4, 4)\n",
    "\n",
    "node_list = list(G.nodes())\n",
    "node_index = {node: idx for idx, node in enumerate(node_list)}\n",
    "\n",
    "\n",
    "training_data = []\n",
    "for source in node_list:\n",
    "    for target in node_list:\n",
    "        if source != target:\n",
    "            shortest_path = nx.shortest_path(G, source, target)\n",
    "            encoded_path = [node_index[node] for node in shortest_path]\n",
    "            training_data.append({\n",
    "                'source': node_index[source],\n",
    "                'target': node_index[target],\n",
    "                'path': encoded_path\n",
    "            })\n",
    "\n",
    "\n",
    "print(training_data)\n"
   ]
  },
  {
   "cell_type": "code",
   "execution_count": 34,
   "metadata": {},
   "outputs": [],
   "source": [
    "\n",
    "noise_dim = 100  \n",
    "src_dest_dim = 10 \n",
    "hidden_size = 128  \n",
    "output_size = 15 * 16  \n",
    "\n",
    "\n",
    "generator = Generator(noise_dim=noise_dim, src_dest_dim=src_dest_dim, hidden_size=hidden_size, output_size=output_size)\n",
    "discriminator = Discriminator(input_size=16, hidden_size=hidden_size)  # Assuming each step in the path is one-hot encoded\n",
    "\n",
    "\n",
    "adversarial_loss = nn.BCELoss()\n",
    "optimizer_G = optim.Adam(generator.parameters(), lr=0.001)\n",
    "optimizer_D = optim.Adam(discriminator.parameters(), lr=0.001)\n"
   ]
  },
  {
   "cell_type": "code",
   "execution_count": 36,
   "metadata": {},
   "outputs": [],
   "source": [
    "from torch.utils.data import Dataset, DataLoader\n",
    "import torch\n",
    "from torch.nn.utils.rnn import pad_sequence\n",
    "import torch.nn.functional as F\n",
    "\n",
    "\n",
    "class PathsDataset(Dataset):\n",
    "    def __init__(self, data):\n",
    "        self.data = data\n",
    "        self.max_path_length = max(len(item['path']) for item in data)  # Find the max path length\n",
    "\n",
    "    def __len__(self):\n",
    "        return len(self.data)\n",
    "\n",
    "    def __getitem__(self, idx):\n",
    "        item = self.data[idx]\n",
    "        src = torch.tensor(item['source'], dtype=torch.long)\n",
    "        dest = torch.tensor(item['target'], dtype=torch.long)\n",
    "        path = torch.tensor(item['path'], dtype=torch.float)\n",
    "        # Pad the path\n",
    "        path_padded = F.pad(path, (0, self.max_path_length - len(path)), \"constant\", 0)\n",
    "        return src, dest, path_padded\n",
    "\n",
    "def collate_fn(batch):\n",
    "    srcs, dests, paths = zip(*batch)\n",
    "    \n",
    "    # Convert lists to tensors\n",
    "    srcs = torch.tensor(srcs, dtype=torch.long)\n",
    "    dests = torch.tensor(dests, dtype=torch.long)\n",
    "    \n",
    "    # Pad paths to the max length in the batch\n",
    "    paths_padded = pad_sequence(paths, batch_first=True, padding_value=0)\n",
    "    \n",
    "    return srcs, dests, paths_padded\n",
    "\n",
    "\n",
    "\n",
    "# Assuming training_data is your dataset\n",
    "dataset = PathsDataset(training_data)\n",
    "dataloader = DataLoader(dataset, batch_size=32, shuffle=True)\n"
   ]
  },
  {
   "cell_type": "code",
   "execution_count": 37,
   "metadata": {},
   "outputs": [
    {
     "ename": "RuntimeError",
     "evalue": "For unbatched 2-D input, hx and cx should also be 2-D but got (3-D, 3-D) tensors",
     "output_type": "error",
     "traceback": [
      "\u001b[0;31m---------------------------------------------------------------------------\u001b[0m",
      "\u001b[0;31mRuntimeError\u001b[0m                              Traceback (most recent call last)",
      "Cell \u001b[0;32mIn[37], line 16\u001b[0m\n\u001b[1;32m     12\u001b[0m fake_labels \u001b[38;5;241m=\u001b[39m torch\u001b[38;5;241m.\u001b[39mzeros(batch_size, \u001b[38;5;241m1\u001b[39m)\n\u001b[1;32m     14\u001b[0m optimizer_D\u001b[38;5;241m.\u001b[39mzero_grad()\n\u001b[0;32m---> 16\u001b[0m real_loss \u001b[38;5;241m=\u001b[39m adversarial_loss(discriminator(real_paths), real_labels)\n\u001b[1;32m     18\u001b[0m noise \u001b[38;5;241m=\u001b[39m torch\u001b[38;5;241m.\u001b[39mrandn(batch_size, \u001b[38;5;241m1\u001b[39m, latent_dim)\n\u001b[1;32m     19\u001b[0m fake_paths \u001b[38;5;241m=\u001b[39m generator(noise, src, dest)\u001b[38;5;241m.\u001b[39mdetach()  \u001b[38;5;66;03m# Detach so gradients in G are not calculated\u001b[39;00m\n",
      "File \u001b[0;32m~/anaconda3/lib/python3.11/site-packages/torch/nn/modules/module.py:1518\u001b[0m, in \u001b[0;36mModule._wrapped_call_impl\u001b[0;34m(self, *args, **kwargs)\u001b[0m\n\u001b[1;32m   1516\u001b[0m     \u001b[38;5;28;01mreturn\u001b[39;00m \u001b[38;5;28mself\u001b[39m\u001b[38;5;241m.\u001b[39m_compiled_call_impl(\u001b[38;5;241m*\u001b[39margs, \u001b[38;5;241m*\u001b[39m\u001b[38;5;241m*\u001b[39mkwargs)  \u001b[38;5;66;03m# type: ignore[misc]\u001b[39;00m\n\u001b[1;32m   1517\u001b[0m \u001b[38;5;28;01melse\u001b[39;00m:\n\u001b[0;32m-> 1518\u001b[0m     \u001b[38;5;28;01mreturn\u001b[39;00m \u001b[38;5;28mself\u001b[39m\u001b[38;5;241m.\u001b[39m_call_impl(\u001b[38;5;241m*\u001b[39margs, \u001b[38;5;241m*\u001b[39m\u001b[38;5;241m*\u001b[39mkwargs)\n",
      "File \u001b[0;32m~/anaconda3/lib/python3.11/site-packages/torch/nn/modules/module.py:1527\u001b[0m, in \u001b[0;36mModule._call_impl\u001b[0;34m(self, *args, **kwargs)\u001b[0m\n\u001b[1;32m   1522\u001b[0m \u001b[38;5;66;03m# If we don't have any hooks, we want to skip the rest of the logic in\u001b[39;00m\n\u001b[1;32m   1523\u001b[0m \u001b[38;5;66;03m# this function, and just call forward.\u001b[39;00m\n\u001b[1;32m   1524\u001b[0m \u001b[38;5;28;01mif\u001b[39;00m \u001b[38;5;129;01mnot\u001b[39;00m (\u001b[38;5;28mself\u001b[39m\u001b[38;5;241m.\u001b[39m_backward_hooks \u001b[38;5;129;01mor\u001b[39;00m \u001b[38;5;28mself\u001b[39m\u001b[38;5;241m.\u001b[39m_backward_pre_hooks \u001b[38;5;129;01mor\u001b[39;00m \u001b[38;5;28mself\u001b[39m\u001b[38;5;241m.\u001b[39m_forward_hooks \u001b[38;5;129;01mor\u001b[39;00m \u001b[38;5;28mself\u001b[39m\u001b[38;5;241m.\u001b[39m_forward_pre_hooks\n\u001b[1;32m   1525\u001b[0m         \u001b[38;5;129;01mor\u001b[39;00m _global_backward_pre_hooks \u001b[38;5;129;01mor\u001b[39;00m _global_backward_hooks\n\u001b[1;32m   1526\u001b[0m         \u001b[38;5;129;01mor\u001b[39;00m _global_forward_hooks \u001b[38;5;129;01mor\u001b[39;00m _global_forward_pre_hooks):\n\u001b[0;32m-> 1527\u001b[0m     \u001b[38;5;28;01mreturn\u001b[39;00m forward_call(\u001b[38;5;241m*\u001b[39margs, \u001b[38;5;241m*\u001b[39m\u001b[38;5;241m*\u001b[39mkwargs)\n\u001b[1;32m   1529\u001b[0m \u001b[38;5;28;01mtry\u001b[39;00m:\n\u001b[1;32m   1530\u001b[0m     result \u001b[38;5;241m=\u001b[39m \u001b[38;5;28;01mNone\u001b[39;00m\n",
      "Cell \u001b[0;32mIn[33], line 39\u001b[0m, in \u001b[0;36mDiscriminator.forward\u001b[0;34m(self, path_sequence)\u001b[0m\n\u001b[1;32m     36\u001b[0m h0 \u001b[38;5;241m=\u001b[39m torch\u001b[38;5;241m.\u001b[39mzeros(\u001b[38;5;28mself\u001b[39m\u001b[38;5;241m.\u001b[39mnum_layers, batch_size, \u001b[38;5;28mself\u001b[39m\u001b[38;5;241m.\u001b[39mhidden_size)\u001b[38;5;241m.\u001b[39mto(path_sequence\u001b[38;5;241m.\u001b[39mdevice)\n\u001b[1;32m     37\u001b[0m c0 \u001b[38;5;241m=\u001b[39m torch\u001b[38;5;241m.\u001b[39mzeros(\u001b[38;5;28mself\u001b[39m\u001b[38;5;241m.\u001b[39mnum_layers, batch_size, \u001b[38;5;28mself\u001b[39m\u001b[38;5;241m.\u001b[39mhidden_size)\u001b[38;5;241m.\u001b[39mto(path_sequence\u001b[38;5;241m.\u001b[39mdevice)\n\u001b[0;32m---> 39\u001b[0m out, _ \u001b[38;5;241m=\u001b[39m \u001b[38;5;28mself\u001b[39m\u001b[38;5;241m.\u001b[39mlstm(path_sequence, (h0, c0))\n\u001b[1;32m     40\u001b[0m out \u001b[38;5;241m=\u001b[39m \u001b[38;5;28mself\u001b[39m\u001b[38;5;241m.\u001b[39mfc(out[:, \u001b[38;5;241m-\u001b[39m\u001b[38;5;241m1\u001b[39m, :])\n\u001b[1;32m     41\u001b[0m out \u001b[38;5;241m=\u001b[39m \u001b[38;5;28mself\u001b[39m\u001b[38;5;241m.\u001b[39msigmoid(out)\n",
      "File \u001b[0;32m~/anaconda3/lib/python3.11/site-packages/torch/nn/modules/module.py:1518\u001b[0m, in \u001b[0;36mModule._wrapped_call_impl\u001b[0;34m(self, *args, **kwargs)\u001b[0m\n\u001b[1;32m   1516\u001b[0m     \u001b[38;5;28;01mreturn\u001b[39;00m \u001b[38;5;28mself\u001b[39m\u001b[38;5;241m.\u001b[39m_compiled_call_impl(\u001b[38;5;241m*\u001b[39margs, \u001b[38;5;241m*\u001b[39m\u001b[38;5;241m*\u001b[39mkwargs)  \u001b[38;5;66;03m# type: ignore[misc]\u001b[39;00m\n\u001b[1;32m   1517\u001b[0m \u001b[38;5;28;01melse\u001b[39;00m:\n\u001b[0;32m-> 1518\u001b[0m     \u001b[38;5;28;01mreturn\u001b[39;00m \u001b[38;5;28mself\u001b[39m\u001b[38;5;241m.\u001b[39m_call_impl(\u001b[38;5;241m*\u001b[39margs, \u001b[38;5;241m*\u001b[39m\u001b[38;5;241m*\u001b[39mkwargs)\n",
      "File \u001b[0;32m~/anaconda3/lib/python3.11/site-packages/torch/nn/modules/module.py:1527\u001b[0m, in \u001b[0;36mModule._call_impl\u001b[0;34m(self, *args, **kwargs)\u001b[0m\n\u001b[1;32m   1522\u001b[0m \u001b[38;5;66;03m# If we don't have any hooks, we want to skip the rest of the logic in\u001b[39;00m\n\u001b[1;32m   1523\u001b[0m \u001b[38;5;66;03m# this function, and just call forward.\u001b[39;00m\n\u001b[1;32m   1524\u001b[0m \u001b[38;5;28;01mif\u001b[39;00m \u001b[38;5;129;01mnot\u001b[39;00m (\u001b[38;5;28mself\u001b[39m\u001b[38;5;241m.\u001b[39m_backward_hooks \u001b[38;5;129;01mor\u001b[39;00m \u001b[38;5;28mself\u001b[39m\u001b[38;5;241m.\u001b[39m_backward_pre_hooks \u001b[38;5;129;01mor\u001b[39;00m \u001b[38;5;28mself\u001b[39m\u001b[38;5;241m.\u001b[39m_forward_hooks \u001b[38;5;129;01mor\u001b[39;00m \u001b[38;5;28mself\u001b[39m\u001b[38;5;241m.\u001b[39m_forward_pre_hooks\n\u001b[1;32m   1525\u001b[0m         \u001b[38;5;129;01mor\u001b[39;00m _global_backward_pre_hooks \u001b[38;5;129;01mor\u001b[39;00m _global_backward_hooks\n\u001b[1;32m   1526\u001b[0m         \u001b[38;5;129;01mor\u001b[39;00m _global_forward_hooks \u001b[38;5;129;01mor\u001b[39;00m _global_forward_pre_hooks):\n\u001b[0;32m-> 1527\u001b[0m     \u001b[38;5;28;01mreturn\u001b[39;00m forward_call(\u001b[38;5;241m*\u001b[39margs, \u001b[38;5;241m*\u001b[39m\u001b[38;5;241m*\u001b[39mkwargs)\n\u001b[1;32m   1529\u001b[0m \u001b[38;5;28;01mtry\u001b[39;00m:\n\u001b[1;32m   1530\u001b[0m     result \u001b[38;5;241m=\u001b[39m \u001b[38;5;28;01mNone\u001b[39;00m\n",
      "File \u001b[0;32m~/anaconda3/lib/python3.11/site-packages/torch/nn/modules/rnn.py:871\u001b[0m, in \u001b[0;36mLSTM.forward\u001b[0;34m(self, input, hx)\u001b[0m\n\u001b[1;32m    868\u001b[0m     \u001b[38;5;28;01mif\u001b[39;00m hx[\u001b[38;5;241m0\u001b[39m]\u001b[38;5;241m.\u001b[39mdim() \u001b[38;5;241m!=\u001b[39m \u001b[38;5;241m2\u001b[39m \u001b[38;5;129;01mor\u001b[39;00m hx[\u001b[38;5;241m1\u001b[39m]\u001b[38;5;241m.\u001b[39mdim() \u001b[38;5;241m!=\u001b[39m \u001b[38;5;241m2\u001b[39m:\n\u001b[1;32m    869\u001b[0m         msg \u001b[38;5;241m=\u001b[39m (\u001b[38;5;124m\"\u001b[39m\u001b[38;5;124mFor unbatched 2-D input, hx and cx should \u001b[39m\u001b[38;5;124m\"\u001b[39m\n\u001b[1;32m    870\u001b[0m                \u001b[38;5;124mf\u001b[39m\u001b[38;5;124m\"\u001b[39m\u001b[38;5;124malso be 2-D but got (\u001b[39m\u001b[38;5;132;01m{\u001b[39;00mhx[\u001b[38;5;241m0\u001b[39m]\u001b[38;5;241m.\u001b[39mdim()\u001b[38;5;132;01m}\u001b[39;00m\u001b[38;5;124m-D, \u001b[39m\u001b[38;5;132;01m{\u001b[39;00mhx[\u001b[38;5;241m1\u001b[39m]\u001b[38;5;241m.\u001b[39mdim()\u001b[38;5;132;01m}\u001b[39;00m\u001b[38;5;124m-D) tensors\u001b[39m\u001b[38;5;124m\"\u001b[39m)\n\u001b[0;32m--> 871\u001b[0m         \u001b[38;5;28;01mraise\u001b[39;00m \u001b[38;5;167;01mRuntimeError\u001b[39;00m(msg)\n\u001b[1;32m    872\u001b[0m     hx \u001b[38;5;241m=\u001b[39m (hx[\u001b[38;5;241m0\u001b[39m]\u001b[38;5;241m.\u001b[39munsqueeze(\u001b[38;5;241m1\u001b[39m), hx[\u001b[38;5;241m1\u001b[39m]\u001b[38;5;241m.\u001b[39munsqueeze(\u001b[38;5;241m1\u001b[39m))\n\u001b[1;32m    873\u001b[0m \u001b[38;5;66;03m# Each batch of the hidden state should match the input sequence that\u001b[39;00m\n\u001b[1;32m    874\u001b[0m \u001b[38;5;66;03m# the user believes he/she is passing in.\u001b[39;00m\n",
      "\u001b[0;31mRuntimeError\u001b[0m: For unbatched 2-D input, hx and cx should also be 2-D but got (3-D, 3-D) tensors"
     ]
    }
   ],
   "source": [
    "noise_dim = 100  \n",
    "latent_dim = noise_dim  \n",
    "epochs = 100\n",
    "for epoch in range(epochs):\n",
    "    for i, (src, dest, real_paths) in enumerate(dataloader):\n",
    "        \n",
    "        batch_size = real_paths.size(0)\n",
    "\n",
    "\n",
    "        real_labels = torch.ones(batch_size, 1)\n",
    "        fake_labels = torch.zeros(batch_size, 1)\n",
    "        \n",
    "        optimizer_D.zero_grad()\n",
    "\n",
    "        real_loss = adversarial_loss(discriminator(real_paths), real_labels)\n",
    "\n",
    "        noise = torch.randn(batch_size, 1, latent_dim)\n",
    "        fake_paths = generator(noise, src, dest).detach()  \n",
    "\n",
    "        fake_loss = adversarial_loss(discriminator(fake_paths), fake_labels)\n",
    "\n",
    "\n",
    "        d_loss = real_loss + fake_loss\n",
    "        d_loss.backward()\n",
    "        optimizer_D.step()\n",
    "\n",
    "        optimizer_G.zero_grad()\n",
    "\n",
    "\n",
    "        noise = torch.randn(batch_size, 1, latent_dim)\n",
    "        fake_paths = generator(noise, src, dest)\n",
    "\n",
    "\n",
    "        g_loss = adversarial_loss(discriminator(fake_paths), real_labels)\n",
    "        g_loss.backward()\n",
    "        optimizer_G.step()\n",
    "        \n",
    "\n",
    "        if (i + 1) % 50 == 0:  # Assuming you want to print every 50 batches\n",
    "            print(f\"Epoch [{epoch+1}/{epochs}], Batch [{i+1}], D Loss: {d_loss.item()}, G Loss: {g_loss.item()}\")\n"
   ]
  },
  {
   "cell_type": "code",
   "execution_count": null,
   "metadata": {},
   "outputs": [],
   "source": []
  }
 ],
 "metadata": {
  "kernelspec": {
   "display_name": "base",
   "language": "python",
   "name": "python3"
  },
  "language_info": {
   "codemirror_mode": {
    "name": "ipython",
    "version": 3
   },
   "file_extension": ".py",
   "mimetype": "text/x-python",
   "name": "python",
   "nbconvert_exporter": "python",
   "pygments_lexer": "ipython3",
   "version": "3.11.5"
  }
 },
 "nbformat": 4,
 "nbformat_minor": 2
}
