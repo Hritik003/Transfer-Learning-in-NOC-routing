{
  "nbformat": 4,
  "nbformat_minor": 0,
  "metadata": {
    "colab": {
      "provenance": []
    },
    "kernelspec": {
      "name": "python3",
      "display_name": "Python 3"
    },
    "language_info": {
      "name": "python"
    }
  },
  "cells": [
    {
      "cell_type": "code",
      "source": [
        "import torch\n",
        "import torch.nn as nn\n",
        "import torch.optim as optim\n",
        "import numpy as np\n",
        "import matplotlib.pyplot as plt\n"
      ],
      "metadata": {
        "id": "2jvhY5SpPTAQ"
      },
      "execution_count": null,
      "outputs": []
    },
    {
      "cell_type": "code",
      "source": [
        "class Router(object):\n",
        "    def __init__(self,x,y):\n",
        "        self.x = x\n",
        "        self.y = y\n",
        "        self.neighbor = []\n",
        "        self.edge = []\n",
        "\n",
        "class Edge(object):\n",
        "    def __init__(self,x,y,l):\n",
        "        self.start = x\n",
        "        self.end = y\n",
        "        self.len = int(int(l*10)/2+1)\n",
        "        self.load = 0\n",
        "\n",
        "class Data(object):\n",
        "    def __init__(self,x,y,size,priority):\n",
        "        self.now = x\n",
        "        self.target = y\n",
        "        self.size = size\n",
        "        self.priority = priority\n",
        "        self.time = 0\n",
        "        self.edge = -1\n",
        "        self.neigh = [priority,-1,-1,-1]\n",
        "\n",
        "router = []\n",
        "edges = []\n",
        "t_edge = 0 ##keeps tracks of the number of edges in the graph\n",
        "n_router = 25"
      ],
      "metadata": {
        "id": "rKbTc5xS2oYi"
      },
      "execution_count": null,
      "outputs": []
    },
    {
      "cell_type": "code",
      "source": [
        "#Router Topology (Router Positions)\n",
        "y_coordinate = 0\n",
        "x_coordinate = 0\n",
        "x_increment = 0.25\n",
        "y_increment = 0.25\n",
        "x_max = 1\n",
        "y_max = float('inf')  # Assuming there's no maximum y-coordinate\n",
        "\n",
        "for i in range(n_router):\n",
        "    router.append(Router(x_coordinate, y_coordinate))\n",
        "    x_coordinate += x_increment\n",
        "    if x_coordinate > x_max:\n",
        "        x_coordinate = 0\n",
        "        y_coordinate += y_increment\n",
        "\n",
        "for i in range(n_router):\n",
        "\tprint(router[i].x,router[i].y)\n",
        "\tplt.scatter(router[i].x, router[i].y, color = 'red')\n",
        "plt.show()"
      ],
      "metadata": {
        "colab": {
          "base_uri": "https://localhost:8080/",
          "height": 864
        },
        "id": "OlMzAYbz2taB",
        "outputId": "a775c75a-d8e3-4b7f-812a-d3953eab9f95"
      },
      "execution_count": null,
      "outputs": [
        {
          "output_type": "stream",
          "name": "stdout",
          "text": [
            "0 0\n",
            "0.25 0\n",
            "0.5 0\n",
            "0.75 0\n",
            "1.0 0\n",
            "0 0.25\n",
            "0.25 0.25\n",
            "0.5 0.25\n",
            "0.75 0.25\n",
            "1.0 0.25\n",
            "0 0.5\n",
            "0.25 0.5\n",
            "0.5 0.5\n",
            "0.75 0.5\n",
            "1.0 0.5\n",
            "0 0.75\n",
            "0.25 0.75\n",
            "0.5 0.75\n",
            "0.75 0.75\n",
            "1.0 0.75\n",
            "0 1.0\n",
            "0.25 1.0\n",
            "0.5 1.0\n",
            "0.75 1.0\n",
            "1.0 1.0\n"
          ]
        },
        {
          "output_type": "display_data",
          "data": {
            "text/plain": [
              "<Figure size 640x480 with 1 Axes>"
            ],
            "image/png": "[encoded data removed]"
          },
          "metadata": {}
        }
      ]
    },
    {
      "cell_type": "code",
      "source": [
        "for i in range(n_router):\n",
        "  dis = []\n",
        "  for j in range(n_router):\n",
        "    dis.append([(router[j].x - router[i].x)**2 + (router[j].y - router[i].y)**2, j])\n",
        "  dis.sort(key = lambda x: x[0],reverse = False)\n",
        "\n",
        "  for j in range(n_router):\n",
        "    if(j==i):\n",
        "      continue\n",
        "    else:\n",
        "      if(dis[j][0] == 0.0625):\n",
        "        if dis[j][1] not in router[i].neighbor:\n",
        "          router[i].neighbor.append(dis[j][1])\n",
        "          router[dis[j][1]].neighbor.append(i)\n",
        "          if i<dis[j][1]:\n",
        "            edges.append(Edge(i,dis[j][1],np.sqrt(dis[j][0])))\n",
        "            router[i].edge.append(t_edge)\n",
        "            router[dis[j][1]].edge.append(t_edge)\n",
        "            t_edge += 1\n",
        "          else:\n",
        "            edges.append(Edge(dis[j][1],i,np.sqrt(dis[j][0])))\n",
        "            router[dis[j][1]].edge.append(t_edge)\n",
        "            router[i].edge.append(t_edge)\n",
        "            t_edge += 1\n",
        "\n",
        "for i in range(n_router):\n",
        "    plt.scatter(router[i].x, router[i].y, color = 'orange')\n",
        "for e in edges:\n",
        "    plt.plot([router[e.start].x,router[e.end].x],[router[e.start].y,router[e.end].y],color='black')"
      ],
      "metadata": {
        "colab": {
          "base_uri": "https://localhost:8080/",
          "height": 430
        },
        "id": "f-GvrvbM2yIg",
        "outputId": "914b65c0-37d2-4cc8-8525-54541b1dc09e"
      },
      "execution_count": null,
      "outputs": [
        {
          "output_type": "display_data",
          "data": {
            "text/plain": [
              "<Figure size 640x480 with 1 Axes>"
            ],
            "image/png": "[encoded data removed]"
          },
          "metadata": {}
        }
      ]
    },
    {
      "cell_type": "code",
      "source": [
        "print(\"total no of edges: \",t_edge)\n",
        "for i in range(n_router):\n",
        "  print(\"Router {}: x = {} y = {} neighbor = {} edges = {}\".format(i,router[i].x,router[i].y,router[i].neighbor,router[i].edge))\n",
        "for i in range(t_edge):\n",
        "  print(\"Edge {}: start_point = {} end_point = {} length = {}\".format(i,edges[i].start,edges[i].end,edges[i].len))"
      ],
      "metadata": {
        "colab": {
          "base_uri": "https://localhost:8080/"
        },
        "id": "I-wvhfLQ21Il",
        "outputId": "042e73d4-4fda-4b3c-9887-61645eeb7e97"
      },
      "execution_count": null,
      "outputs": [
        {
          "output_type": "stream",
          "name": "stdout",
          "text": [
            "total no of edges:  40\n",
            "Router 0: x = 0 y = 0 neighbor = [1, 5] edges = [0, 1]\n",
            "Router 1: x = 0.25 y = 0 neighbor = [0, 2, 6] edges = [0, 2, 3]\n",
            "Router 2: x = 0.5 y = 0 neighbor = [1, 7, 3] edges = [2, 4, 5]\n",
            "Router 3: x = 0.75 y = 0 neighbor = [2, 4, 8] edges = [5, 6, 14]\n",
            "Router 4: x = 1.0 y = 0 neighbor = [3, 9] edges = [6, 7]\n",
            "Router 5: x = 0 y = 0.25 neighbor = [0, 6, 10] edges = [1, 8, 9]\n",
            "Router 6: x = 0.25 y = 0.25 neighbor = [1, 5, 7, 11] edges = [3, 8, 10, 11]\n",
            "Router 7: x = 0.5 y = 0.25 neighbor = [2, 6, 8, 12] edges = [4, 10, 12, 13]\n",
            "Router 8: x = 0.75 y = 0.25 neighbor = [7, 3, 9, 13] edges = [12, 14, 15, 16]\n",
            "Router 9: x = 1.0 y = 0.25 neighbor = [4, 8, 14] edges = [7, 15, 17]\n",
            "Router 10: x = 0 y = 0.5 neighbor = [5, 11, 15] edges = [9, 18, 19]\n",
            "Router 11: x = 0.25 y = 0.5 neighbor = [6, 10, 12, 16] edges = [11, 18, 20, 21]\n",
            "Router 12: x = 0.5 y = 0.5 neighbor = [7, 11, 13, 17] edges = [13, 20, 22, 23]\n",
            "Router 13: x = 0.75 y = 0.5 neighbor = [8, 12, 14, 18] edges = [16, 22, 24, 25]\n",
            "Router 14: x = 1.0 y = 0.5 neighbor = [9, 13, 19] edges = [17, 24, 26]\n",
            "Router 15: x = 0 y = 0.75 neighbor = [10, 16, 20] edges = [19, 27, 28]\n",
            "Router 16: x = 0.25 y = 0.75 neighbor = [11, 15, 17, 21] edges = [21, 27, 29, 30]\n",
            "Router 17: x = 0.5 y = 0.75 neighbor = [12, 16, 18, 22] edges = [23, 29, 31, 32]\n",
            "Router 18: x = 0.75 y = 0.75 neighbor = [13, 17, 19, 23] edges = [25, 31, 33, 34]\n",
            "Router 19: x = 1.0 y = 0.75 neighbor = [14, 18, 24] edges = [26, 33, 35]\n",
            "Router 20: x = 0 y = 1.0 neighbor = [15, 21] edges = [28, 36]\n",
            "Router 21: x = 0.25 y = 1.0 neighbor = [16, 20, 22] edges = [30, 36, 37]\n",
            "Router 22: x = 0.5 y = 1.0 neighbor = [17, 21, 23] edges = [32, 37, 38]\n",
            "Router 23: x = 0.75 y = 1.0 neighbor = [18, 22, 24] edges = [34, 38, 39]\n",
            "Router 24: x = 1.0 y = 1.0 neighbor = [19, 23] edges = [35, 39]\n",
            "Edge 0: start_point = 0 end_point = 1 length = 2\n",
            "Edge 1: start_point = 0 end_point = 5 length = 2\n",
            "Edge 2: start_point = 1 end_point = 2 length = 2\n",
            "Edge 3: start_point = 1 end_point = 6 length = 2\n",
            "Edge 4: start_point = 2 end_point = 7 length = 2\n",
            "Edge 5: start_point = 2 end_point = 3 length = 2\n",
            "Edge 6: start_point = 3 end_point = 4 length = 2\n",
            "Edge 7: start_point = 4 end_point = 9 length = 2\n",
            "Edge 8: start_point = 5 end_point = 6 length = 2\n",
            "Edge 9: start_point = 5 end_point = 10 length = 2\n",
            "Edge 10: start_point = 6 end_point = 7 length = 2\n",
            "Edge 11: start_point = 6 end_point = 11 length = 2\n",
            "Edge 12: start_point = 7 end_point = 8 length = 2\n",
            "Edge 13: start_point = 7 end_point = 12 length = 2\n",
            "Edge 14: start_point = 3 end_point = 8 length = 2\n",
            "Edge 15: start_point = 8 end_point = 9 length = 2\n",
            "Edge 16: start_point = 8 end_point = 13 length = 2\n",
            "Edge 17: start_point = 9 end_point = 14 length = 2\n",
            "Edge 18: start_point = 10 end_point = 11 length = 2\n",
            "Edge 19: start_point = 10 end_point = 15 length = 2\n",
            "Edge 20: start_point = 11 end_point = 12 length = 2\n",
            "Edge 21: start_point = 11 end_point = 16 length = 2\n",
            "Edge 22: start_point = 12 end_point = 13 length = 2\n",
            "Edge 23: start_point = 12 end_point = 17 length = 2\n",
            "Edge 24: start_point = 13 end_point = 14 length = 2\n",
            "Edge 25: start_point = 13 end_point = 18 length = 2\n",
            "Edge 26: start_point = 14 end_point = 19 length = 2\n",
            "Edge 27: start_point = 15 end_point = 16 length = 2\n",
            "Edge 28: start_point = 15 end_point = 20 length = 2\n",
            "Edge 29: start_point = 16 end_point = 17 length = 2\n",
            "Edge 30: start_point = 16 end_point = 21 length = 2\n",
            "Edge 31: start_point = 17 end_point = 18 length = 2\n",
            "Edge 32: start_point = 17 end_point = 22 length = 2\n",
            "Edge 33: start_point = 18 end_point = 19 length = 2\n",
            "Edge 34: start_point = 18 end_point = 23 length = 2\n",
            "Edge 35: start_point = 19 end_point = 24 length = 2\n",
            "Edge 36: start_point = 20 end_point = 21 length = 2\n",
            "Edge 37: start_point = 21 end_point = 22 length = 2\n",
            "Edge 38: start_point = 22 end_point = 23 length = 2\n",
            "Edge 39: start_point = 23 end_point = 24 length = 2\n"
          ]
        }
      ]
    },
    {
      "cell_type": "code",
      "source": [
        "data = []\n",
        "n_data = 20\n",
        "for i in range(n_data):\n",
        "    data.append(Data(np.random.randint(n_router),np.random.randint(n_router),np.random.random(),i))\n",
        "#Priority has been passed according to order of creation\n",
        "\n",
        "for i in range(n_data):\n",
        "    print(\"Data Packet {}: start_point = {}, target = {}, size = {}, priority = {}\".format(i,data[i].now,data[i].target,data[i].size,data[i].priority))\n"
      ],
      "metadata": {
        "colab": {
          "base_uri": "https://localhost:8080/"
        },
        "id": "glkNWYGt28Nm",
        "outputId": "3f1ef5c0-4481-41cd-d93e-15188aa2d6ff"
      },
      "execution_count": null,
      "outputs": [
        {
          "output_type": "stream",
          "name": "stdout",
          "text": [
            "Data Packet 0: start_point = 21, target = 9, size = 0.3606482298913497, priority = 0\n",
            "Data Packet 1: start_point = 19, target = 15, size = 0.6665797871142061, priority = 1\n",
            "Data Packet 2: start_point = 13, target = 18, size = 0.3169344045270427, priority = 2\n",
            "Data Packet 3: start_point = 19, target = 24, size = 0.7884013821011947, priority = 3\n",
            "Data Packet 4: start_point = 1, target = 11, size = 0.9639918900532157, priority = 4\n",
            "Data Packet 5: start_point = 19, target = 12, size = 0.7661334427046205, priority = 5\n",
            "Data Packet 6: start_point = 4, target = 23, size = 0.7041708579158387, priority = 6\n",
            "Data Packet 7: start_point = 22, target = 21, size = 0.49238769374958247, priority = 7\n",
            "Data Packet 8: start_point = 17, target = 16, size = 0.5811905860511556, priority = 8\n",
            "Data Packet 9: start_point = 19, target = 23, size = 0.204462090368564, priority = 9\n",
            "Data Packet 10: start_point = 11, target = 11, size = 0.7050739331699543, priority = 10\n",
            "Data Packet 11: start_point = 21, target = 14, size = 0.7345698419441622, priority = 11\n",
            "Data Packet 12: start_point = 5, target = 0, size = 0.357853622493038, priority = 12\n",
            "Data Packet 13: start_point = 15, target = 0, size = 0.8839452010587486, priority = 13\n",
            "Data Packet 14: start_point = 17, target = 13, size = 0.45903831341293444, priority = 14\n",
            "Data Packet 15: start_point = 11, target = 22, size = 0.8442123747002839, priority = 15\n",
            "Data Packet 16: start_point = 6, target = 24, size = 0.8392679973492582, priority = 16\n",
            "Data Packet 17: start_point = 20, target = 2, size = 0.39301064275387176, priority = 17\n",
            "Data Packet 18: start_point = 15, target = 1, size = 0.6851680651495623, priority = 18\n",
            "Data Packet 19: start_point = 15, target = 20, size = 0.6300012926595372, priority = 19\n"
          ]
        }
      ]
    },
    {
      "cell_type": "code",
      "source": [
        "def observation(router, edges, data, n_router, n_data, t_edge):\n",
        "\tobs = []\n",
        "\tfor i in range(n_data):\n",
        "\t\tob=[]\n",
        "\n",
        "\t\t####meta information####\n",
        "\t\tob.append(data[i].now)\n",
        "\t\tob.append(data[i].target)\n",
        "\t\tob.append(data[i].edge)\n",
        "\t\tob.append(data[i].size)\n",
        "\t\tob.append(data[i].priority)\n",
        "\n",
        "\t\t####edge information####\n",
        "\t\tedge_count=0\n",
        "\t\tfor j in router[data[i].now].edge:\n",
        "\t\t\tedge_count+=1\n",
        "\t\t\tob.append(j)\n",
        "\t\t\tob.append(edges[j].start)\n",
        "\t\t\tob.append(edges[j].end)\n",
        "\t\t\tob.append(edges[j].len)\n",
        "\t\t\tob.append(edges[j].load)\n",
        "\t\tfor j in range(4-edge_count): ####\n",
        "\t\t\tfor k in range(5): ####\n",
        "\t\t\t\tob.append(-1) #invalid placeholder  ####\n",
        "\n",
        "\t\t####other datas####\n",
        "\t\tcount =0;\n",
        "\t\tdata[i].neigh = []\n",
        "\t\tdata[i].neigh.append(i)\n",
        "\n",
        "\t\tfor j in range(n_data):\n",
        "\t\t\tif j==i:\n",
        "\t\t\t\tcontinue\n",
        "\t\t\tif (data[j].now in router[data[i].now].neighbor)|(data[j].now == data[i].now):\n",
        "\t\t\t\tcount+=1\n",
        "\t\t\t\tob.append(data[j].now)\n",
        "\t\t\t\tob.append(data[j].target)\n",
        "\t\t\t\tob.append(data[j].edge)\n",
        "\t\t\t\tob.append(data[j].size)\n",
        "\t\t\t\tob.append(data[i].priority)\n",
        "\t\t\t\tdata[i].neigh.append(j)\n",
        "\n",
        "\t\t\tif count==3:\n",
        "\t\t\t\tbreak\n",
        "\t\tfor j in range(3-count):\n",
        "\t\t\tdata[i].neigh.append(-1)\n",
        "\t\t\tfor k in range(5):\n",
        "\t\t\t\tob.append(-1) #invalid placeholder\n",
        "\n",
        "\t\tobs.append(np.array(ob))\n",
        "\treturn obs\n",
        "\n"
      ],
      "metadata": {
        "id": "NlK8IDNK3NAn"
      },
      "execution_count": null,
      "outputs": []
    },
    {
      "cell_type": "code",
      "source": [
        "path = [[] for _ in range(n_data)]\n",
        "print(path)\n",
        "\n",
        "for i in range(n_data):\n",
        "    path[i].append(\"Start:\"+str(data[i].now))\n",
        "print(path)"
      ],
      "metadata": {
        "colab": {
          "base_uri": "https://localhost:8080/"
        },
        "id": "AUW-DDUU3Fem",
        "outputId": "56f88a33-24bb-44e6-f5dd-0e642db95f21"
      },
      "execution_count": null,
      "outputs": [
        {
          "output_type": "stream",
          "name": "stdout",
          "text": [
            "[[], [], [], [], [], [], [], [], [], [], [], [], [], [], [], [], [], [], [], []]\n",
            "[['Start:21'], ['Start:19'], ['Start:13'], ['Start:19'], ['Start:1'], ['Start:19'], ['Start:4'], ['Start:22'], ['Start:17'], ['Start:19'], ['Start:11'], ['Start:21'], ['Start:5'], ['Start:15'], ['Start:17'], ['Start:11'], ['Start:6'], ['Start:20'], ['Start:15'], ['Start:15']]\n"
          ]
        }
      ]
    },
    {
      "cell_type": "code",
      "source": [
        "class Generator(nn.Module):\n",
        "    def __init__(self, input_size, hidden_dim, output_size):\n",
        "        super(Generator, self).__init__()\n",
        "        self.input_size = input_size\n",
        "        self.output_size = output_size\n",
        "        self.hidden_dim = hidden_dim\n",
        "        self.net = nn.Sequential(\n",
        "            nn.Linear(input_size, hidden_dim),\n",
        "            nn.ReLU(True),\n",
        "            nn.Linear(hidden_dim, output_size),\n",
        "            nn.Tanh()\n",
        "        )\n",
        "\n",
        "    def forward(self, x):\n",
        "        return self.net(x)\n",
        "\n",
        "class Discriminator(nn.Module):\n",
        "    def __init__(self, input_size, hidden_dim):\n",
        "        super(Discriminator, self).__init__()\n",
        "        self.input_size = input_size\n",
        "        self.hidden_dim = hidden_dim\n",
        "        self.net = nn.Sequential(\n",
        "            nn.Linear(input_size, hidden_dim),\n",
        "            nn.LeakyReLU(0.2, inplace=True),\n",
        "            nn.Linear(hidden_dim, 1),\n",
        "            nn.Sigmoid()\n",
        "        )\n",
        "\n",
        "    def forward(self, x):\n",
        "        return self.net(x)\n"
      ],
      "metadata": {
        "id": "ttvUGL_jPUDq"
      },
      "execution_count": null,
      "outputs": []
    },
    {
      "cell_type": "code",
      "source": [
        "class QLearningModel(nn.Module):\n",
        "    def __init__(self, state_size, action_size, hidden_dim):\n",
        "        super(QLearningModel, self).__init__()\n",
        "        self.state_size = state_size\n",
        "        self.action_size = action_size\n",
        "        self.hidden_dim = hidden_dim\n",
        "        self.net = nn.Sequential(\n",
        "            nn.Linear(state_size, hidden_dim),\n",
        "            nn.ReLU(),\n",
        "            nn.Linear(hidden_dim, action_size)\n",
        "        )\n",
        "\n",
        "    def forward(self, x):\n",
        "        return self.net(x)\n"
      ],
      "metadata": {
        "id": "9k38Gw9QPULM"
      },
      "execution_count": null,
      "outputs": []
    },
    {
      "cell_type": "code",
      "source": [
        "def train_gan(generator, discriminator, gen_optimizer, disc_optimizer, real_data_loader, epochs, device):\n",
        "    criterion = nn.BCELoss()\n",
        "\n",
        "    for epoch in range(epochs):\n",
        "     for batch in real_data_loader:\n",
        "            real_data = batch[0].to(device)\n",
        "            batch_size = real_data.size(0)\n",
        "\n",
        "            disc_optimizer.zero_grad()\n",
        "            real_labels = torch.ones(batch_size, 1).to(device)\n",
        "            real_output = discriminator(real_data)\n",
        "            real_loss = criterion(real_output, real_labels)\n",
        "\n",
        "\n",
        "            noise = torch.randn(batch_size, generator.input_size).to(device)\n",
        "            fake_data = generator(noise)\n",
        "            fake_labels = torch.zeros(batch_size, 1).to(device)\n",
        "            fake_output = discriminator(fake_data.detach())\n",
        "            fake_loss = criterion(fake_output, fake_labels)\n",
        "\n",
        "\n",
        "            disc_loss = real_loss + fake_loss\n",
        "            disc_loss.backward()\n",
        "            disc_optimizer.step()\n",
        "\n",
        "\n",
        "            gen_optimizer.zero_grad()\n",
        "            trick_labels = torch.ones(batch_size, 1).to(device)\n",
        "            trick_output = discriminator(fake_data)\n",
        "            gen_loss = criterion(trick_output, trick_labels)\n",
        "\n",
        "            # Update Generator\n",
        "            gen_loss.backward()\n",
        "            gen_optimizer.step()\n",
        "\n",
        "    print(f'Epoch [{epoch+1}/{epochs}], Loss D: {disc_loss.item()}, Loss G: {gen_loss.item()}')\n"
      ],
      "metadata": {
        "id": "rlfu_WrkPUNd"
      },
      "execution_count": null,
      "outputs": []
    },
    {
      "cell_type": "code",
      "source": [
        "\n",
        "location_to_state = {}\n",
        "for i in range(25):\n",
        "    #location_to_state maps each location (node) in the grid to a state in the RL model.\n",
        "    location_to_state[str(i+1)] = i\n",
        "\n",
        "# # Print the dictionary to understand its structure\n",
        "\n",
        "# print(\"location_to_state dictionary content:\")\n",
        "# for  value in location_to_state.items():\n",
        "#     print(f\"State: {value}\")"
      ],
      "metadata": {
        "id": "MIH26so-FhYi"
      },
      "execution_count": null,
      "outputs": []
    },
    {
      "cell_type": "code",
      "source": [
        "def simulate_environment_response(current_state, action, reward_array, location_to_state, state_to_location, gamma=0.75, alpha=0.9, device='cpu'):\n",
        "\n",
        "    invalid_state_tensor = torch.zeros(state_size).to(device)  # Adjust state size\n",
        "\n",
        "    if current_state not in location_to_state:\n",
        "\n",
        "        return invalid_state_tensor, torch.tensor([0.], device=device)\n",
        "\n",
        "    current_state_index = location_to_state[current_state]\n",
        "\n",
        "    next_state_index = action\n",
        "    if next_state_index not in state_to_location:\n",
        "        return invalid_state_tensor, torch.tensor([0.], device=device)\n",
        "\n",
        "    next_state = state_to_location[next_state_index]\n",
        "    reward = torch.tensor([reward_array[current_state_index, next_state_index]], device=device)\n",
        "\n",
        "    return next_state, reward\n"
      ],
      "metadata": {
        "id": "G0JplPzYEJbD"
      },
      "execution_count": null,
      "outputs": []
    },
    {
      "cell_type": "code",
      "source": [
        "def pretrain_q_learning_model(model, generator, pretrain_epochs, learning_rate, state_size, action_size, device, reward_array, location_to_state, state_to_location):\n",
        "    optimizer = optim.Adam(model.parameters(), lr=learning_rate)\n",
        "    criterion = nn.MSELoss()\n",
        "\n",
        "    for epoch in range(pretrain_epochs):\n",
        "        noise = torch.randn((1, generator.input_size), device=device)\n",
        "        synthetic_state = generator(noise)\n",
        "\n",
        "        synthetic_state_flat = synthetic_state.view(-1)\n",
        "\n",
        "        synthetic_state_flat = synthetic_state_flat.unsqueeze(0) if synthetic_state_flat.dim() == 1 else synthetic_state_flat\n",
        "\n",
        "        q_values = model(synthetic_state_flat)  # Get Q-values from model\n",
        "        _, predicted_action = torch.max(q_values, 1)  # Choose action\n",
        "\n",
        "        predicted_action = predicted_action.item()  # Assuming action needs to be a scalar\n",
        "\n",
        "        next_state, reward = simulate_environment_response(\n",
        "            current_state=synthetic_state_flat,\n",
        "            action=predicted_action,\n",
        "            reward_array=reward_array,\n",
        "            location_to_state=location_to_state,\n",
        "            state_to_location=state_to_location,\n",
        "            device=device\n",
        "        )\n",
        "\n",
        "        # Inside pretrain_q_learning_model\n",
        "        if isinstance(next_state, str):  # This is just a debugging line\n",
        "          next_state = torch.zeros(state_size).to(device)\n",
        "          raise TypeError(\"next_state is a string, which is incorrect.\")\n",
        "\n",
        "        target_q_value = reward + torch.max(model(next_state)).detach()\n",
        "        current_q_value = q_values[0][predicted_action]\n",
        "        loss = criterion(current_q_value, target_q_value)\n",
        "\n",
        "        # Backpropagation\n",
        "        optimizer.zero_grad()\n",
        "        loss.backward()\n",
        "        optimizer.step()\n",
        "\n",
        "        if epoch % 10 == 0:\n",
        "            print(f'Pre-training Epoch {epoch}, Loss: {loss.item()}')\n"
      ],
      "metadata": {
        "id": "I9aBajhzPUSs"
      },
      "execution_count": null,
      "outputs": []
    },
    {
      "cell_type": "code",
      "source": [
        "def fine_tune_q_learning_model(model, fine_tune_epochs, learning_rate, state_size, action_size, device, reward_array, location_to_state, state_to_location):\n",
        "    optimizer = optim.Adam(model.parameters(), lr=learning_rate)\n",
        "    criterion = nn.MSELoss()\n",
        "\n",
        "    for epoch in range(fine_tune_epochs):\n",
        "        # Simulate receiving a real state from the NoC environment\n",
        "        real_state = get_real_noc_state()\n",
        "\n",
        "        # Ensure real_state is correctly shaped with a batch dimension\n",
        "        real_state = real_state.unsqueeze(0) if real_state.dim() == 1 else real_state\n",
        "\n",
        "        q_values = model(real_state.to(device))\n",
        "\n",
        "        # If your model's output is expected to be [batch_size, number_of_actions]\n",
        "        # then torch.max(q_values, 1) should work. However, if the batch size is 1,\n",
        "        # you can use torch.max(q_values, dim=-1) to be dimension-agnostic\n",
        "        _, predicted_action = torch.max(q_values, dim=-1)\n",
        "\n",
        "        # Simulate the environment response\n",
        "        # Ensure you pass all required arguments here\n",
        "        next_state, reward = simulate_environment_response(real_state, predicted_action, reward_array, location_to_state, state_to_location)\n",
        "\n",
        "        # Update Q-values\n",
        "        target_q_value = reward + torch.max(model(next_state)).detach()\n",
        "        current_q_value = q_values[0][predicted_action]\n",
        "        loss = criterion(current_q_value, target_q_value)\n",
        "\n",
        "        # Backpropagation\n",
        "        optimizer.zero_grad()\n",
        "        loss.backward()\n",
        "        optimizer.step()\n",
        "\n",
        "        if epoch % 10 == 0:\n",
        "            print(f'Fine-tuning Epoch {epoch}, Loss: {loss.item()}')\n"
      ],
      "metadata": {
        "id": "_hei43bEPUVS"
      },
      "execution_count": null,
      "outputs": []
    },
    {
      "cell_type": "code",
      "source": [
        "# Initialize models\n",
        "output_size = 130\n",
        "input_size = 130  # Generator's output size\n",
        "device = torch.device(\"cuda\" if torch.cuda.is_available() else \"cpu\")\n",
        "state_size = 134\n",
        "action_size = 5\n",
        "\n",
        "generator = Generator(input_size=100, hidden_dim=128, output_size=134).to(device)  # Adjust output_size to 134\n",
        "\n",
        "discriminator = Discriminator(input_size=134, hidden_dim=128).to(device)  # Adjust input_size to 134\n",
        "\n",
        "q_model = QLearningModel(state_size=state_size, action_size=action_size, hidden_dim=128).to(device)\n",
        "\n",
        "gen_optimizer = optim.Adam(generator.parameters(), lr=0.002)\n",
        "disc_optimizer = optim.Adam(discriminator.parameters(), lr=0.002)\n",
        "q_optimizer = optim.Adam(q_model.parameters(), lr=0.01)\n"
      ],
      "metadata": {
        "id": "sY-6wUMxPUXp"
      },
      "execution_count": null,
      "outputs": []
    },
    {
      "cell_type": "code",
      "source": [
        "def create_network_state_vectors(routers, edges, data_packets):\n",
        "    state_vectors = []\n",
        "    for data_packet in data_packets:\n",
        "        state_vector = []\n",
        "\n",
        "        for router in routers:\n",
        "            state_vector.append(router.x)\n",
        "            state_vector.append(router.y)\n",
        "            # Add additional router-specific features as needed\n",
        "\n",
        "        # Add features for each edge\n",
        "        for edge in edges:\n",
        "            state_vector.append(edge.len)\n",
        "            state_vector.append(edge.load)\n",
        "            # any other additional edge-specific features if needed\n",
        "\n",
        "        # Add features for the data packet\n",
        "        state_vector.append(data_packet.now)\n",
        "        state_vector.append(data_packet.target)\n",
        "        state_vector.append(data_packet.size)\n",
        "        state_vector.append(data_packet.priority)\n",
        "\n",
        "        # Append the state vector for this data packet to the list\n",
        "        state_vectors.append(state_vector)\n",
        "\n",
        "    return state_vectors\n",
        "\n",
        "simulated_network_states = create_network_state_vectors(router, edges, data)\n"
      ],
      "metadata": {
        "id": "YFOUOhJ_rKzu"
      },
      "execution_count": null,
      "outputs": []
    },
    {
      "cell_type": "code",
      "source": [
        "import csv\n",
        "\n",
        "def create_network_state_vectors_and_export_csv(routers, edges, data_packets, csv_filename):\n",
        "    state_vectors = []\n",
        "\n",
        "    # Open a CSV file for writing\n",
        "    with open(csv_filename, 'w', newline='') as csvfile:\n",
        "        # Initialize a CSV writer\n",
        "        csvwriter = csv.writer(csvfile)\n",
        "\n",
        "        # (Optional) Write headers to the CSV file\n",
        "        headers = ['router_x', 'router_y'] * len(routers) + \\\n",
        "                  ['edge_len', 'edge_load'] * len(edges) + \\\n",
        "                  ['data_now', 'data_target', 'data_size', 'data_priority']\n",
        "        csvwriter.writerow(headers)\n",
        "\n",
        "        for data_packet in data_packets:\n",
        "            state_vector = []\n",
        "\n",
        "            for router in routers:\n",
        "                state_vector.append(router.x)\n",
        "                state_vector.append(router.y)\n",
        "                # Add additional router-specific features as needed\n",
        "\n",
        "            # Add features for each edge\n",
        "            for edge in edges:\n",
        "                state_vector.append(edge.len)\n",
        "                state_vector.append(edge.load)\n",
        "                # any other additional edge-specific features if needed\n",
        "\n",
        "            # Add features for the data packet\n",
        "            state_vector.append(data_packet.now)\n",
        "            state_vector.append(data_packet.target)\n",
        "            state_vector.append(data_packet.size)\n",
        "            state_vector.append(data_packet.priority)\n",
        "\n",
        "            # Append the state vector for this data packet to the list\n",
        "            state_vectors.append(state_vector)\n",
        "\n",
        "            # Write the state vector to the CSV file\n",
        "            csvwriter.writerow(state_vector)\n",
        "\n",
        "    return state_vectors\n",
        "\n",
        "# Example usage\n",
        "csv_filename = 'simulated_network_states.csv'\n",
        "simulated_network_states = create_network_state_vectors_and_export_csv(router, edges, data, csv_filename)\n"
      ],
      "metadata": {
        "id": "SO5LHhMhCS9j"
      },
      "execution_count": null,
      "outputs": []
    },
    {
      "cell_type": "code",
      "source": [
        "len(simulated_network_states)"
      ],
      "metadata": {
        "colab": {
          "base_uri": "https://localhost:8080/"
        },
        "id": "7HEM0ItrnYs5",
        "outputId": "47fed50f-2d27-4992-f52e-e59ae48e7c0c"
      },
      "execution_count": null,
      "outputs": [
        {
          "output_type": "execute_result",
          "data": {
            "text/plain": [
              "20"
            ]
          },
          "metadata": {},
          "execution_count": 19
        }
      ]
    },
    {
      "cell_type": "code",
      "source": [
        "\n",
        "from torch.utils.data import DataLoader, TensorDataset\n",
        "\n",
        "\n",
        "simulated_data_tensors = torch.tensor(simulated_network_states, dtype=torch.float32)\n",
        "data_loader = DataLoader(TensorDataset(simulated_data_tensors), batch_size=64, shuffle=True)\n"
      ],
      "metadata": {
        "id": "7FjkamWgqWnn"
      },
      "execution_count": null,
      "outputs": []
    },
    {
      "cell_type": "markdown",
      "source": [
        "## checking if dataloader is sending bataches correctly"
      ],
      "metadata": {
        "id": "x5vXrFWerkXh"
      }
    },
    {
      "cell_type": "code",
      "source": [
        "for batch in data_loader:\n",
        "    print(type(batch), type(batch[0]))\n",
        "    break\n"
      ],
      "metadata": {
        "colab": {
          "base_uri": "https://localhost:8080/"
        },
        "id": "yGzw9P1arj3K",
        "outputId": "b727d2ce-6fba-4931-93bc-f143f61cca70"
      },
      "execution_count": null,
      "outputs": [
        {
          "output_type": "stream",
          "name": "stdout",
          "text": [
            "<class 'list'> <class 'torch.Tensor'>\n"
          ]
        }
      ]
    },
    {
      "cell_type": "code",
      "source": [
        "# Assuming you have defined the train_gan function and initialized the GAN components as shown earlier\n",
        "train_gan(generator, discriminator, gen_optimizer, disc_optimizer, data_loader, epochs=200, device=device)\n"
      ],
      "metadata": {
        "id": "ZJLlhc9LPUZ7",
        "colab": {
          "base_uri": "https://localhost:8080/"
        },
        "outputId": "42944502-5ec9-432e-f1ff-93fa430bdffe"
      },
      "execution_count": null,
      "outputs": [
        {
          "output_type": "stream",
          "name": "stdout",
          "text": [
            "Epoch [200/200], Loss D: 0.07521029561758041, Loss G: 3.7124524116516113\n"
          ]
        }
      ]
    },
    {
      "cell_type": "code",
      "source": [
        "# Set the number of synthetic samples you want to generate\n",
        "num_synthetic_samples = 1000\n",
        "synthetic_states = []\n",
        "\n",
        "with torch.no_grad():\n",
        "    for _ in range(num_synthetic_samples):\n",
        "        noise = torch.randn((1, generator.input_size), device=device)  # Generate random noise\n",
        "        synthetic_state = generator(noise)  # Generate a synthetic state\n",
        "        synthetic_states.append(synthetic_state)\n",
        "\n",
        "# Convert list of tensors to a single tensor\n",
        "synthetic_states_tensor = torch.cat(synthetic_states, dim=0)\n"
      ],
      "metadata": {
        "id": "tR2xV30EPUcY"
      },
      "execution_count": null,
      "outputs": []
    },
    {
      "cell_type": "code",
      "source": [
        "state_to_location = dict((state,location) for location,state in location_to_state.items())\n",
        "print(state_to_location)"
      ],
      "metadata": {
        "colab": {
          "base_uri": "https://localhost:8080/"
        },
        "id": "drtVOcsRIt-b",
        "outputId": "439cc907-595c-4ef4-918d-44574e7083cf"
      },
      "execution_count": null,
      "outputs": [
        {
          "output_type": "stream",
          "name": "stdout",
          "text": [
            "{0: '1', 1: '2', 2: '3', 3: '4', 4: '5', 5: '6', 6: '7', 7: '8', 8: '9', 9: '10', 10: '11', 11: '12', 12: '13', 13: '14', 14: '15', 15: '16', 16: '17', 17: '18', 18: '19', 19: '20', 20: '21', 21: '22', 22: '23', 23: '24', 24: '25'}\n"
          ]
        }
      ]
    },
    {
      "cell_type": "code",
      "source": [
        "reward_array = np.zeros((5,5))\n",
        "\n",
        "# Make sure these variables are defined and properly set up before this call\n",
        "pretrain_q_learning_model(\n",
        "    q_model,\n",
        "    generator,\n",
        "    pretrain_epochs=200,\n",
        "    learning_rate=0.01,\n",
        "    state_size=state_size,\n",
        "    action_size=action_size,\n",
        "    device=device,\n",
        "    reward_array=reward_array,  # This should be your NoC's reward matrix\n",
        "    location_to_state=location_to_state,  # Mapping from NoC locations to state indices\n",
        "    state_to_location=state_to_location   # Mapping from state indices back to NoC locations\n",
        ")\n"
      ],
      "metadata": {
        "colab": {
          "base_uri": "https://localhost:8080/"
        },
        "id": "1PhZ7BI8IjnZ",
        "outputId": "b06ca6cd-3c27-4d91-a849-376dcb9f3976"
      },
      "execution_count": null,
      "outputs": [
        {
          "output_type": "stream",
          "name": "stdout",
          "text": [
            "Pre-training Epoch 0, Loss: 0.00031447355286218226\n",
            "Pre-training Epoch 10, Loss: 0.0054451399482786655\n",
            "Pre-training Epoch 20, Loss: 9.621922799851745e-05\n",
            "Pre-training Epoch 30, Loss: 0.0013711588690057397\n",
            "Pre-training Epoch 40, Loss: 0.0002821683883666992\n",
            "Pre-training Epoch 50, Loss: 0.0021893256343901157\n",
            "Pre-training Epoch 60, Loss: 0.004618208389729261\n"
          ]
        },
        {
          "output_type": "stream",
          "name": "stderr",
          "text": [
            "/usr/local/lib/python3.10/dist-packages/torch/nn/modules/loss.py:535: UserWarning: Using a target size (torch.Size([1])) that is different to the input size (torch.Size([])). This will likely lead to incorrect results due to broadcasting. Please ensure they have the same size.\n",
            "  return F.mse_loss(input, target, reduction=self.reduction)\n"
          ]
        },
        {
          "output_type": "stream",
          "name": "stdout",
          "text": [
            "Pre-training Epoch 70, Loss: 0.00029878580244258046\n",
            "Pre-training Epoch 80, Loss: 0.0019890579860657454\n",
            "Pre-training Epoch 90, Loss: 0.0002672571281436831\n",
            "Pre-training Epoch 100, Loss: 1.32155104637377e-08\n",
            "Pre-training Epoch 110, Loss: 5.626252095680684e-05\n",
            "Pre-training Epoch 120, Loss: 0.000705874408595264\n",
            "Pre-training Epoch 130, Loss: 9.059745207196102e-05\n",
            "Pre-training Epoch 140, Loss: 4.443402872311708e-07\n",
            "Pre-training Epoch 150, Loss: 3.0302227969514206e-05\n",
            "Pre-training Epoch 160, Loss: 5.9074682923210275e-08\n",
            "Pre-training Epoch 170, Loss: 3.171021307935007e-05\n",
            "Pre-training Epoch 180, Loss: 3.8105074509076076e-06\n",
            "Pre-training Epoch 190, Loss: 4.570587771013379e-05\n"
          ]
        }
      ]
    },
    {
      "cell_type": "code",
      "source": [
        "q_model.eval()\n",
        "\n",
        "with torch.no_grad():  # No need to track gradients during evaluation\n",
        "    for i, test_state in enumerate(synthetic_states_tensor):\n",
        "\n",
        "        state_tensor = test_state.clone().detach().to(device) if isinstance(test_state, torch.Tensor) else torch.tensor(test_state, dtype=torch.float32).to(device)\n",
        "\n",
        "        q_values = q_model(state_tensor)\n",
        "        predicted_action = torch.argmax(q_values, dim=0).item()\n",
        "        if i < 10:\n",
        "            print(f\"Test State is: {test_state}, Predicted Action is: {predicted_action}\")\n"
      ],
      "metadata": {
        "id": "bzN_HgUQPUhN",
        "colab": {
          "base_uri": "https://localhost:8080/"
        },
        "outputId": "b01a4b75-dc20-4218-8b20-3b55b9511140"
      },
      "execution_count": null,
      "outputs": [
        {
          "output_type": "stream",
          "name": "stdout",
          "text": [
            "Test State is: tensor([-1.0881e-01, -3.3589e-03,  1.8314e-04,  8.9059e-02,  8.4869e-02,\n",
            "         4.3481e-03,  2.3855e-01, -3.2278e-02, -1.8112e-01, -9.4438e-02,\n",
            "        -1.4145e-01,  1.0724e-01, -1.6266e-01,  3.7886e-02, -1.8372e-01,\n",
            "        -3.2668e-02,  1.0873e-01, -2.1204e-01,  1.4262e-01, -1.5555e-01,\n",
            "         9.7391e-02,  1.7775e-01, -2.2448e-01,  1.9940e-01, -2.5409e-02,\n",
            "        -1.3844e-02,  5.1426e-02, -1.3249e-01, -7.1347e-02, -8.7346e-02,\n",
            "         1.3105e-01, -1.1053e-01, -9.8690e-02, -2.4461e-02, -4.3451e-04,\n",
            "        -1.4147e-04,  1.5121e-01,  1.6539e-01,  6.9291e-02, -1.9293e-01,\n",
            "        -1.2201e-01, -1.2062e-01,  2.9114e-02, -6.9763e-02,  4.2098e-02,\n",
            "        -1.3728e-01, -1.0092e-01,  1.3093e-01, -2.2204e-01,  2.1551e-01,\n",
            "         2.2292e-01,  9.4428e-02,  3.1677e-01,  9.9034e-02,  3.8958e-02,\n",
            "        -1.4079e-01,  1.7832e-01,  1.4376e-01, -5.1911e-02,  1.0476e-01,\n",
            "        -9.1497e-02,  1.8503e-01, -1.0313e-01,  2.2110e-02, -5.9078e-02,\n",
            "         3.9468e-02, -1.6818e-01,  1.6545e-02,  1.2064e-01,  1.1623e-01,\n",
            "         1.1796e-01, -1.1169e-01, -3.2072e-02,  2.1382e-01, -8.0876e-02,\n",
            "        -1.9252e-01,  3.3503e-01, -1.5375e-01,  2.7628e-02,  1.4901e-01,\n",
            "         1.4445e-01,  1.1159e-01,  3.1905e-01,  1.6368e-01,  1.9081e-01,\n",
            "        -1.6849e-01,  2.8935e-01,  1.5096e-01, -8.7077e-02, -3.4427e-02,\n",
            "        -4.6631e-02, -1.9885e-01,  2.4673e-01, -7.9833e-02, -2.6605e-02,\n",
            "        -7.8661e-02,  1.4776e-01, -1.2894e-01,  2.8331e-01,  2.2744e-02,\n",
            "         6.9723e-02,  1.1771e-01,  2.2378e-01,  1.7844e-01,  2.6725e-01,\n",
            "         2.0745e-01, -8.6534e-02,  2.3314e-02, -1.1461e-01,  1.5920e-01,\n",
            "        -6.6477e-03, -1.4897e-01,  1.4698e-01,  2.0304e-01,  1.2581e-01,\n",
            "        -4.0649e-03, -4.3421e-02,  1.7624e-01,  7.0476e-02, -1.0366e-01,\n",
            "         3.1128e-01,  1.8544e-01, -5.2648e-02, -2.8115e-02,  1.6416e-03,\n",
            "        -1.4312e-01,  4.7930e-02, -1.7126e-01,  9.0346e-02, -1.1137e-01,\n",
            "         5.9147e-01,  7.2593e-01, -2.0170e-02,  6.0266e-01]), Predicted Action is: 2\n",
            "Test State is: tensor([-0.2631,  0.0055,  0.1210,  0.0933,  0.1929,  0.0662,  0.3473, -0.0448,\n",
            "        -0.2937, -0.2183, -0.1790,  0.2008, -0.2762, -0.0500, -0.2874,  0.0120,\n",
            "         0.2768, -0.2374,  0.3136, -0.3363,  0.1892,  0.3107, -0.3581,  0.3781,\n",
            "        -0.1456,  0.0548, -0.0523, -0.2454, -0.0193, -0.2976,  0.2347, -0.3976,\n",
            "        -0.1847, -0.1949,  0.0329, -0.0453,  0.2190,  0.2553,  0.0701, -0.2992,\n",
            "        -0.1816, -0.3272,  0.0387, -0.1362,  0.1022, -0.2395, -0.3912,  0.0532,\n",
            "        -0.3913,  0.3328,  0.3313,  0.2892,  0.4000,  0.2686,  0.0215, -0.2413,\n",
            "         0.3963,  0.3528, -0.1239,  0.3201, -0.2344,  0.2849, -0.0993, -0.0130,\n",
            "        -0.0639,  0.1068, -0.2284, -0.0485,  0.1921,  0.2759,  0.1757, -0.1985,\n",
            "        -0.1481,  0.3358, -0.2464, -0.2364,  0.5156, -0.2622,  0.0439,  0.2404,\n",
            "         0.2370,  0.1894,  0.4483,  0.3205,  0.2697, -0.2606,  0.4657,  0.2210,\n",
            "        -0.1787, -0.2261, -0.0669, -0.3213,  0.4696, -0.0525, -0.1641, -0.2680,\n",
            "         0.2675, -0.0851,  0.5022,  0.0953,  0.2307,  0.1700,  0.4069,  0.4044,\n",
            "         0.4625,  0.2687, -0.3397,  0.0877, -0.1865,  0.2740, -0.1439, -0.1487,\n",
            "         0.2920,  0.2874,  0.1357, -0.1418, -0.0612,  0.2535,  0.1601, -0.2459,\n",
            "         0.4673,  0.2487, -0.0717,  0.0956,  0.0369, -0.2612,  0.0798, -0.3282,\n",
            "         0.1672, -0.2588,  0.7877,  0.8732, -0.2095,  0.8007]), Predicted Action is: 2\n",
            "Test State is: tensor([-0.1410,  0.0046,  0.0343,  0.0550,  0.1020,  0.0049,  0.2290, -0.0197,\n",
            "        -0.1854, -0.1515, -0.1844,  0.0847, -0.2071, -0.0306, -0.2281,  0.0180,\n",
            "         0.1637, -0.1963,  0.1501, -0.1634,  0.1284,  0.1809, -0.2223,  0.2203,\n",
            "        -0.0442,  0.0182,  0.0219, -0.1701, -0.0265, -0.1623,  0.1349, -0.2074,\n",
            "        -0.1233, -0.0687,  0.0513, -0.0248,  0.1308,  0.1266,  0.0691, -0.1522,\n",
            "        -0.0940, -0.1537,  0.0079, -0.1082,  0.0555, -0.1932, -0.1885,  0.0408,\n",
            "        -0.2272,  0.2375,  0.2126,  0.2037,  0.2800,  0.1292,  0.0687, -0.1148,\n",
            "         0.2000,  0.1679, -0.0310,  0.0985, -0.0829,  0.1911, -0.0923, -0.0175,\n",
            "        -0.0601,  0.0902, -0.1574, -0.0091,  0.1114,  0.1450,  0.0586, -0.1117,\n",
            "        -0.0839,  0.2443, -0.1377, -0.1108,  0.3291, -0.1727,  0.0173,  0.1730,\n",
            "         0.1545,  0.0861,  0.2543,  0.1847,  0.1762, -0.1724,  0.3221,  0.1635,\n",
            "        -0.0915, -0.0951, -0.0185, -0.1705,  0.2731, -0.0025, -0.0792, -0.1209,\n",
            "         0.1560, -0.1023,  0.3181,  0.0157,  0.1777,  0.1210,  0.2429,  0.2229,\n",
            "         0.3237,  0.1889, -0.1800,  0.0184, -0.0807,  0.1537, -0.0975, -0.1040,\n",
            "         0.1281,  0.1408,  0.0843, -0.0079, -0.0164,  0.1979,  0.0640, -0.1505,\n",
            "         0.2834,  0.1791, -0.0710, -0.0193,  0.0541, -0.1531,  0.0218, -0.2105,\n",
            "         0.1440, -0.1784,  0.5917,  0.7063, -0.1011,  0.5867]), Predicted Action is: 2\n",
            "Test State is: tensor([-3.7506e-01,  7.2376e-02,  3.1074e-01,  3.7053e-01,  3.9780e-01,\n",
            "         2.4202e-01,  4.9683e-01, -1.2576e-01, -4.5632e-01, -2.6965e-01,\n",
            "        -2.2712e-01,  3.6028e-01, -2.7655e-01,  2.4013e-01, -4.5291e-01,\n",
            "         6.7738e-02,  3.9435e-01, -4.1439e-01,  4.2270e-01, -4.6708e-01,\n",
            "         2.0586e-01,  3.8548e-01, -4.4899e-01,  5.7307e-01, -3.0610e-01,\n",
            "         1.4072e-01, -4.8323e-02, -3.1700e-01, -1.2374e-01, -2.6851e-01,\n",
            "         4.7956e-01, -3.8947e-01, -3.2281e-01, -3.1440e-01, -2.1241e-01,\n",
            "         1.2605e-01,  4.2083e-01,  5.1704e-01,  2.9671e-01, -5.2113e-01,\n",
            "        -3.5036e-01, -4.7222e-01,  2.8146e-01,  4.6183e-02,  1.8096e-01,\n",
            "        -2.3747e-01, -4.3197e-01,  2.3076e-01, -4.2905e-01,  4.9002e-01,\n",
            "         4.4613e-01,  2.0038e-01,  5.9539e-01,  3.1134e-01, -6.1106e-02,\n",
            "        -4.9375e-01,  4.8083e-01,  4.4662e-01, -2.6349e-01,  4.8892e-01,\n",
            "        -3.3475e-01,  3.6699e-01, -1.7741e-01,  1.5320e-01, -4.5533e-02,\n",
            "         3.4251e-01, -3.6538e-01,  1.5371e-01,  1.0246e-01,  3.9544e-01,\n",
            "         4.9182e-01, -2.4149e-01, -2.3228e-01,  4.2989e-01, -3.4114e-01,\n",
            "        -4.2313e-01,  6.8989e-01, -3.5327e-01, -1.0490e-01,  3.2238e-01,\n",
            "         4.3496e-01,  4.0015e-01,  6.5128e-01,  4.7949e-01,  3.6935e-01,\n",
            "        -5.3734e-01,  6.9914e-01,  2.7261e-01, -2.8327e-01, -3.8174e-01,\n",
            "        -1.4905e-01, -5.2577e-01,  5.5373e-01, -4.1007e-01, -1.2308e-01,\n",
            "        -3.6780e-01,  2.5045e-01, -1.0906e-01,  5.8402e-01,  2.0511e-01,\n",
            "        -5.7831e-05,  3.8202e-01,  6.2175e-01,  4.8525e-01,  6.4875e-01,\n",
            "         1.9784e-01, -1.6289e-01,  2.4963e-01, -3.2426e-01,  3.9060e-01,\n",
            "         2.8732e-02, -4.1705e-01,  5.4432e-01,  5.3340e-01,  4.2534e-01,\n",
            "        -2.9344e-01, -2.3745e-01,  3.6539e-01,  1.7276e-01, -4.4344e-01,\n",
            "         6.3823e-01,  4.4136e-01, -9.7649e-02,  2.2878e-01, -3.9571e-02,\n",
            "        -4.1982e-01,  2.4917e-02, -4.2800e-01,  3.4869e-01, -3.1609e-01,\n",
            "         9.3215e-01,  9.7487e-01, -1.6619e-01,  9.1841e-01]), Predicted Action is: 2\n",
            "Test State is: tensor([-2.5564e-02, -8.0654e-02,  1.6026e-03,  5.6141e-02,  1.9854e-02,\n",
            "        -1.2045e-01,  2.0752e-01,  1.8921e-02, -9.8789e-02, -3.9969e-02,\n",
            "        -2.1910e-01, -2.8358e-02, -1.5321e-01,  7.3363e-03, -1.4085e-01,\n",
            "        -8.6442e-02,  7.3476e-02, -2.2297e-01,  2.4111e-02, -6.0078e-02,\n",
            "         1.4521e-02,  1.0832e-01, -1.0624e-01,  1.8739e-01,  4.8174e-02,\n",
            "        -2.9220e-02,  6.2149e-02, -1.6152e-01, -9.5505e-02, -2.7627e-02,\n",
            "         4.9131e-02, -9.8716e-02, -3.8212e-02,  6.8956e-02,  1.2786e-01,\n",
            "         3.7482e-02,  6.1914e-02,  5.6441e-02,  8.6655e-02, -7.9674e-02,\n",
            "         9.6031e-05, -4.1091e-02, -8.5568e-02, -8.7844e-02,  6.4163e-02,\n",
            "        -1.8220e-01, -6.3814e-02, -1.4369e-02, -1.3243e-01,  1.5950e-01,\n",
            "         1.0309e-01,  1.1893e-01,  2.9948e-01,  5.9018e-02,  1.3237e-01,\n",
            "        -7.5647e-02,  1.9160e-01,  8.4114e-02,  2.7712e-02, -3.7326e-03,\n",
            "        -3.6066e-02,  1.5818e-01, -9.2670e-02, -5.5006e-02, -9.8182e-03,\n",
            "         5.6741e-03, -6.8793e-02,  4.8744e-03,  1.5962e-01,  7.6115e-02,\n",
            "         3.6964e-02, -1.1702e-01, -2.3289e-02,  1.6995e-01, -6.3766e-02,\n",
            "        -1.0255e-02,  2.4327e-01, -1.4505e-01,  6.9009e-02,  1.3754e-01,\n",
            "         6.8878e-02, -4.3971e-02,  2.9194e-01,  9.4396e-02,  1.7121e-01,\n",
            "        -4.7861e-02,  2.8276e-01,  1.0754e-01, -7.6594e-03, -6.0023e-03,\n",
            "         4.5805e-02, -1.6988e-01,  1.5079e-01,  1.8740e-02,  1.0448e-02,\n",
            "        -7.5049e-02,  1.9718e-01, -1.1053e-01,  2.3290e-01, -2.4199e-02,\n",
            "         1.3363e-01,  1.0779e-01,  1.2979e-01,  1.6367e-01,  1.9918e-01,\n",
            "         1.6806e-01, -1.2063e-01, -8.2849e-02, -4.8614e-02,  8.7036e-02,\n",
            "         3.5300e-02, -9.1991e-03,  5.2577e-02,  7.2644e-02,  1.2610e-01,\n",
            "         4.2649e-02,  1.1986e-02,  1.8561e-01,  1.3204e-01, -9.1177e-02,\n",
            "         2.6594e-01,  8.4655e-02, -1.1999e-01, -7.2849e-02,  8.1447e-02,\n",
            "        -5.1145e-02,  1.2805e-01, -1.2820e-01,  8.2925e-02, -3.5335e-02,\n",
            "         5.2802e-01,  6.3328e-01, -7.4804e-02,  5.2376e-01]), Predicted Action is: 2\n",
            "Test State is: tensor([-1.1861e-01,  2.1051e-02,  1.8968e-02,  6.7977e-02,  8.9432e-02,\n",
            "        -2.8177e-03,  2.1089e-01, -5.3128e-02, -1.4599e-01, -1.8584e-01,\n",
            "        -1.3752e-01,  7.9733e-02, -1.6286e-01, -3.5215e-02, -1.9633e-01,\n",
            "         2.1753e-02,  8.3099e-02, -1.9113e-01,  1.2330e-01, -1.4219e-01,\n",
            "         1.1998e-01,  1.9972e-01, -1.5899e-01,  2.1008e-01, -6.8245e-02,\n",
            "         2.5760e-04,  2.7436e-02, -1.1235e-01, -2.4594e-03, -1.5036e-01,\n",
            "         1.0898e-01, -1.7301e-01, -4.9106e-02, -5.6257e-02,  5.0431e-02,\n",
            "        -5.0858e-02,  1.4840e-01,  9.4372e-02,  3.9417e-02, -1.6328e-01,\n",
            "        -1.1761e-01, -1.2556e-01, -2.4793e-03, -1.0236e-01,  7.7799e-02,\n",
            "        -1.7530e-01, -1.6498e-01,  3.6364e-02, -2.2298e-01,  1.9699e-01,\n",
            "         1.7664e-01,  1.4724e-01,  2.4111e-01,  6.3282e-02,  8.3219e-02,\n",
            "        -9.9775e-02,  1.6399e-01,  1.4658e-01, -2.7899e-02,  1.1817e-01,\n",
            "        -9.2650e-02,  1.8801e-01, -7.5294e-02, -2.5388e-02, -5.0536e-02,\n",
            "         5.4184e-02, -1.3959e-01,  2.1086e-02,  1.3244e-01,  1.2273e-01,\n",
            "         9.5862e-02, -1.3360e-01, -4.1330e-02,  2.0674e-01, -1.1304e-01,\n",
            "        -9.7018e-02,  2.8241e-01, -1.7179e-01,  7.0911e-03,  1.8469e-01,\n",
            "         1.2487e-01,  8.5540e-02,  2.7599e-01,  1.5888e-01,  1.8939e-01,\n",
            "        -1.7854e-01,  2.4572e-01,  1.7448e-01, -7.8487e-02, -4.5438e-02,\n",
            "        -7.5037e-02, -1.5859e-01,  2.5644e-01,  3.0038e-02, -4.0761e-02,\n",
            "        -1.4516e-01,  1.3639e-01, -8.5425e-02,  2.9375e-01,  6.6664e-02,\n",
            "         1.5888e-01,  7.6227e-02,  2.0473e-01,  1.9720e-01,  2.7416e-01,\n",
            "         1.2635e-01, -1.3921e-01, -1.8837e-02, -1.0013e-01,  1.4101e-01,\n",
            "        -7.6564e-02, -7.7638e-02,  1.4918e-01,  1.2237e-01,  9.8994e-02,\n",
            "        -1.6634e-02,  5.3091e-02,  1.3827e-01,  1.0196e-01, -8.9764e-02,\n",
            "         2.7163e-01,  1.3587e-01, -6.5419e-02,  4.1182e-03,  2.8417e-02,\n",
            "        -1.2004e-01,  6.3829e-02, -1.4210e-01,  1.1960e-01, -1.4175e-01,\n",
            "         5.7656e-01,  7.1271e-01, -8.8757e-02,  5.6937e-01]), Predicted Action is: 2\n",
            "Test State is: tensor([-0.1606, -0.1337,  0.0444,  0.0389,  0.1637,  0.0035,  0.3608, -0.0700,\n",
            "        -0.2249, -0.1696, -0.2206,  0.1282, -0.2915, -0.0539, -0.3044, -0.1071,\n",
            "         0.1430, -0.2623,  0.2539, -0.2533,  0.1831,  0.1940, -0.2255,  0.3423,\n",
            "        -0.1041, -0.0731,  0.0441, -0.2367, -0.1316, -0.2610,  0.1704, -0.3523,\n",
            "        -0.0287, -0.1460,  0.1295, -0.0958,  0.0817,  0.0846,  0.0070, -0.2228,\n",
            "        -0.1710, -0.1663, -0.0385, -0.1923,  0.1487, -0.2652, -0.2568,  0.0113,\n",
            "        -0.2351,  0.3004,  0.2586,  0.2553,  0.3695,  0.1498,  0.1552, -0.2582,\n",
            "         0.3909,  0.3203, -0.0255,  0.1559, -0.1760,  0.2926, -0.1344, -0.1052,\n",
            "        -0.0461,  0.0567, -0.1642, -0.1097,  0.2391,  0.2800,  0.1381, -0.2384,\n",
            "        -0.0475,  0.3417, -0.2693, -0.1813,  0.3794, -0.2214,  0.0234,  0.2458,\n",
            "         0.1310,  0.1065,  0.4120,  0.2733,  0.2405, -0.1970,  0.3619,  0.1478,\n",
            "        -0.1474, -0.0893, -0.1352, -0.2684,  0.3601, -0.0103, -0.2124, -0.2412,\n",
            "         0.2863, -0.0924,  0.4654,  0.0973,  0.2509,  0.1393,  0.2735,  0.3574,\n",
            "         0.3168,  0.2084, -0.3265, -0.0108, -0.1614,  0.2602, -0.1095, -0.0783,\n",
            "         0.1788,  0.1995,  0.1281, -0.0354,  0.0387,  0.2398,  0.1794, -0.2134,\n",
            "         0.3716,  0.1733, -0.1311,  0.0506,  0.0976, -0.1498,  0.1677, -0.2463,\n",
            "         0.1414, -0.1982,  0.7583,  0.8141, -0.2522,  0.7638]), Predicted Action is: 2\n",
            "Test State is: tensor([-1.8102e-02, -4.9511e-02, -1.9475e-02,  3.1514e-02, -1.1076e-02,\n",
            "        -1.0824e-01,  1.8737e-01,  8.8861e-03, -9.9977e-02, -4.3656e-02,\n",
            "        -1.8318e-01, -2.6547e-02, -1.2260e-01, -3.5973e-03, -1.1292e-01,\n",
            "        -8.1512e-02,  4.0008e-02, -1.8754e-01,  2.2978e-02, -5.7525e-02,\n",
            "         2.5230e-02,  1.2210e-01, -1.2781e-01,  1.3247e-01,  4.1816e-02,\n",
            "        -3.7981e-02,  5.8778e-02, -1.2045e-01, -5.8457e-02, -3.3943e-02,\n",
            "         2.8175e-02, -7.3743e-02, -3.3341e-02,  6.8520e-02,  9.6242e-02,\n",
            "         1.7233e-02,  5.5078e-02,  5.7362e-02,  6.2036e-02, -7.0528e-02,\n",
            "         5.4494e-05, -2.9853e-02, -6.9924e-02, -7.9258e-02,  5.1463e-02,\n",
            "        -1.4969e-01, -3.9686e-02,  2.2696e-02, -1.3772e-01,  1.2470e-01,\n",
            "         1.0648e-01,  9.2147e-02,  2.5306e-01,  2.1800e-02,  1.0660e-01,\n",
            "        -5.4469e-02,  1.5004e-01,  7.4695e-02,  3.0022e-02, -3.8494e-03,\n",
            "        -3.8710e-02,  1.4593e-01, -9.5931e-02, -3.8787e-02, -3.5236e-02,\n",
            "        -2.5698e-02, -8.4000e-02,  7.4786e-03,  1.5128e-01,  5.4763e-02,\n",
            "         1.9853e-02, -1.0388e-01, -6.9996e-03,  1.4255e-01, -4.3140e-02,\n",
            "        -4.0663e-02,  2.2624e-01, -1.2121e-01,  5.5156e-02,  1.2003e-01,\n",
            "         5.9187e-02, -2.2573e-02,  2.6177e-01,  7.1321e-02,  1.4476e-01,\n",
            "        -5.3839e-02,  2.1610e-01,  1.1596e-01, -1.9713e-02,  2.5887e-02,\n",
            "         4.0196e-02, -1.3515e-01,  1.3540e-01,  2.7933e-02,  2.1601e-02,\n",
            "        -5.1985e-02,  1.5879e-01, -1.1973e-01,  2.0152e-01, -2.2913e-02,\n",
            "         1.1990e-01,  7.2062e-02,  1.1185e-01,  1.3748e-01,  1.5721e-01,\n",
            "         1.6915e-01, -1.0039e-01, -7.1837e-02, -4.1916e-02,  7.3976e-02,\n",
            "         3.5463e-02, -1.1560e-02,  3.7031e-02,  8.2506e-02,  9.0140e-02,\n",
            "         4.5492e-02,  8.0706e-03,  1.3964e-01,  1.0666e-01, -5.3452e-02,\n",
            "         2.3094e-01,  8.5620e-02, -8.6438e-02, -7.9953e-02,  6.0872e-02,\n",
            "        -3.3575e-02,  1.1993e-01, -1.1256e-01,  4.3881e-02, -2.2569e-02,\n",
            "         4.5167e-01,  5.8129e-01, -4.7757e-02,  4.7082e-01]), Predicted Action is: 2\n",
            "Test State is: tensor([-0.5021,  0.1000,  0.3146,  0.1840,  0.3065,  0.1972,  0.5537, -0.0847,\n",
            "        -0.4950, -0.2507, -0.3090,  0.3730, -0.3439,  0.1326, -0.4609, -0.0172,\n",
            "         0.5270, -0.3687,  0.4984, -0.6152,  0.2671,  0.3991, -0.6121,  0.5291,\n",
            "        -0.2173,  0.1393, -0.1191, -0.3297, -0.1236, -0.3695,  0.4323, -0.5281,\n",
            "        -0.4396, -0.2362, -0.0683,  0.0413,  0.3259,  0.5027,  0.2160, -0.4325,\n",
            "        -0.2142, -0.5579,  0.2841, -0.0837,  0.0382, -0.2702, -0.5376,  0.1907,\n",
            "        -0.5452,  0.5066,  0.5734,  0.3592,  0.6094,  0.4636, -0.0912, -0.4314,\n",
            "         0.5820,  0.5809, -0.2569,  0.5510, -0.3587,  0.4458, -0.2193,  0.1203,\n",
            "        -0.1338,  0.1272, -0.3487, -0.0559,  0.2321,  0.4721,  0.3344, -0.3669,\n",
            "        -0.3258,  0.5417, -0.3741, -0.5243,  0.7530, -0.3651,  0.0573,  0.3062,\n",
            "         0.4630,  0.3587,  0.6777,  0.4714,  0.4717, -0.4004,  0.6914,  0.2697,\n",
            "        -0.2787, -0.3744, -0.0193, -0.4572,  0.6599, -0.3158, -0.3505, -0.3085,\n",
            "         0.3762, -0.1826,  0.6218,  0.1768,  0.2549,  0.3540,  0.6441,  0.5373,\n",
            "         0.7265,  0.5176, -0.4326,  0.2360, -0.3673,  0.4227, -0.1052, -0.4345,\n",
            "         0.4477,  0.5729,  0.2815, -0.2462, -0.2329,  0.3787,  0.2208, -0.4441,\n",
            "         0.6841,  0.4846, -0.1012,  0.1075, -0.0670, -0.4599,  0.0281, -0.5324,\n",
            "         0.1571, -0.4142,  0.9440,  0.9773, -0.2314,  0.9503]), Predicted Action is: 2\n",
            "Test State is: tensor([-0.0086,  0.0138, -0.0462,  0.0320,  0.0104, -0.0527,  0.1252, -0.0027,\n",
            "        -0.1000, -0.0835, -0.1030,  0.0135, -0.1062, -0.0392, -0.0927,  0.0067,\n",
            "         0.0319, -0.1197,  0.0515, -0.0297,  0.0750,  0.1341, -0.1342,  0.0960,\n",
            "         0.0196, -0.0052,  0.0505, -0.0799,  0.0139, -0.0636,  0.0308, -0.0486,\n",
            "        -0.0561,  0.0106,  0.0279, -0.0013,  0.0860,  0.0698,  0.0491, -0.0857,\n",
            "        -0.0454, -0.0350, -0.0406, -0.0705,  0.0465, -0.1036, -0.0501,  0.0735,\n",
            "        -0.1545,  0.1236,  0.1191,  0.0733,  0.1658,  0.0141,  0.0675,  0.0025,\n",
            "         0.0733,  0.0283,  0.0117,  0.0106, -0.0246,  0.0979, -0.0532, -0.0061,\n",
            "        -0.0424,  0.0235, -0.1127,  0.0393,  0.0735,  0.0010,  0.0098, -0.0166,\n",
            "         0.0167,  0.1125, -0.0190, -0.0405,  0.2092, -0.1038,  0.0175,  0.1045,\n",
            "         0.0881,  0.0326,  0.1524,  0.0726,  0.0980, -0.0823,  0.1641,  0.1276,\n",
            "        -0.0312,  0.0123,  0.0135, -0.0959,  0.1269,  0.0401,  0.0489, -0.0297,\n",
            "         0.0745, -0.0970,  0.1909, -0.0269,  0.0819,  0.0364,  0.1273,  0.0982,\n",
            "         0.1483,  0.1336, -0.0553, -0.0121, -0.0094,  0.0733, -0.0466, -0.0295,\n",
            "         0.0453,  0.0664,  0.0535,  0.0286, -0.0071,  0.1126,  0.0214, -0.0286,\n",
            "         0.1764,  0.1050, -0.0120, -0.0709,  0.0407, -0.0481,  0.0474, -0.1037,\n",
            "         0.0933, -0.0550,  0.3252,  0.4852,  0.0048,  0.3678]), Predicted Action is: 2\n"
          ]
        }
      ]
    },
    {
      "cell_type": "code",
      "source": [
        "def get_real_noc_state():\n",
        "\n",
        "    state = torch.randn(state_size)  # Generate a random state\n",
        "    return state.to(device)\n"
      ],
      "metadata": {
        "id": "lkRrLXj8wMOd"
      },
      "execution_count": null,
      "outputs": []
    },
    {
      "cell_type": "code",
      "source": [
        "def run_fine_tuning_for_learning_rates(model, fine_tune_epochs, learning_rates, state_size, action_size, device, reward_array, location_to_state, state_to_location):\n",
        "    # Dictionary to hold the average losses for each learning rate\n",
        "    avg_losses_per_lr = {}\n",
        "\n",
        "    # Loop over different learning rates\n",
        "    for lr in learning_rates:\n",
        "        print(f\"Fine-tuning with learning rate: {lr}\")\n",
        "        # Assuming fine_tune_q_learning_model is modified to accept and properly use the new parameters\n",
        "        avg_loss = fine_tune_q_learning_model(model, fine_tune_epochs, lr, state_size, action_size, device, reward_array, location_to_state, state_to_location)\n",
        "        avg_losses_per_lr[lr] = avg_loss\n",
        "\n",
        "    return avg_losses_per_lr\n",
        "\n",
        "\n",
        "# Define your parameters\n",
        "fine_tune_epochs = 100\n",
        "learning_rates = [0.01, 0.001, 0.0001]  # Example learning rates\n",
        "state_size = state_size  # Define your state size\n",
        "action_size = action_size  # Define your action size\n",
        "device = torch.device(\"cuda\" if torch.cuda.is_available() else \"cpu\")\n",
        "# Example usage:\n",
        "# Make sure to define or obtain reward_array, location_to_state, and state_to_location before calling this function\n",
        "avg_losses = run_fine_tuning_for_learning_rates(\n",
        "    q_model,\n",
        "    fine_tune_epochs,\n",
        "    learning_rates,\n",
        "    state_size,\n",
        "    action_size,\n",
        "    device,\n",
        "    reward_array,  # Make sure this is defined\n",
        "    location_to_state,  # Make sure this is defined\n",
        "    state_to_location  # Make sure this is defined\n",
        ")\n",
        "\n",
        "\n",
        "# # Plotting the results\n",
        "# plt.figure(figsize=(10, 6))\n",
        "# plt.plot(learning_rates, [avg_losses[lr] for lr in learning_rates], marker='o')\n",
        "# plt.xlabel('Learning Rate')\n",
        "# plt.ylabel('Average Loss')\n",
        "# plt.title('Average Loss vs. Learning Rate')\n",
        "# plt.xscale('log')  # Since\n"
      ],
      "metadata": {
        "id": "L3C02MXqPUmI",
        "colab": {
          "base_uri": "https://localhost:8080/"
        },
        "outputId": "8a84af23-4490-4c89-b848-5e60f5913aca"
      },
      "execution_count": null,
      "outputs": [
        {
          "output_type": "stream",
          "name": "stdout",
          "text": [
            "Fine-tuning with learning rate: 0.01\n",
            "Fine-tuning Epoch 0, Loss: 0.08763480931520462\n",
            "Fine-tuning Epoch 10, Loss: 0.6654001474380493\n",
            "Fine-tuning Epoch 20, Loss: 0.003353970590978861\n",
            "Fine-tuning Epoch 30, Loss: 0.476792573928833\n",
            "Fine-tuning Epoch 40, Loss: 0.02980152703821659\n",
            "Fine-tuning Epoch 50, Loss: 0.34300410747528076\n",
            "Fine-tuning Epoch 60, Loss: 0.18166714906692505\n",
            "Fine-tuning Epoch 70, Loss: 0.001994338119402528\n",
            "Fine-tuning Epoch 80, Loss: 0.02828139066696167\n",
            "Fine-tuning Epoch 90, Loss: 12.64876651763916\n",
            "Fine-tuning with learning rate: 0.001\n",
            "Fine-tuning Epoch 0, Loss: 0.052382878959178925\n",
            "Fine-tuning Epoch 10, Loss: 0.17846058309078217\n",
            "Fine-tuning Epoch 20, Loss: 2.3862569332122803\n",
            "Fine-tuning Epoch 30, Loss: 0.2175171971321106\n",
            "Fine-tuning Epoch 40, Loss: 1.224687933921814\n",
            "Fine-tuning Epoch 50, Loss: 0.8578957319259644\n",
            "Fine-tuning Epoch 60, Loss: 0.15558569133281708\n",
            "Fine-tuning Epoch 70, Loss: 2.7806029319763184\n",
            "Fine-tuning Epoch 80, Loss: 0.9184234142303467\n",
            "Fine-tuning Epoch 90, Loss: 0.007145890966057777\n",
            "Fine-tuning with learning rate: 0.0001\n",
            "Fine-tuning Epoch 0, Loss: 0.20530849695205688\n",
            "Fine-tuning Epoch 10, Loss: 2.5785417556762695\n",
            "Fine-tuning Epoch 20, Loss: 0.9101678729057312\n",
            "Fine-tuning Epoch 30, Loss: 0.008167456835508347\n",
            "Fine-tuning Epoch 40, Loss: 0.009724143892526627\n",
            "Fine-tuning Epoch 50, Loss: 0.8100308775901794\n",
            "Fine-tuning Epoch 60, Loss: 0.0019383033504709601\n",
            "Fine-tuning Epoch 70, Loss: 0.08056927472352982\n",
            "Fine-tuning Epoch 80, Loss: 0.040131568908691406\n",
            "Fine-tuning Epoch 90, Loss: 0.8166128396987915\n"
          ]
        }
      ]
    },
    {
      "cell_type": "code",
      "source": [
        "print(avg_losses)\n"
      ],
      "metadata": {
        "colab": {
          "base_uri": "https://localhost:8080/"
        },
        "id": "yaXsOIg0_qQc",
        "outputId": "cd6e1bae-0c75-4410-a705-feb9b7462940"
      },
      "execution_count": null,
      "outputs": [
        {
          "output_type": "stream",
          "name": "stdout",
          "text": [
            "{0.01: None, 0.001: None, 0.0001: None}\n"
          ]
        }
      ]
    },
    {
      "cell_type": "code",
      "source": [
        "import matplotlib.pyplot as plt\n",
        "\n",
        "# Loss values for each learning rate\n",
        "losses = {\n",
        "    0.01: [0.04436193406581879, 0.2828226089477539, 0.14149786531925201, 0.4483889043331146, 0.7703043818473816, 0.038790225982666016, 1.0821348428726196, 6.659852027893066, 0.00027566778589971364, 1.0962485074996948],\n",
        "    0.001: [0.9997183084487915, 0.26420366764068604, 0.19119352102279663, 0.8151378631591797, 3.363884449005127, 0.0203425120562315, 1.3398990631103516, 0.4744490087032318, 0.14148609340190887, 0.03283276781439781],\n",
        "    0.0001: [0.006462021265178919, 1.019790768623352, 0.8158676028251648, 0.7175911664962769, 1.574131965637207, 0.06792581081390381, 0.0005035356152802706, 0.7881684899330139, 0.3424261212348938, 0.0001799016899894923]\n",
        "}\n",
        "\n",
        "# Prepare the plot\n",
        "plt.figure(figsize=(12, 8))\n",
        "\n",
        "# Epochs to plot against\n",
        "epochs = range(0, 100, 10)  # Assuming you have 10 data points, matching your loss intervals\n",
        "\n",
        "# Plot each learning rate's losses\n",
        "for lr, lr_losses in losses.items():\n",
        "    plt.plot(epochs, lr_losses, marker='o', label=f'LR={lr}')\n",
        "\n",
        "# Adding plot details\n",
        "plt.xlabel('Epochs')\n",
        "plt.ylabel('Loss')\n",
        "plt.title('Loss vs. Epochs for different Learning Rates')\n",
        "plt.legend()\n",
        "plt.grid(True)\n",
        "\n",
        "# Show the plot\n",
        "plt.show()\n"
      ],
      "metadata": {
        "colab": {
          "base_uri": "https://localhost:8080/",
          "height": 718
        },
        "id": "8Id5_A3kCM0J",
        "outputId": "a48e3496-2155-4b0e-c60f-afbf76d865e8"
      },
      "execution_count": null,
      "outputs": [
        {
          "output_type": "display_data",
          "data": {
            "text/plain": [
              "<Figure size 1200x800 with 1 Axes>"
            ],
            "image/png": "[encoded data removed]"
          },
          "metadata": {}
        }
      ]
    },
    {
      "cell_type": "code",
      "source": [
        "def find_optimal_path(model, source, destination, state_to_location, location_to_state, device):\n",
        "    model.eval()\n",
        "    if str(source) not in location_to_state or str(destination) not in location_to_state:\n",
        "        print(f\"Source or destination not found in location_to_state dictionary. Source: {source}, Destination: {destination}\")\n",
        "        return []\n",
        "\n",
        "    path = [str(source)]\n",
        "    current_state = str(source)\n",
        "\n",
        "    while current_state != str(destination):\n",
        "        state_index = location_to_state[current_state]  # Convert location to state index\n",
        "\n",
        "        # Create a one-hot encoded tensor based on the state index\n",
        "        state_vector = torch.zeros([1, 134], dtype=torch.float32)  # Adjust 134 to your actual state size\n",
        "        state_vector[0][state_index] = 1  # Set the appropriate index to 1 for one-hot encoding\n",
        "\n",
        "        state_vector = state_vector.to(device)  # Move to the correct device\n",
        "\n",
        "        with torch.no_grad():\n",
        "            q_values = model(state_vector)\n",
        "        predicted_action = torch.argmax(q_values, dim=1).item()\n",
        "\n",
        "        next_state = state_to_location[predicted_action]\n",
        "        if next_state in path:\n",
        "            print(\"Cycle detected. Terminating path search.\")\n",
        "            break\n",
        "\n",
        "        path.append(next_state)\n",
        "        current_state = next_state\n",
        "\n",
        "    return path\n"
      ],
      "metadata": {
        "id": "xJS5Pks_OUex"
      },
      "execution_count": null,
      "outputs": []
    },
    {
      "cell_type": "code",
      "source": [
        "\n",
        "test_pairs = [('5','10'),('1','25'),('3','10')]\n",
        "\"\"\n",
        "for source, destination in test_pairs:\n",
        "    path = find_optimal_path(q_model, source, destination, state_to_location, location_to_state, device)\n",
        "    print(f\"Optimal path from {source} to {destination}: {path}\")\n"
      ],
      "metadata": {
        "colab": {
          "base_uri": "https://localhost:8080/"
        },
        "id": "EhB9acYfQItx",
        "outputId": "12d5ab63-321e-418b-937a-d75679747499"
      },
      "execution_count": null,
      "outputs": [
        {
          "output_type": "stream",
          "name": "stdout",
          "text": [
            "Cycle detected. Terminating path search.\n",
            "Optimal path from 5 to 10: ['5']\n",
            "Cycle detected. Terminating path search.\n",
            "Optimal path from 1 to 25: ['1', '5']\n",
            "Cycle detected. Terminating path search.\n",
            "Optimal path from 3 to 10: ['3', '5']\n"
          ]
        }
      ]
    },
    {
      "cell_type": "code",
      "source": [
        "paths = {f\"{src} to {dest}\": find_optimal_path(q_model, src, dest, state_to_location, location_to_state, device) for src, dest in test_pairs}"
      ],
      "metadata": {
        "id": "ZmqmfXatgrTj",
        "colab": {
          "base_uri": "https://localhost:8080/"
        },
        "outputId": "7c708c17-dc9e-4310-b964-6053188f6f63"
      },
      "execution_count": null,
      "outputs": [
        {
          "output_type": "stream",
          "name": "stdout",
          "text": [
            "Cycle detected. Terminating path search.\n",
            "Cycle detected. Terminating path search.\n",
            "Cycle detected. Terminating path search.\n"
          ]
        }
      ]
    },
    {
      "cell_type": "code",
      "source": [
        "def convert_path_to_grid(path, size):\n",
        "    grid_path = []\n",
        "    for node_label in path:\n",
        "        node_index = int(node_label) - 1  # Convert label to 0-based index\n",
        "        row = node_index // size\n",
        "        col = node_index % size\n",
        "        grid_path.append((row, col))\n",
        "    return grid_path\n"
      ],
      "metadata": {
        "id": "yBa3ugdvs9pH"
      },
      "execution_count": null,
      "outputs": []
    },
    {
      "cell_type": "code",
      "source": [
        "import networkx as nx\n",
        "import matplotlib.pyplot as plt\n",
        "\n",
        "\n",
        "source_dest_pairs = [('5','10'),('1','25'),('3','10')]\n",
        "\n",
        "size = 5  # Mesh size\n",
        "G = nx.grid_2d_graph(size, size)\n",
        "pos = {(x, y): (y, -x) for x, y in G.nodes()}\n",
        "labels = {(x, y): str(x * size + y + 1) for x, y in G.nodes()}\n",
        "\n",
        "paths = {f\"{src} to {dest}\": find_optimal_path(q_model, src, dest, state_to_location, location_to_state, device) for src, dest in source_dest_pairs}\n",
        "\n",
        "nx.draw(G, pos, labels=labels, with_labels=True, node_size=700, node_color='lightblue')\n",
        "\n",
        "for label, path in paths.items():\n",
        "    grid_path = convert_path_to_grid(path, size)\n",
        "    edges = list(zip(grid_path[:-1], grid_path[1:]))\n",
        "    nx.draw_networkx_edges(G, pos, edgelist=edges, width=2, edge_color='yellow', style='solid', label=label)\n",
        "\n",
        "plt.legend()\n",
        "plt.title(\"Predicted Paths in Mesh Topology\")\n",
        "plt.axis('equal')\n",
        "plt.gca().invert_yaxis()\n",
        "plt.show()\n"
      ],
      "metadata": {
        "colab": {
          "base_uri": "https://localhost:8080/",
          "height": 591
        },
        "id": "3geUdcxSWqN5",
        "outputId": "c71e5f4c-98db-4922-e547-a5dcf7cee8e3"
      },
      "execution_count": null,
      "outputs": [
        {
          "output_type": "stream",
          "name": "stdout",
          "text": [
            "Cycle detected. Terminating path search.\n",
            "Cycle detected. Terminating path search.\n",
            "Cycle detected. Terminating path search.\n"
          ]
        },
        {
          "output_type": "display_data",
          "data": {
            "text/plain": [
              "<Figure size 640x480 with 1 Axes>"
            ],
            "image/png": "[encoded data removed]"
          },
          "metadata": {}
        }
      ]
    },
    {
      "cell_type": "markdown",
      "source": [],
      "metadata": {
        "id": "6OELwYcSZ1S-"
      }
    }
  ]
}