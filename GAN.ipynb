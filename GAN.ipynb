{
  "cells": [
    {
      "cell_type": "code",
      "execution_count": 3,
      "metadata": {
        "id": "2jvhY5SpPTAQ"
      },
      "outputs": [],
      "source": [
        "import torch\n",
        "import torch.nn as nn\n",
        "import torch.optim as optim\n",
        "import numpy as np\n",
        "import matplotlib.pyplot as plt\n"
      ]
    },
    {
      "cell_type": "code",
      "execution_count": 4,
      "metadata": {
        "id": "rKbTc5xS2oYi"
      },
      "outputs": [],
      "source": [
        "class Router(object):\n",
        "    def __init__(self,x,y):\n",
        "        self.x = x\n",
        "        self.y = y\n",
        "        self.neighbor = []\n",
        "        self.edge = []\n",
        "\n",
        "class Edge(object):\n",
        "    def __init__(self,x,y,l):\n",
        "        self.start = x\n",
        "        self.end = y\n",
        "        self.len = int(int(l*10)/2+1)\n",
        "        self.load = 0\n",
        "\n",
        "class Data(object):\n",
        "    def __init__(self,x,y,size,priority):\n",
        "        self.now = x\n",
        "        self.target = y\n",
        "        self.size = size\n",
        "        self.priority = priority\n",
        "        self.time = 0\n",
        "        self.edge = -1\n",
        "        self.neigh = [priority,-1,-1,-1]\n",
        "\n",
        "router = []\n",
        "edges = []\n",
        "t_edge = 0 ##keeps tracks of the number of edges in the graph\n",
        "n_router = 25"
      ]
    },
    {
      "cell_type": "code",
      "execution_count": 5,
      "metadata": {
        "colab": {
          "base_uri": "https://localhost:8080/",
          "height": 864
        },
        "id": "OlMzAYbz2taB",
        "outputId": "a775c75a-d8e3-4b7f-812a-d3953eab9f95"
      },
      "outputs": [
        {
          "name": "stdout",
          "output_type": "stream",
          "text": [
            "0 0\n",
            "0.25 0\n",
            "0.5 0\n",
            "0.75 0\n",
            "1.0 0\n",
            "0 0.25\n",
            "0.25 0.25\n",
            "0.5 0.25\n",
            "0.75 0.25\n",
            "1.0 0.25\n",
            "0 0.5\n",
            "0.25 0.5\n",
            "0.5 0.5\n",
            "0.75 0.5\n",
            "1.0 0.5\n",
            "0 0.75\n",
            "0.25 0.75\n",
            "0.5 0.75\n",
            "0.75 0.75\n",
            "1.0 0.75\n",
            "0 1.0\n",
            "0.25 1.0\n",
            "0.5 1.0\n",
            "0.75 1.0\n",
            "1.0 1.0\n"
          ]
        },
        {
          "data": {
            "image/png": "[encoded data removed]",
            "text/plain": [
              "<Figure size 640x480 with 1 Axes>"
            ]
          },
          "metadata": {},
          "output_type": "display_data"
        }
      ],
      "source": [
        "#Router Topology (Router Positions)\n",
        "y_coordinate = 0\n",
        "x_coordinate = 0\n",
        "x_increment = 0.25\n",
        "y_increment = 0.25\n",
        "x_max = 1\n",
        "y_max = float('inf')  # Assuming there's no maximum y-coordinate\n",
        "\n",
        "for i in range(n_router):\n",
        "    router.append(Router(x_coordinate, y_coordinate))\n",
        "    x_coordinate += x_increment\n",
        "    if x_coordinate > x_max:\n",
        "        x_coordinate = 0\n",
        "        y_coordinate += y_increment\n",
        "\n",
        "for i in range(n_router):\n",
        "\tprint(router[i].x,router[i].y)\n",
        "\tplt.scatter(router[i].x, router[i].y, color = 'red')\n",
        "plt.show()"
      ]
    },
    {
      "cell_type": "code",
      "execution_count": 6,
      "metadata": {
        "colab": {
          "base_uri": "https://localhost:8080/",
          "height": 430
        },
        "id": "f-GvrvbM2yIg",
        "outputId": "914b65c0-37d2-4cc8-8525-54541b1dc09e"
      },
      "outputs": [
        {
          "data": {
            "image/png": "[encoded data removed]",
            "text/plain": [
              "<Figure size 640x480 with 1 Axes>"
            ]
          },
          "metadata": {},
          "output_type": "display_data"
        }
      ],
      "source": [
        "for i in range(n_router):\n",
        "  dis = []\n",
        "  for j in range(n_router):\n",
        "    dis.append([(router[j].x - router[i].x)**2 + (router[j].y - router[i].y)**2, j])\n",
        "  dis.sort(key = lambda x: x[0],reverse = False)\n",
        "\n",
        "  for j in range(n_router):\n",
        "    if(j==i):\n",
        "      continue\n",
        "    else:\n",
        "      if(dis[j][0] == 0.0625):\n",
        "        if dis[j][1] not in router[i].neighbor:\n",
        "          router[i].neighbor.append(dis[j][1])\n",
        "          router[dis[j][1]].neighbor.append(i)\n",
        "          if i<dis[j][1]:\n",
        "            edges.append(Edge(i,dis[j][1],np.sqrt(dis[j][0])))\n",
        "            router[i].edge.append(t_edge)\n",
        "            router[dis[j][1]].edge.append(t_edge)\n",
        "            t_edge += 1\n",
        "          else:\n",
        "            edges.append(Edge(dis[j][1],i,np.sqrt(dis[j][0])))\n",
        "            router[dis[j][1]].edge.append(t_edge)\n",
        "            router[i].edge.append(t_edge)\n",
        "            t_edge += 1\n",
        "\n",
        "for i in range(n_router):\n",
        "    plt.scatter(router[i].x, router[i].y, color = 'orange')\n",
        "for e in edges:\n",
        "    plt.plot([router[e.start].x,router[e.end].x],[router[e.start].y,router[e.end].y],color='black')"
      ]
    },
    {
      "cell_type": "code",
      "execution_count": 7,
      "metadata": {
        "colab": {
          "base_uri": "https://localhost:8080/"
        },
        "id": "I-wvhfLQ21Il",
        "outputId": "042e73d4-4fda-4b3c-9887-61645eeb7e97"
      },
      "outputs": [
        {
          "name": "stdout",
          "output_type": "stream",
          "text": [
            "total no of edges:  40\n",
            "Router 0: x = 0 y = 0 neighbor = [1, 5] edges = [0, 1]\n",
            "Router 1: x = 0.25 y = 0 neighbor = [0, 2, 6] edges = [0, 2, 3]\n",
            "Router 2: x = 0.5 y = 0 neighbor = [1, 7, 3] edges = [2, 4, 5]\n",
            "Router 3: x = 0.75 y = 0 neighbor = [2, 4, 8] edges = [5, 6, 14]\n",
            "Router 4: x = 1.0 y = 0 neighbor = [3, 9] edges = [6, 7]\n",
            "Router 5: x = 0 y = 0.25 neighbor = [0, 6, 10] edges = [1, 8, 9]\n",
            "Router 6: x = 0.25 y = 0.25 neighbor = [1, 5, 7, 11] edges = [3, 8, 10, 11]\n",
            "Router 7: x = 0.5 y = 0.25 neighbor = [2, 6, 8, 12] edges = [4, 10, 12, 13]\n",
            "Router 8: x = 0.75 y = 0.25 neighbor = [7, 3, 9, 13] edges = [12, 14, 15, 16]\n",
            "Router 9: x = 1.0 y = 0.25 neighbor = [4, 8, 14] edges = [7, 15, 17]\n",
            "Router 10: x = 0 y = 0.5 neighbor = [5, 11, 15] edges = [9, 18, 19]\n",
            "Router 11: x = 0.25 y = 0.5 neighbor = [6, 10, 12, 16] edges = [11, 18, 20, 21]\n",
            "Router 12: x = 0.5 y = 0.5 neighbor = [7, 11, 13, 17] edges = [13, 20, 22, 23]\n",
            "Router 13: x = 0.75 y = 0.5 neighbor = [8, 12, 14, 18] edges = [16, 22, 24, 25]\n",
            "Router 14: x = 1.0 y = 0.5 neighbor = [9, 13, 19] edges = [17, 24, 26]\n",
            "Router 15: x = 0 y = 0.75 neighbor = [10, 16, 20] edges = [19, 27, 28]\n",
            "Router 16: x = 0.25 y = 0.75 neighbor = [11, 15, 17, 21] edges = [21, 27, 29, 30]\n",
            "Router 17: x = 0.5 y = 0.75 neighbor = [12, 16, 18, 22] edges = [23, 29, 31, 32]\n",
            "Router 18: x = 0.75 y = 0.75 neighbor = [13, 17, 19, 23] edges = [25, 31, 33, 34]\n",
            "Router 19: x = 1.0 y = 0.75 neighbor = [14, 18, 24] edges = [26, 33, 35]\n",
            "Router 20: x = 0 y = 1.0 neighbor = [15, 21] edges = [28, 36]\n",
            "Router 21: x = 0.25 y = 1.0 neighbor = [16, 20, 22] edges = [30, 36, 37]\n",
            "Router 22: x = 0.5 y = 1.0 neighbor = [17, 21, 23] edges = [32, 37, 38]\n",
            "Router 23: x = 0.75 y = 1.0 neighbor = [18, 22, 24] edges = [34, 38, 39]\n",
            "Router 24: x = 1.0 y = 1.0 neighbor = [19, 23] edges = [35, 39]\n",
            "Edge 0: start_point = 0 end_point = 1 length = 2\n",
            "Edge 1: start_point = 0 end_point = 5 length = 2\n",
            "Edge 2: start_point = 1 end_point = 2 length = 2\n",
            "Edge 3: start_point = 1 end_point = 6 length = 2\n",
            "Edge 4: start_point = 2 end_point = 7 length = 2\n",
            "Edge 5: start_point = 2 end_point = 3 length = 2\n",
            "Edge 6: start_point = 3 end_point = 4 length = 2\n",
            "Edge 7: start_point = 4 end_point = 9 length = 2\n",
            "Edge 8: start_point = 5 end_point = 6 length = 2\n",
            "Edge 9: start_point = 5 end_point = 10 length = 2\n",
            "Edge 10: start_point = 6 end_point = 7 length = 2\n",
            "Edge 11: start_point = 6 end_point = 11 length = 2\n",
            "Edge 12: start_point = 7 end_point = 8 length = 2\n",
            "Edge 13: start_point = 7 end_point = 12 length = 2\n",
            "Edge 14: start_point = 3 end_point = 8 length = 2\n",
            "Edge 15: start_point = 8 end_point = 9 length = 2\n",
            "Edge 16: start_point = 8 end_point = 13 length = 2\n",
            "Edge 17: start_point = 9 end_point = 14 length = 2\n",
            "Edge 18: start_point = 10 end_point = 11 length = 2\n",
            "Edge 19: start_point = 10 end_point = 15 length = 2\n",
            "Edge 20: start_point = 11 end_point = 12 length = 2\n",
            "Edge 21: start_point = 11 end_point = 16 length = 2\n",
            "Edge 22: start_point = 12 end_point = 13 length = 2\n",
            "Edge 23: start_point = 12 end_point = 17 length = 2\n",
            "Edge 24: start_point = 13 end_point = 14 length = 2\n",
            "Edge 25: start_point = 13 end_point = 18 length = 2\n",
            "Edge 26: start_point = 14 end_point = 19 length = 2\n",
            "Edge 27: start_point = 15 end_point = 16 length = 2\n",
            "Edge 28: start_point = 15 end_point = 20 length = 2\n",
            "Edge 29: start_point = 16 end_point = 17 length = 2\n",
            "Edge 30: start_point = 16 end_point = 21 length = 2\n",
            "Edge 31: start_point = 17 end_point = 18 length = 2\n",
            "Edge 32: start_point = 17 end_point = 22 length = 2\n",
            "Edge 33: start_point = 18 end_point = 19 length = 2\n",
            "Edge 34: start_point = 18 end_point = 23 length = 2\n",
            "Edge 35: start_point = 19 end_point = 24 length = 2\n",
            "Edge 36: start_point = 20 end_point = 21 length = 2\n",
            "Edge 37: start_point = 21 end_point = 22 length = 2\n",
            "Edge 38: start_point = 22 end_point = 23 length = 2\n",
            "Edge 39: start_point = 23 end_point = 24 length = 2\n"
          ]
        }
      ],
      "source": [
        "print(\"total no of edges: \",t_edge)\n",
        "for i in range(n_router):\n",
        "  print(\"Router {}: x = {} y = {} neighbor = {} edges = {}\".format(i,router[i].x,router[i].y,router[i].neighbor,router[i].edge))\n",
        "for i in range(t_edge):\n",
        "  print(\"Edge {}: start_point = {} end_point = {} length = {}\".format(i,edges[i].start,edges[i].end,edges[i].len))"
      ]
    },
    {
      "cell_type": "code",
      "execution_count": 8,
      "metadata": {
        "colab": {
          "base_uri": "https://localhost:8080/"
        },
        "id": "glkNWYGt28Nm",
        "outputId": "3f1ef5c0-4481-41cd-d93e-15188aa2d6ff"
      },
      "outputs": [
        {
          "name": "stdout",
          "output_type": "stream",
          "text": [
            "Data Packet 0: start_point = 6, target = 19, size = 0.511817155988567, priority = 0\n",
            "Data Packet 1: start_point = 24, target = 2, size = 0.7330704421007564, priority = 1\n",
            "Data Packet 2: start_point = 4, target = 20, size = 0.27414760221218626, priority = 2\n",
            "Data Packet 3: start_point = 12, target = 11, size = 0.9010552594187765, priority = 3\n",
            "Data Packet 4: start_point = 10, target = 1, size = 0.36880139620044017, priority = 4\n",
            "Data Packet 5: start_point = 3, target = 19, size = 0.28567987316186905, priority = 5\n",
            "Data Packet 6: start_point = 22, target = 17, size = 0.02147289355720361, priority = 6\n",
            "Data Packet 7: start_point = 22, target = 2, size = 0.7821666723324575, priority = 7\n",
            "Data Packet 8: start_point = 6, target = 6, size = 0.07722317977944271, priority = 8\n",
            "Data Packet 9: start_point = 4, target = 23, size = 0.8497424738712742, priority = 9\n",
            "Data Packet 10: start_point = 16, target = 4, size = 0.5631011352897964, priority = 10\n",
            "Data Packet 11: start_point = 14, target = 18, size = 0.9525495589127376, priority = 11\n",
            "Data Packet 12: start_point = 14, target = 20, size = 0.8196191039982952, priority = 12\n",
            "Data Packet 13: start_point = 21, target = 11, size = 0.4813919048170121, priority = 13\n",
            "Data Packet 14: start_point = 11, target = 3, size = 0.18804599788809406, priority = 14\n",
            "Data Packet 15: start_point = 21, target = 6, size = 0.5967959509184931, priority = 15\n",
            "Data Packet 16: start_point = 2, target = 18, size = 0.7784525027338842, priority = 16\n",
            "Data Packet 17: start_point = 2, target = 15, size = 0.059589409910324465, priority = 17\n",
            "Data Packet 18: start_point = 24, target = 20, size = 0.5747096540829039, priority = 18\n",
            "Data Packet 19: start_point = 14, target = 10, size = 0.016725556242280115, priority = 19\n"
          ]
        }
      ],
      "source": [
        "data = []\n",
        "n_data = 20\n",
        "for i in range(n_data):\n",
        "    data.append(Data(np.random.randint(n_router),np.random.randint(n_router),np.random.random(),i))\n",
        "#Priority has been passed according to order of creation\n",
        "\n",
        "for i in range(n_data):\n",
        "    print(\"Data Packet {}: start_point = {}, target = {}, size = {}, priority = {}\".format(i,data[i].now,data[i].target,data[i].size,data[i].priority))\n"
      ]
    },
    {
      "cell_type": "code",
      "execution_count": 9,
      "metadata": {
        "id": "NlK8IDNK3NAn"
      },
      "outputs": [],
      "source": [
        "def observation(router, edges, data, n_router, n_data, t_edge):\n",
        "\tobs = []\n",
        "\tfor i in range(n_data):\n",
        "\t\tob=[]\n",
        "\n",
        "\t\t####meta information####\n",
        "\t\tob.append(data[i].now)\n",
        "\t\tob.append(data[i].target)\n",
        "\t\tob.append(data[i].edge)\n",
        "\t\tob.append(data[i].size)\n",
        "\t\tob.append(data[i].priority)\n",
        "\n",
        "\t\t####edge information####\n",
        "\t\tedge_count=0\n",
        "\t\tfor j in router[data[i].now].edge:\n",
        "\t\t\tedge_count+=1\n",
        "\t\t\tob.append(j)\n",
        "\t\t\tob.append(edges[j].start)\n",
        "\t\t\tob.append(edges[j].end)\n",
        "\t\t\tob.append(edges[j].len)\n",
        "\t\t\tob.append(edges[j].load)\n",
        "\t\tfor j in range(4-edge_count): ####\n",
        "\t\t\tfor k in range(5): ####\n",
        "\t\t\t\tob.append(-1) #invalid placeholder  ####\n",
        "\n",
        "\t\t####other datas####\n",
        "\t\tcount =0;\n",
        "\t\tdata[i].neigh = []\n",
        "\t\tdata[i].neigh.append(i)\n",
        "\n",
        "\t\tfor j in range(n_data):\n",
        "\t\t\tif j==i:\n",
        "\t\t\t\tcontinue\n",
        "\t\t\tif (data[j].now in router[data[i].now].neighbor)|(data[j].now == data[i].now):\n",
        "\t\t\t\tcount+=1\n",
        "\t\t\t\tob.append(data[j].now)\n",
        "\t\t\t\tob.append(data[j].target)\n",
        "\t\t\t\tob.append(data[j].edge)\n",
        "\t\t\t\tob.append(data[j].size)\n",
        "\t\t\t\tob.append(data[i].priority)\n",
        "\t\t\t\tdata[i].neigh.append(j)\n",
        "\n",
        "\t\t\tif count==3:\n",
        "\t\t\t\tbreak\n",
        "\t\tfor j in range(3-count):\n",
        "\t\t\tdata[i].neigh.append(-1)\n",
        "\t\t\tfor k in range(5):\n",
        "\t\t\t\tob.append(-1) #invalid placeholder\n",
        "\n",
        "\t\tobs.append(np.array(ob))\n",
        "\treturn obs\n",
        "\n"
      ]
    },
    {
      "cell_type": "code",
      "execution_count": 10,
      "metadata": {
        "colab": {
          "base_uri": "https://localhost:8080/"
        },
        "id": "AUW-DDUU3Fem",
        "outputId": "56f88a33-24bb-44e6-f5dd-0e642db95f21"
      },
      "outputs": [
        {
          "name": "stdout",
          "output_type": "stream",
          "text": [
            "[[], [], [], [], [], [], [], [], [], [], [], [], [], [], [], [], [], [], [], []]\n",
            "[['Start:6'], ['Start:24'], ['Start:4'], ['Start:12'], ['Start:10'], ['Start:3'], ['Start:22'], ['Start:22'], ['Start:6'], ['Start:4'], ['Start:16'], ['Start:14'], ['Start:14'], ['Start:21'], ['Start:11'], ['Start:21'], ['Start:2'], ['Start:2'], ['Start:24'], ['Start:14']]\n"
          ]
        }
      ],
      "source": [
        "path = [[] for _ in range(n_data)]\n",
        "print(path)\n",
        "\n",
        "for i in range(n_data):\n",
        "    path[i].append(\"Start:\"+str(data[i].now))\n",
        "print(path)"
      ]
    },
    {
      "cell_type": "code",
      "execution_count": 11,
      "metadata": {
        "id": "ttvUGL_jPUDq"
      },
      "outputs": [],
      "source": [
        "class Generator(nn.Module):\n",
        "    def __init__(self, input_size, hidden_dim, output_size):\n",
        "        super(Generator, self).__init__()\n",
        "        self.input_size = input_size\n",
        "        self.output_size = output_size\n",
        "        self.hidden_dim = hidden_dim\n",
        "        self.net = nn.Sequential(\n",
        "            nn.Linear(input_size, hidden_dim),\n",
        "            nn.ReLU(True),\n",
        "            nn.Linear(hidden_dim, output_size),\n",
        "            nn.Tanh()\n",
        "        )\n",
        "\n",
        "    def forward(self, x):\n",
        "        return self.net(x)\n",
        "\n",
        "class Discriminator(nn.Module):\n",
        "    def __init__(self, input_size, hidden_dim):\n",
        "        super(Discriminator, self).__init__()\n",
        "        self.input_size = input_size\n",
        "        self.hidden_dim = hidden_dim\n",
        "        self.net = nn.Sequential(\n",
        "            nn.Linear(input_size, hidden_dim),\n",
        "            nn.LeakyReLU(0.2, inplace=True),\n",
        "            nn.Linear(hidden_dim, 1),\n",
        "            nn.Sigmoid()\n",
        "        )\n",
        "\n",
        "    def forward(self, x):\n",
        "        return self.net(x)\n"
      ]
    },
    {
      "cell_type": "code",
      "execution_count": 12,
      "metadata": {
        "id": "9k38Gw9QPULM"
      },
      "outputs": [],
      "source": [
        "class QLearningModel(nn.Module):\n",
        "    def __init__(self, state_size, action_size, hidden_dim):\n",
        "        super(QLearningModel, self).__init__()\n",
        "        self.state_size = state_size\n",
        "        self.action_size = action_size\n",
        "        self.hidden_dim = hidden_dim\n",
        "        self.net = nn.Sequential(\n",
        "            nn.Linear(state_size, hidden_dim),\n",
        "            nn.ReLU(),\n",
        "            nn.Linear(hidden_dim, action_size)\n",
        "        )\n",
        "\n",
        "    def forward(self, x):\n",
        "        return self.net(x)\n"
      ]
    },
    {
      "cell_type": "code",
      "execution_count": 13,
      "metadata": {
        "id": "rlfu_WrkPUNd"
      },
      "outputs": [],
      "source": [
        "def train_gan(generator, discriminator, gen_optimizer, disc_optimizer, real_data_loader, epochs, device):\n",
        "    criterion = nn.BCELoss()\n",
        "\n",
        "    for epoch in range(epochs):\n",
        "     for batch in real_data_loader:\n",
        "            real_data = batch[0].to(device)\n",
        "            batch_size = real_data.size(0)\n",
        "\n",
        "            disc_optimizer.zero_grad()\n",
        "            real_labels = torch.ones(batch_size, 1).to(device)\n",
        "            real_output = discriminator(real_data)\n",
        "            real_loss = criterion(real_output, real_labels)\n",
        "\n",
        "\n",
        "            noise = torch.randn(batch_size, generator.input_size).to(device)\n",
        "            fake_data = generator(noise)\n",
        "            fake_labels = torch.zeros(batch_size, 1).to(device)\n",
        "            fake_output = discriminator(fake_data.detach())\n",
        "            fake_loss = criterion(fake_output, fake_labels)\n",
        "\n",
        "\n",
        "            disc_loss = real_loss + fake_loss\n",
        "            disc_loss.backward()\n",
        "            disc_optimizer.step()\n",
        "\n",
        "\n",
        "            gen_optimizer.zero_grad()\n",
        "            trick_labels = torch.ones(batch_size, 1).to(device)\n",
        "            trick_output = discriminator(fake_data)\n",
        "            gen_loss = criterion(trick_output, trick_labels)\n",
        "\n",
        "            # Update Generator\n",
        "            gen_loss.backward()\n",
        "            gen_optimizer.step()\n",
        "\n",
        "    print(f'Epoch [{epoch+1}/{epochs}], Loss D: {disc_loss.item()}, Loss G: {gen_loss.item()}')\n"
      ]
    },
    {
      "cell_type": "code",
      "execution_count": 14,
      "metadata": {
        "id": "MIH26so-FhYi"
      },
      "outputs": [],
      "source": [
        "\n",
        "location_to_state = {}\n",
        "for i in range(25):\n",
        "    #location_to_state maps each location (node) in the grid to a state in the RL model.\n",
        "    location_to_state[str(i+1)] = i\n",
        "\n",
        "# # Print the dictionary to understand its structure\n",
        "\n",
        "# print(\"location_to_state dictionary content:\")\n",
        "# for  value in location_to_state.items():\n",
        "#     print(f\"State: {value}\")"
      ]
    },
    {
      "cell_type": "code",
      "execution_count": 15,
      "metadata": {
        "id": "G0JplPzYEJbD"
      },
      "outputs": [],
      "source": [
        "def simulate_environment_response(current_state, action, reward_array, location_to_state, state_to_location, gamma=0.75, alpha=0.9, device='cpu'):\n",
        "\n",
        "    invalid_state_tensor = torch.zeros(state_size).to(device)  # Adjust state size\n",
        "\n",
        "    if current_state not in location_to_state:\n",
        "\n",
        "        return invalid_state_tensor, torch.tensor([0.], device=device)\n",
        "\n",
        "    current_state_index = location_to_state[current_state]\n",
        "\n",
        "    next_state_index = action\n",
        "    if next_state_index not in state_to_location:\n",
        "        return invalid_state_tensor, torch.tensor([0.], device=device)\n",
        "\n",
        "    next_state = state_to_location[next_state_index]\n",
        "    reward = torch.tensor([reward_array[current_state_index, next_state_index]], device=device)\n",
        "\n",
        "    return next_state, reward\n"
      ]
    },
    {
      "cell_type": "code",
      "execution_count": 16,
      "metadata": {
        "id": "I9aBajhzPUSs"
      },
      "outputs": [],
      "source": [
        "def pretrain_q_learning_model(model, generator, pretrain_epochs, learning_rate, state_size, action_size, device, reward_array, location_to_state, state_to_location):\n",
        "    optimizer = optim.Adam(model.parameters(), lr=learning_rate)\n",
        "    criterion = nn.MSELoss()\n",
        "\n",
        "    for epoch in range(pretrain_epochs):\n",
        "        noise = torch.randn((1, generator.input_size), device=device)\n",
        "        synthetic_state = generator(noise)\n",
        "\n",
        "        synthetic_state_flat = synthetic_state.view(-1)\n",
        "\n",
        "        synthetic_state_flat = synthetic_state_flat.unsqueeze(0) if synthetic_state_flat.dim() == 1 else synthetic_state_flat\n",
        "\n",
        "        q_values = model(synthetic_state_flat)  # Get Q-values from model\n",
        "        _, predicted_action = torch.max(q_values, 1)  # Choose action\n",
        "\n",
        "        predicted_action = predicted_action.item()  # Assuming action needs to be a scalar\n",
        "\n",
        "        next_state, reward = simulate_environment_response(\n",
        "            current_state=synthetic_state_flat,\n",
        "            action=predicted_action,\n",
        "            reward_array=reward_array,\n",
        "            location_to_state=location_to_state,\n",
        "            state_to_location=state_to_location,\n",
        "            device=device\n",
        "        )\n",
        "\n",
        "        # Inside pretrain_q_learning_model\n",
        "        if isinstance(next_state, str):  # This is just a debugging line\n",
        "          next_state = torch.zeros(state_size).to(device)\n",
        "          raise TypeError(\"next_state is a string, which is incorrect.\")\n",
        "\n",
        "        target_q_value = reward + torch.max(model(next_state)).detach()\n",
        "        current_q_value = q_values[0][predicted_action]\n",
        "        loss = criterion(current_q_value, target_q_value)\n",
        "\n",
        "        # Backpropagation\n",
        "        optimizer.zero_grad()\n",
        "        loss.backward()\n",
        "        optimizer.step()\n",
        "\n",
        "        if epoch % 10 == 0:\n",
        "            print(f'Pre-training Epoch {epoch}, Loss: {loss.item()}')\n"
      ]
    },
    {
      "cell_type": "code",
      "execution_count": 17,
      "metadata": {
        "id": "_hei43bEPUVS"
      },
      "outputs": [],
      "source": [
        "def fine_tune_q_learning_model(model, fine_tune_epochs, learning_rate, state_size, action_size, device, reward_array, location_to_state, state_to_location):\n",
        "    optimizer = optim.Adam(model.parameters(), lr=learning_rate)\n",
        "    criterion = nn.MSELoss()\n",
        "\n",
        "    for epoch in range(fine_tune_epochs):\n",
        "        # Simulate receiving a real state from the NoC environment\n",
        "        real_state = get_real_noc_state()\n",
        "\n",
        "        # Ensure real_state is correctly shaped with a batch dimension\n",
        "        real_state = real_state.unsqueeze(0) if real_state.dim() == 1 else real_state\n",
        "\n",
        "        q_values = model(real_state.to(device))\n",
        "\n",
        "        # If your model's output is expected to be [batch_size, number_of_actions]\n",
        "        # then torch.max(q_values, 1) should work. However, if the batch size is 1,\n",
        "        # you can use torch.max(q_values, dim=-1) to be dimension-agnostic\n",
        "        _, predicted_action = torch.max(q_values, dim=-1)\n",
        "\n",
        "        # Simulate the environment response\n",
        "        # Ensure you pass all required arguments here\n",
        "        next_state, reward = simulate_environment_response(real_state, predicted_action, reward_array, location_to_state, state_to_location)\n",
        "\n",
        "        # Update Q-values\n",
        "        target_q_value = reward + torch.max(model(next_state)).detach()\n",
        "        current_q_value = q_values[0][predicted_action]\n",
        "        loss = criterion(current_q_value, target_q_value)\n",
        "\n",
        "        # Backpropagation\n",
        "        optimizer.zero_grad()\n",
        "        loss.backward()\n",
        "        optimizer.step()\n",
        "\n",
        "        if epoch % 10 == 0:\n",
        "            print(f'Fine-tuning Epoch {epoch}, Loss: {loss.item()}')\n"
      ]
    },
    {
      "cell_type": "code",
      "execution_count": 18,
      "metadata": {
        "id": "sY-6wUMxPUXp"
      },
      "outputs": [],
      "source": [
        "# Initialize models\n",
        "output_size = 130\n",
        "input_size = 130  # Generator's output size\n",
        "device = torch.device(\"cuda\" if torch.cuda.is_available() else \"cpu\")\n",
        "state_size = 134\n",
        "action_size = 5\n",
        "\n",
        "generator = Generator(input_size=100, hidden_dim=128, output_size=134).to(device)  # Adjust output_size to 134\n",
        "\n",
        "discriminator = Discriminator(input_size=134, hidden_dim=128).to(device)  # Adjust input_size to 134\n",
        "\n",
        "q_model = QLearningModel(state_size=state_size, action_size=action_size, hidden_dim=128).to(device)\n",
        "\n",
        "gen_optimizer = optim.Adam(generator.parameters(), lr=0.002)\n",
        "disc_optimizer = optim.Adam(discriminator.parameters(), lr=0.002)\n",
        "q_optimizer = optim.Adam(q_model.parameters(), lr=0.01)\n"
      ]
    },
    {
      "cell_type": "code",
      "execution_count": 19,
      "metadata": {
        "id": "YFOUOhJ_rKzu"
      },
      "outputs": [],
      "source": [
        "def create_network_state_vectors(routers, edges, data_packets):\n",
        "    state_vectors = []\n",
        "    for data_packet in data_packets:\n",
        "        state_vector = []\n",
        "\n",
        "        for router in routers:\n",
        "            state_vector.append(router.x)\n",
        "            state_vector.append(router.y)\n",
        "            # Add additional router-specific features as needed\n",
        "\n",
        "        # Add features for each edge\n",
        "        for edge in edges:\n",
        "            state_vector.append(edge.len)\n",
        "            state_vector.append(edge.load)\n",
        "            # any other additional edge-specific features if needed\n",
        "\n",
        "        # Add features for the data packet\n",
        "        state_vector.append(data_packet.now)\n",
        "        state_vector.append(data_packet.target)\n",
        "        state_vector.append(data_packet.size)\n",
        "        state_vector.append(data_packet.priority)\n",
        "\n",
        "        # Append the state vector for this data packet to the list\n",
        "        state_vectors.append(state_vector)\n",
        "\n",
        "    return state_vectors\n",
        "\n",
        "simulated_network_states = create_network_state_vectors(router, edges, data)\n"
      ]
    },
    {
      "cell_type": "code",
      "execution_count": 20,
      "metadata": {
        "id": "SO5LHhMhCS9j"
      },
      "outputs": [],
      "source": [
        "import csv\n",
        "\n",
        "def create_network_state_vectors_and_export_csv(routers, edges, data_packets, csv_filename):\n",
        "    state_vectors = []\n",
        "\n",
        "    # Open a CSV file for writing\n",
        "    with open(csv_filename, 'w', newline='') as csvfile:\n",
        "        # Initialize a CSV writer\n",
        "        csvwriter = csv.writer(csvfile)\n",
        "\n",
        "        # (Optional) Write headers to the CSV file\n",
        "        headers = ['router_x', 'router_y'] * len(routers) + \\\n",
        "                  ['edge_len', 'edge_load'] * len(edges) + \\\n",
        "                  ['data_now', 'data_target', 'data_size', 'data_priority']\n",
        "        csvwriter.writerow(headers)\n",
        "\n",
        "        for data_packet in data_packets:\n",
        "            state_vector = []\n",
        "\n",
        "            for router in routers:\n",
        "                state_vector.append(router.x)\n",
        "                state_vector.append(router.y)\n",
        "                # Add additional router-specific features as needed\n",
        "\n",
        "            # Add features for each edge\n",
        "            for edge in edges:\n",
        "                state_vector.append(edge.len)\n",
        "                state_vector.append(edge.load)\n",
        "                # any other additional edge-specific features if needed\n",
        "\n",
        "            # Add features for the data packet\n",
        "            state_vector.append(data_packet.now)\n",
        "            state_vector.append(data_packet.target)\n",
        "            state_vector.append(data_packet.size)\n",
        "            state_vector.append(data_packet.priority)\n",
        "\n",
        "            # Append the state vector for this data packet to the list\n",
        "            state_vectors.append(state_vector)\n",
        "\n",
        "            # Write the state vector to the CSV file\n",
        "            csvwriter.writerow(state_vector)\n",
        "\n",
        "    return state_vectors\n",
        "\n",
        "# Example usage\n",
        "csv_filename = 'simulated_network_states.csv'\n",
        "simulated_network_states = create_network_state_vectors_and_export_csv(router, edges, data, csv_filename)\n"
      ]
    },
    {
      "cell_type": "code",
      "execution_count": 21,
      "metadata": {
        "colab": {
          "base_uri": "https://localhost:8080/"
        },
        "id": "7HEM0ItrnYs5",
        "outputId": "47fed50f-2d27-4992-f52e-e59ae48e7c0c"
      },
      "outputs": [
        {
          "data": {
            "text/plain": [
              "20"
            ]
          },
          "execution_count": 21,
          "metadata": {},
          "output_type": "execute_result"
        }
      ],
      "source": [
        "len(simulated_network_states)"
      ]
    },
    {
      "cell_type": "code",
      "execution_count": 22,
      "metadata": {
        "id": "7FjkamWgqWnn"
      },
      "outputs": [],
      "source": [
        "\n",
        "from torch.utils.data import DataLoader, TensorDataset\n",
        "\n",
        "\n",
        "simulated_data_tensors = torch.tensor(simulated_network_states, dtype=torch.float32)\n",
        "data_loader = DataLoader(TensorDataset(simulated_data_tensors), batch_size=64, shuffle=True)\n"
      ]
    },
    {
      "cell_type": "markdown",
      "metadata": {
        "id": "x5vXrFWerkXh"
      },
      "source": [
        "## checking if dataloader is sending bataches correctly"
      ]
    },
    {
      "cell_type": "code",
      "execution_count": 23,
      "metadata": {
        "colab": {
          "base_uri": "https://localhost:8080/"
        },
        "id": "yGzw9P1arj3K",
        "outputId": "b727d2ce-6fba-4931-93bc-f143f61cca70"
      },
      "outputs": [
        {
          "name": "stdout",
          "output_type": "stream",
          "text": [
            "<class 'list'> <class 'torch.Tensor'>\n"
          ]
        }
      ],
      "source": [
        "for batch in data_loader:\n",
        "    print(type(batch), type(batch[0]))\n",
        "    break\n"
      ]
    },
    {
      "cell_type": "code",
      "execution_count": 24,
      "metadata": {
        "colab": {
          "base_uri": "https://localhost:8080/"
        },
        "id": "ZJLlhc9LPUZ7",
        "outputId": "42944502-5ec9-432e-f1ff-93fa430bdffe"
      },
      "outputs": [
        {
          "name": "stdout",
          "output_type": "stream",
          "text": [
            "Epoch [200/200], Loss D: 0.08550465852022171, Loss G: 3.6248536109924316\n"
          ]
        }
      ],
      "source": [
        "# Assuming you have defined the train_gan function and initialized the GAN components as shown earlier\n",
        "train_gan(generator, discriminator, gen_optimizer, disc_optimizer, data_loader, epochs=200, device=device)\n"
      ]
    },
    {
      "cell_type": "code",
      "execution_count": 25,
      "metadata": {
        "id": "tR2xV30EPUcY"
      },
      "outputs": [],
      "source": [
        "# Set the number of synthetic samples you want to generate\n",
        "num_synthetic_samples = 1000\n",
        "synthetic_states = []\n",
        "\n",
        "with torch.no_grad():\n",
        "    for _ in range(num_synthetic_samples):\n",
        "        noise = torch.randn((1, generator.input_size), device=device)  # Generate random noise\n",
        "        synthetic_state = generator(noise)  # Generate a synthetic state\n",
        "        synthetic_states.append(synthetic_state)\n",
        "\n",
        "# Convert list of tensors to a single tensor\n",
        "synthetic_states_tensor = torch.cat(synthetic_states, dim=0)\n"
      ]
    },
    {
      "cell_type": "code",
      "execution_count": 26,
      "metadata": {
        "colab": {
          "base_uri": "https://localhost:8080/"
        },
        "id": "drtVOcsRIt-b",
        "outputId": "439cc907-595c-4ef4-918d-44574e7083cf"
      },
      "outputs": [
        {
          "name": "stdout",
          "output_type": "stream",
          "text": [
            "{0: '1', 1: '2', 2: '3', 3: '4', 4: '5', 5: '6', 6: '7', 7: '8', 8: '9', 9: '10', 10: '11', 11: '12', 12: '13', 13: '14', 14: '15', 15: '16', 16: '17', 17: '18', 18: '19', 19: '20', 20: '21', 21: '22', 22: '23', 23: '24', 24: '25'}\n"
          ]
        }
      ],
      "source": [
        "state_to_location = dict((state,location) for location,state in location_to_state.items())\n",
        "print(state_to_location)"
      ]
    },
    {
      "cell_type": "code",
      "execution_count": 27,
      "metadata": {
        "colab": {
          "base_uri": "https://localhost:8080/"
        },
        "id": "1PhZ7BI8IjnZ",
        "outputId": "b06ca6cd-3c27-4d91-a849-376dcb9f3976"
      },
      "outputs": [
        {
          "name": "stdout",
          "output_type": "stream",
          "text": [
            "Pre-training Epoch 0, Loss: 0.003887673607096076\n",
            "Pre-training Epoch 10, Loss: 0.3525439500808716\n",
            "Pre-training Epoch 20, Loss: 0.0015369867905974388\n",
            "Pre-training Epoch 30, Loss: 5.638604307023343e-06\n",
            "Pre-training Epoch 40, Loss: 0.0006317534134723246\n",
            "Pre-training Epoch 50, Loss: 0.00025569761055521667\n",
            "Pre-training Epoch 60, Loss: 0.0011075063375756145\n",
            "Pre-training Epoch 70, Loss: 8.359653293155134e-05\n",
            "Pre-training Epoch 80, Loss: 8.236699795816094e-05\n",
            "Pre-training Epoch 90, Loss: 7.054261459416011e-07\n",
            "Pre-training Epoch 100, Loss: 0.0011821734951809049\n",
            "Pre-training Epoch 110, Loss: 0.0063249641098082066\n",
            "Pre-training Epoch 120, Loss: 0.0007273430819623172\n",
            "Pre-training Epoch 130, Loss: 0.0004315042751841247\n",
            "Pre-training Epoch 140, Loss: 3.0136392524582334e-05\n",
            "Pre-training Epoch 150, Loss: 0.0027102429885417223\n",
            "Pre-training Epoch 160, Loss: 0.00017234041297342628\n",
            "Pre-training Epoch 170, Loss: 1.0840758477570489e-05\n",
            "Pre-training Epoch 180, Loss: 4.043000808451325e-05\n",
            "Pre-training Epoch 190, Loss: 1.2739376664683277e-08\n"
          ]
        },
        {
          "name": "stderr",
          "output_type": "stream",
          "text": [
            "/Users/hritik/anaconda3/lib/python3.11/site-packages/torch/nn/modules/loss.py:535: UserWarning: Using a target size (torch.Size([1])) that is different to the input size (torch.Size([])). This will likely lead to incorrect results due to broadcasting. Please ensure they have the same size.\n",
            "  return F.mse_loss(input, target, reduction=self.reduction)\n"
          ]
        }
      ],
      "source": [
        "reward_array = np.zeros((5,5))\n",
        "\n",
        "# Make sure these variables are defined and properly set up before this call\n",
        "pretrain_q_learning_model(\n",
        "    q_model,\n",
        "    generator,\n",
        "    pretrain_epochs=200,\n",
        "    learning_rate=0.01,\n",
        "    state_size=state_size,\n",
        "    action_size=action_size,\n",
        "    device=device,\n",
        "    reward_array=reward_array,  # This should be your NoC's reward matrix\n",
        "    location_to_state=location_to_state,  # Mapping from NoC locations to state indices\n",
        "    state_to_location=state_to_location   # Mapping from state indices back to NoC locations\n",
        ")\n"
      ]
    },
    {
      "cell_type": "code",
      "execution_count": 28,
      "metadata": {
        "colab": {
          "base_uri": "https://localhost:8080/"
        },
        "id": "bzN_HgUQPUhN",
        "outputId": "b01a4b75-dc20-4218-8b20-3b55b9511140"
      },
      "outputs": [
        {
          "name": "stdout",
          "output_type": "stream",
          "text": [
            "Test State is: tensor([-0.3597, -0.1283, -0.1339, -0.1152,  0.1778,  0.2002, -0.3541,  0.1659,\n",
            "         0.0205,  0.3257, -0.1600,  0.4135, -0.3492, -0.2518, -0.3287,  0.3185,\n",
            "        -0.2717, -0.1370,  0.0797, -0.1902,  0.2987,  0.0919, -0.0760, -0.2026,\n",
            "        -0.2120, -0.1618, -0.2244, -0.2921, -0.3224,  0.1514,  0.1651, -0.2250,\n",
            "        -0.2941,  0.0251, -0.3965,  0.3086, -0.3107,  0.0904, -0.0755, -0.1412,\n",
            "        -0.3483, -0.1863,  0.2584, -0.0148,  0.4087,  0.2361, -0.2695, -0.2712,\n",
            "        -0.1200, -0.2005,  0.3465, -0.2572, -0.1571,  0.2400,  0.3692,  0.0733,\n",
            "        -0.2741,  0.1754,  0.1119, -0.3159, -0.2049,  0.0413,  0.1645, -0.2303,\n",
            "         0.0974,  0.1188,  0.4325,  0.1388,  0.3740, -0.3541,  0.1888, -0.1484,\n",
            "         0.0689, -0.3519,  0.1521,  0.2187,  0.3756,  0.2730,  0.1593, -0.2632,\n",
            "         0.2196,  0.2316,  0.3731,  0.0627,  0.4323, -0.2545,  0.0968,  0.0796,\n",
            "        -0.0876,  0.2433,  0.3452,  0.2260,  0.0457, -0.1797,  0.0741,  0.0894,\n",
            "         0.1166, -0.0636,  0.2858, -0.1142,  0.4000, -0.3994,  0.3162, -0.2250,\n",
            "        -0.2439, -0.2559, -0.0121, -0.3619,  0.2954,  0.2678,  0.2708, -0.3270,\n",
            "         0.0295,  0.0424, -0.0321, -0.2372, -0.1099, -0.2818, -0.0316,  0.2239,\n",
            "         0.0968,  0.1067,  0.2399, -0.1201,  0.2109, -0.3684,  0.3714, -0.3158,\n",
            "         0.0248,  0.1614,  0.7980,  0.7562,  0.0747,  0.7126]), Predicted Action is: 4\n",
            "Test State is: tensor([-0.2080, -0.0616, -0.1036, -0.0011,  0.1042,  0.0990, -0.2422,  0.1170,\n",
            "        -0.0180,  0.2794, -0.1039,  0.2255, -0.2715, -0.2177, -0.2877,  0.1650,\n",
            "        -0.1426, -0.1032,  0.1332, -0.1551,  0.1471,  0.0460, -0.0215, -0.0597,\n",
            "        -0.1410, -0.1096, -0.1642, -0.2347, -0.2151,  0.1185,  0.1041, -0.1203,\n",
            "        -0.2184,  0.0762, -0.1848,  0.1906, -0.2055,  0.0292,  0.0295, -0.0317,\n",
            "        -0.1883,  0.0113,  0.1941,  0.0244,  0.2196,  0.1114, -0.1750, -0.1692,\n",
            "         0.0050, -0.0682,  0.2604, -0.2306, -0.0888,  0.1562,  0.2586,  0.0746,\n",
            "        -0.1371,  0.1547,  0.0492, -0.2040, -0.1618,  0.1035,  0.1113, -0.1901,\n",
            "         0.1576,  0.1061,  0.3302,  0.0698,  0.2865, -0.1962,  0.1287, -0.0769,\n",
            "         0.1308, -0.1917, -0.0037,  0.0817,  0.2541,  0.1534,  0.1519, -0.2044,\n",
            "         0.0808,  0.0333,  0.2512,  0.0790,  0.3427, -0.1840,  0.0694,  0.0563,\n",
            "        -0.0158,  0.1352,  0.2792,  0.1799,  0.0852, -0.1984, -0.0320,  0.0817,\n",
            "         0.1350, -0.0256,  0.1981, -0.0512,  0.3263, -0.2349,  0.2354, -0.0874,\n",
            "        -0.1840, -0.2718,  0.0109, -0.1874,  0.2164,  0.1480,  0.2082, -0.1202,\n",
            "         0.0659,  0.0902,  0.0865, -0.1160, -0.0516, -0.1607,  0.0697,  0.0972,\n",
            "         0.0048,  0.1279,  0.1668, -0.1013,  0.1877, -0.2966,  0.3079, -0.2139,\n",
            "        -0.0283,  0.0357,  0.6603,  0.7024,  0.0928,  0.5794]), Predicted Action is: 4\n",
            "Test State is: tensor([-1.8747e-01, -6.6850e-02, -1.0726e-01, -1.7937e-02,  1.1133e-01,\n",
            "         7.3535e-02, -2.2296e-01,  8.7126e-02, -7.5296e-03,  2.6615e-01,\n",
            "        -1.2618e-01,  1.6490e-01, -1.7377e-01, -2.0502e-01, -2.4910e-01,\n",
            "         1.3191e-01, -1.2142e-01, -2.1677e-02,  9.2399e-02, -1.0521e-01,\n",
            "         7.5067e-02,  6.0010e-02, -6.2824e-02, -1.3057e-01, -1.5243e-01,\n",
            "        -1.2176e-01, -2.4431e-02, -1.8889e-01, -2.2606e-01,  1.2665e-01,\n",
            "         1.0108e-01, -1.3327e-01, -1.6169e-01,  2.0212e-02, -1.9355e-01,\n",
            "         1.5208e-01, -1.3094e-01,  2.5066e-02, -2.2022e-02,  3.8900e-02,\n",
            "        -2.1521e-01, -5.8937e-02,  1.5981e-01,  6.2535e-02,  2.4667e-01,\n",
            "         3.6532e-02, -1.2598e-01, -1.3736e-01, -5.5029e-03, -1.3104e-02,\n",
            "         2.1476e-01, -1.3480e-01, -3.1675e-02,  2.1879e-01,  1.4337e-01,\n",
            "         1.0132e-01, -1.5573e-01,  5.5685e-02,  6.7855e-02, -1.4977e-01,\n",
            "        -6.7750e-02,  9.7046e-02,  2.3795e-03, -1.7911e-01,  1.0671e-01,\n",
            "         1.2663e-01,  2.4009e-01,  1.3410e-01,  1.7025e-01, -1.9766e-01,\n",
            "         1.3709e-01, -7.5954e-02, -2.3006e-02, -1.7274e-01,  7.6318e-02,\n",
            "         5.3696e-03,  1.8189e-01,  1.0791e-01,  1.4461e-01, -1.2758e-01,\n",
            "         1.0241e-01,  3.9605e-02,  1.6336e-01,  2.6975e-02,  2.7316e-01,\n",
            "        -1.4136e-01,  1.2165e-01,  1.1522e-01, -4.7879e-02,  1.1566e-01,\n",
            "         2.0975e-01,  6.7507e-02,  4.6165e-02, -1.4403e-01, -1.0254e-02,\n",
            "         5.4055e-02,  5.9255e-02, -2.7213e-04,  1.6773e-01, -9.7105e-02,\n",
            "         2.6219e-01, -2.2487e-01,  2.0776e-01, -7.1391e-02, -1.5345e-01,\n",
            "        -2.5694e-01, -2.3828e-02, -2.2660e-01,  1.8704e-01,  1.4848e-01,\n",
            "         1.0113e-01, -1.4810e-01,  5.2174e-02,  4.1186e-02,  1.7749e-02,\n",
            "        -1.7412e-01,  1.4921e-02, -1.0617e-01,  4.4213e-03,  5.6959e-02,\n",
            "        -6.6624e-03,  6.1357e-02,  1.0376e-01, -9.6155e-02,  1.6094e-01,\n",
            "        -1.7264e-01,  2.3564e-01, -1.6948e-01,  6.5559e-02,  1.1391e-02,\n",
            "         5.4520e-01,  5.7855e-01,  2.4147e-02,  4.8956e-01]), Predicted Action is: 4\n",
            "Test State is: tensor([-0.1325,  0.0672, -0.1375,  0.0612,  0.0020,  0.0028, -0.1842, -0.0024,\n",
            "        -0.0286,  0.1973,  0.0078,  0.1342, -0.1451, -0.1571, -0.1830,  0.0345,\n",
            "        -0.1197,  0.0339, -0.0219, -0.0449,  0.0450, -0.0807, -0.0717, -0.0387,\n",
            "        -0.0447, -0.0796, -0.0537, -0.1003, -0.1555, -0.0221,  0.0224, -0.0848,\n",
            "        -0.0729, -0.0118, -0.1134,  0.0572, -0.0828,  0.0782, -0.0168,  0.0111,\n",
            "        -0.1167,  0.0524,  0.1370, -0.0177,  0.0977, -0.0074, -0.0615, -0.0599,\n",
            "        -0.0185, -0.0649,  0.0714, -0.0976, -0.0422,  0.0948,  0.1237, -0.0331,\n",
            "        -0.1318,  0.0577,  0.1153, -0.1010, -0.0422,  0.1443,  0.0272, -0.1324,\n",
            "         0.1275,  0.0604,  0.1647,  0.0248,  0.1608, -0.1503,  0.0667, -0.0040,\n",
            "         0.0830, -0.0992, -0.0609, -0.0700,  0.0298,  0.0101,  0.0552, -0.0764,\n",
            "        -0.0068,  0.0421,  0.1663,  0.0451,  0.2292, -0.1121,  0.0314,  0.0598,\n",
            "        -0.0861,  0.0256,  0.1545,  0.0275,  0.0910, -0.0627,  0.0726, -0.0014,\n",
            "         0.0341,  0.0237,  0.0792, -0.0323,  0.2467, -0.1351,  0.0629, -0.0532,\n",
            "        -0.1220, -0.2075, -0.0614, -0.1507,  0.1116,  0.1395,  0.0935, -0.0215,\n",
            "         0.0012,  0.1310, -0.0072, -0.0526,  0.0593, -0.0218,  0.0430, -0.0081,\n",
            "         0.0689,  0.0375, -0.0263, -0.0109,  0.2146, -0.1615,  0.1500, -0.1354,\n",
            "         0.0680, -0.0599,  0.3875,  0.4734, -0.0188,  0.4027]), Predicted Action is: 4\n",
            "Test State is: tensor([-2.6899e-01,  5.0087e-02, -2.2146e-01,  8.2701e-02, -5.2915e-02,\n",
            "         6.2704e-02, -2.3926e-01,  6.4970e-03,  8.5756e-02,  3.4632e-01,\n",
            "         1.0396e-01,  4.2445e-01, -3.0924e-01, -2.6680e-01, -2.8996e-01,\n",
            "         1.5206e-01, -3.3337e-01,  2.3069e-02, -1.6876e-01, -5.4021e-02,\n",
            "         1.8701e-01, -2.7334e-02, -1.5191e-01, -1.2996e-01, -9.5358e-02,\n",
            "        -7.7900e-02, -2.8305e-01, -2.3554e-01, -3.3151e-01, -1.0732e-01,\n",
            "         1.0591e-01, -2.5892e-01, -2.0609e-01, -8.3436e-02, -3.2614e-01,\n",
            "         2.0522e-01, -2.0073e-01,  2.4179e-01, -1.6627e-01, -1.7335e-01,\n",
            "        -3.1082e-01, -1.4360e-01,  3.5193e-01, -1.5261e-01,  3.3315e-01,\n",
            "         1.1921e-01, -1.6739e-01, -1.6329e-01, -1.4789e-01, -2.8379e-01,\n",
            "         1.9710e-01, -1.5213e-01, -1.7900e-01,  1.0896e-01,  3.9923e-01,\n",
            "        -1.5087e-01, -3.2706e-01,  1.4395e-01,  2.2671e-01, -2.7169e-01,\n",
            "        -1.6956e-01,  2.0267e-01,  1.8269e-01, -2.1182e-01,  1.9965e-01,\n",
            "        -3.3616e-02,  4.6809e-01, -4.3819e-02,  4.0610e-01, -2.6050e-01,\n",
            "         1.0322e-01, -1.0885e-01,  2.1469e-01, -2.5302e-01,  3.3460e-03,\n",
            "        -7.3334e-04,  1.8463e-01,  1.5422e-01,  2.7564e-02, -1.1284e-01,\n",
            "         1.4884e-01,  2.7725e-01,  4.5195e-01,  1.2830e-01,  4.4320e-01,\n",
            "        -1.6227e-01, -2.5064e-02, -1.2294e-02, -2.2749e-01,  8.2017e-02,\n",
            "         3.9936e-01,  1.0629e-01,  1.8712e-01, -1.4564e-01,  1.4852e-01,\n",
            "        -3.7840e-02, -2.2242e-02, -3.8489e-02,  1.3411e-01, -1.5018e-01,\n",
            "         3.8550e-01, -2.8211e-01,  1.1025e-01, -2.5114e-01, -2.5400e-01,\n",
            "        -2.7899e-01, -1.8275e-01, -3.5796e-01,  3.0078e-01,  3.2977e-01,\n",
            "         2.1252e-01, -1.9765e-01, -4.1791e-02,  1.4501e-01, -1.7886e-01,\n",
            "        -1.2418e-01, -4.2045e-02, -1.9688e-01, -6.0421e-02,  1.1491e-01,\n",
            "         2.1848e-01,  8.9099e-02,  9.4065e-02, -2.2894e-02,  3.4478e-01,\n",
            "        -3.4576e-01,  2.2005e-01, -2.4256e-01,  1.7532e-01, -4.5973e-02,\n",
            "         7.6361e-01,  7.1916e-01,  6.1368e-02,  7.2786e-01]), Predicted Action is: 4\n",
            "Test State is: tensor([-8.1104e-01, -4.4684e-01, -2.5464e-01, -4.3091e-01,  6.6263e-01,\n",
            "         6.8415e-01, -8.2270e-01,  5.6889e-01, -1.2758e-02,  7.4750e-01,\n",
            "        -5.9095e-01,  8.2127e-01, -8.2970e-01, -5.3640e-01, -7.8993e-01,\n",
            "         8.4311e-01, -6.8149e-01, -5.6832e-01,  4.4832e-01, -4.1816e-01,\n",
            "         8.2068e-01,  3.1244e-01,  4.9040e-04, -6.9112e-01, -5.2539e-01,\n",
            "        -2.5066e-01, -6.8284e-01, -6.8782e-01, -6.0554e-01,  6.0974e-01,\n",
            "         4.0106e-01, -7.6765e-01, -5.6433e-01,  2.7240e-02, -8.4505e-01,\n",
            "         8.2405e-01, -7.2221e-01,  2.5248e-01, -3.0399e-01, -4.2079e-01,\n",
            "        -7.9818e-01, -4.2319e-01,  4.7440e-01, -1.4635e-01,  7.4242e-01,\n",
            "         6.5335e-01, -6.9028e-01, -7.8438e-01, -3.6971e-01, -5.6300e-01,\n",
            "         7.7645e-01, -7.3742e-01, -5.8028e-01,  6.9291e-01,  8.3784e-01,\n",
            "         6.3929e-01, -6.8505e-01,  6.4902e-01,  1.6317e-01, -8.0071e-01,\n",
            "        -5.2976e-01, -6.3598e-02,  3.7365e-01, -7.2722e-01,  4.3766e-04,\n",
            "         4.7151e-01,  8.8741e-01,  4.4691e-01,  7.9571e-01, -7.9924e-01,\n",
            "         4.1510e-01, -3.0410e-01,  3.2539e-01, -8.1851e-01,  5.7110e-01,\n",
            "         5.7480e-01,  8.8377e-01,  6.6146e-01,  5.5841e-01, -7.3489e-01,\n",
            "         5.4455e-01,  4.8856e-01,  8.0436e-01,  1.7081e-01,  9.1113e-01,\n",
            "        -7.3108e-01,  1.8840e-01,  2.0474e-01,  7.2386e-02,  6.2340e-01,\n",
            "         7.7332e-01,  6.0557e-01, -2.9659e-02, -6.2356e-01, -4.0072e-03,\n",
            "         4.8167e-01,  4.6093e-01, -2.6912e-01,  7.4749e-01, -2.1826e-01,\n",
            "         8.5258e-01, -7.7906e-01,  8.8808e-01, -7.4959e-01, -7.8503e-01,\n",
            "        -6.1897e-01,  9.2158e-02, -8.6846e-01,  8.1126e-01,  5.4294e-01,\n",
            "         5.2861e-01, -8.3194e-01,  6.6385e-02,  7.5786e-02,  7.2804e-02,\n",
            "        -6.5912e-01, -4.4994e-01, -7.8249e-01, -2.7841e-01,  5.4464e-01,\n",
            "         7.6861e-02,  9.7860e-02,  6.7137e-01, -4.3769e-01,  5.3370e-01,\n",
            "        -8.3966e-01,  7.1550e-01, -8.1845e-01, -4.3521e-01,  5.1417e-01,\n",
            "         9.9741e-01,  9.9243e-01,  2.4524e-01,  9.8671e-01]), Predicted Action is: 4\n",
            "Test State is: tensor([-0.5296, -0.0846, -0.3091, -0.1756,  0.2384,  0.3160, -0.5249,  0.2477,\n",
            "         0.0619,  0.4159, -0.1991,  0.5851, -0.5215, -0.3854, -0.4672,  0.4361,\n",
            "        -0.4236, -0.2940,  0.0831, -0.2203,  0.4765,  0.0839, -0.1072, -0.3528,\n",
            "        -0.1670, -0.1084, -0.4501, -0.3984, -0.3910,  0.1921,  0.1250, -0.3812,\n",
            "        -0.3003, -0.0231, -0.5632,  0.5036, -0.4177,  0.1773, -0.1904, -0.2968,\n",
            "        -0.4917, -0.1938,  0.3477, -0.1221,  0.4620,  0.3204, -0.3918, -0.3609,\n",
            "        -0.2887, -0.3503,  0.3715, -0.4519, -0.3340,  0.3690,  0.5098,  0.1572,\n",
            "        -0.4250,  0.3724,  0.1565, -0.5070, -0.3185,  0.0982,  0.2590, -0.3968,\n",
            "         0.1293,  0.2414,  0.5951,  0.0824,  0.5196, -0.5233,  0.1488, -0.1360,\n",
            "         0.2068, -0.4732,  0.1119,  0.3418,  0.5321,  0.3607,  0.1845, -0.3961,\n",
            "         0.2017,  0.3743,  0.4857,  0.1804,  0.6297, -0.4209,  0.0359,  0.0705,\n",
            "        -0.1455,  0.2897,  0.4952,  0.3701,  0.0175, -0.3211,  0.1872,  0.1148,\n",
            "         0.1477, -0.0444,  0.3580, -0.1438,  0.5839, -0.4945,  0.4483, -0.4409,\n",
            "        -0.4169, -0.3753, -0.0136, -0.5395,  0.4502,  0.3536,  0.2745, -0.4581,\n",
            "        -0.0777,  0.1390, -0.1061, -0.3151, -0.1992, -0.4266, -0.1105,  0.2433,\n",
            "         0.1219,  0.0314,  0.3110, -0.1772,  0.3806, -0.5072,  0.4080, -0.4690,\n",
            "        -0.0408,  0.1930,  0.9068,  0.8725,  0.0220,  0.8252]), Predicted Action is: 4\n",
            "Test State is: tensor([-0.8875, -0.5153, -0.2911, -0.4919,  0.7215,  0.7754, -0.8626,  0.6854,\n",
            "         0.1242,  0.8426, -0.6253,  0.9200, -0.8855, -0.6502, -0.8585,  0.8967,\n",
            "        -0.7777, -0.6035,  0.4102, -0.5331,  0.8817,  0.4961, -0.0213, -0.7711,\n",
            "        -0.5969, -0.2400, -0.7634, -0.8249, -0.7614,  0.6247,  0.5333, -0.8473,\n",
            "        -0.6768,  0.0274, -0.9186,  0.8994, -0.7920,  0.3481, -0.3923, -0.5759,\n",
            "        -0.8939, -0.6506,  0.6985, -0.1956,  0.8892,  0.7588, -0.8071, -0.8539,\n",
            "        -0.4909, -0.6685,  0.8750, -0.8014, -0.6583,  0.7475,  0.9223,  0.6105,\n",
            "        -0.7857,  0.7198,  0.2637, -0.8721, -0.6481, -0.0636,  0.4317, -0.7739,\n",
            "         0.0640,  0.5077,  0.9590,  0.4900,  0.9088, -0.8557,  0.5421, -0.4886,\n",
            "         0.3843, -0.8906,  0.7009,  0.6528,  0.9402,  0.8089,  0.5993, -0.7425,\n",
            "         0.6998,  0.6403,  0.8842,  0.2967,  0.9507, -0.8071,  0.2038,  0.2057,\n",
            "        -0.0296,  0.7064,  0.8909,  0.7156, -0.0488, -0.7222,  0.0059,  0.5277,\n",
            "         0.4745, -0.3426,  0.8254, -0.3734,  0.9028, -0.8635,  0.9287, -0.8359,\n",
            "        -0.8670, -0.6987,  0.0138, -0.9363,  0.8867,  0.6947,  0.6705, -0.9189,\n",
            "         0.0632, -0.0097, -0.0389, -0.7736, -0.5704, -0.8874, -0.3615,  0.6543,\n",
            "         0.1857,  0.1886,  0.7661, -0.5809,  0.6613, -0.9059,  0.7832, -0.8564,\n",
            "        -0.3169,  0.5747,  0.9995,  0.9979,  0.3402,  0.9962]), Predicted Action is: 4\n",
            "Test State is: tensor([-0.2700, -0.1236, -0.1091, -0.0956,  0.1235,  0.1252, -0.2591,  0.1433,\n",
            "         0.0021,  0.2427, -0.1273,  0.3392, -0.2614, -0.2348, -0.2599,  0.2079,\n",
            "        -0.2030, -0.1223,  0.0821, -0.1726,  0.2148,  0.0954, -0.0651, -0.1200,\n",
            "        -0.1742, -0.1747, -0.1810, -0.2169, -0.2703,  0.1363,  0.1498, -0.1131,\n",
            "        -0.2695,  0.0577, -0.2984,  0.2183, -0.2478,  0.0410,  0.0126, -0.0730,\n",
            "        -0.2715, -0.1559,  0.2068,  0.0630,  0.3325,  0.1793, -0.2262, -0.1454,\n",
            "        -0.0460, -0.1125,  0.2705, -0.2063, -0.0732,  0.1997,  0.2646,  0.0446,\n",
            "        -0.1897,  0.0807,  0.0711, -0.2507, -0.1732,  0.0405,  0.1300, -0.1812,\n",
            "         0.1022,  0.1164,  0.3414,  0.0974,  0.2831, -0.2715,  0.1560, -0.1730,\n",
            "         0.0212, -0.2602,  0.0855,  0.2049,  0.2911,  0.2222,  0.1336, -0.1987,\n",
            "         0.1706,  0.1503,  0.2434,  0.0502,  0.3096, -0.1919,  0.1324,  0.0838,\n",
            "        -0.0878,  0.1948,  0.2816,  0.2105,  0.0227, -0.1601,  0.0520,  0.0620,\n",
            "         0.1078, -0.0603,  0.2380, -0.0918,  0.3060, -0.3150,  0.2265, -0.1267,\n",
            "        -0.1542, -0.2061,  0.0050, -0.2296,  0.1895,  0.2031,  0.2244, -0.2313,\n",
            "         0.0380,  0.0065, -0.0063, -0.1795, -0.0888, -0.2073,  0.0365,  0.1847,\n",
            "         0.0538,  0.1237,  0.2113, -0.1005,  0.1486, -0.2635,  0.3484, -0.2120,\n",
            "         0.0448,  0.1527,  0.6667,  0.6614,  0.0729,  0.5951]), Predicted Action is: 4\n",
            "Test State is: tensor([-0.8848, -0.6904, -0.1340, -0.6008,  0.8629,  0.8408, -0.8763,  0.8313,\n",
            "        -0.0257,  0.8763, -0.8231,  0.8639, -0.8794, -0.7079, -0.9117,  0.9169,\n",
            "        -0.6502, -0.7513,  0.8066, -0.6606,  0.8855,  0.6625,  0.2888, -0.7498,\n",
            "        -0.7126, -0.3357, -0.7217, -0.8679, -0.7220,  0.8609,  0.6244, -0.8515,\n",
            "        -0.7180,  0.3527, -0.9019,  0.9288, -0.8186,  0.0761, -0.0848, -0.3286,\n",
            "        -0.9091, -0.5331,  0.5522,  0.1742,  0.8651,  0.7671, -0.8518, -0.8688,\n",
            "        -0.2946, -0.3545,  0.9278, -0.8749, -0.6123,  0.8534,  0.9043,  0.8517,\n",
            "        -0.7046,  0.7463, -0.0917, -0.8732, -0.6893, -0.1790,  0.2876, -0.8469,\n",
            "         0.0097,  0.7049,  0.9587,  0.6853,  0.8883, -0.8595,  0.6459, -0.5374,\n",
            "         0.3220, -0.8873,  0.7811,  0.6717,  0.9654,  0.8312,  0.7852, -0.8179,\n",
            "         0.7579,  0.3161,  0.7977,  0.2497,  0.9597, -0.8815,  0.4620,  0.4221,\n",
            "         0.3429,  0.7798,  0.8994,  0.8017, -0.2302, -0.8502, -0.4387,  0.6638,\n",
            "         0.6947, -0.4618,  0.9075, -0.3036,  0.9189, -0.8612,  0.9729, -0.7734,\n",
            "        -0.8906, -0.7778,  0.3335, -0.9319,  0.9263,  0.4991,  0.6393, -0.9140,\n",
            "         0.3383, -0.2013,  0.3920, -0.8415, -0.6256, -0.8891, -0.2773,  0.6379,\n",
            "        -0.2051,  0.1761,  0.8710, -0.7096,  0.6201, -0.9133,  0.8744, -0.8903,\n",
            "        -0.5802,  0.6814,  0.9998,  0.9993,  0.5017,  0.9974]), Predicted Action is: 4\n"
          ]
        }
      ],
      "source": [
        "q_model.eval()\n",
        "\n",
        "with torch.no_grad():  # No need to track gradients during evaluation\n",
        "    for i, test_state in enumerate(synthetic_states_tensor):\n",
        "\n",
        "        state_tensor = test_state.clone().detach().to(device) if isinstance(test_state, torch.Tensor) else torch.tensor(test_state, dtype=torch.float32).to(device)\n",
        "\n",
        "        q_values = q_model(state_tensor)\n",
        "        predicted_action = torch.argmax(q_values, dim=0).item()\n",
        "        if i < 10:\n",
        "            print(f\"Test State is: {test_state}, Predicted Action is: {predicted_action}\")\n"
      ]
    },
    {
      "cell_type": "code",
      "execution_count": 29,
      "metadata": {
        "id": "lkRrLXj8wMOd"
      },
      "outputs": [],
      "source": [
        "def get_real_noc_state():\n",
        "\n",
        "    state = torch.randn(state_size)  # Generate a random state\n",
        "    return state.to(device)\n"
      ]
    },
    {
      "cell_type": "code",
      "execution_count": 30,
      "metadata": {
        "colab": {
          "base_uri": "https://localhost:8080/"
        },
        "id": "L3C02MXqPUmI",
        "outputId": "8a84af23-4490-4c89-b848-5e60f5913aca"
      },
      "outputs": [
        {
          "name": "stdout",
          "output_type": "stream",
          "text": [
            "Fine-tuning with learning rate: 0.01\n",
            "Fine-tuning Epoch 0, Loss: 0.006065009161829948\n",
            "Fine-tuning Epoch 10, Loss: 0.19578999280929565\n",
            "Fine-tuning Epoch 20, Loss: 3.0564831831725314e-05\n",
            "Fine-tuning Epoch 30, Loss: 0.2749774158000946\n",
            "Fine-tuning Epoch 40, Loss: 0.5653566718101501\n",
            "Fine-tuning Epoch 50, Loss: 1.900536298751831\n",
            "Fine-tuning Epoch 60, Loss: 0.5912995934486389\n",
            "Fine-tuning Epoch 70, Loss: 0.28892266750335693\n",
            "Fine-tuning Epoch 80, Loss: 0.0024213686119765043\n",
            "Fine-tuning Epoch 90, Loss: 0.4236280620098114\n",
            "Fine-tuning with learning rate: 0.001\n",
            "Fine-tuning Epoch 0, Loss: 0.010389515198767185\n",
            "Fine-tuning Epoch 10, Loss: 0.0017127770697697997\n",
            "Fine-tuning Epoch 20, Loss: 7.711226940155029\n",
            "Fine-tuning Epoch 30, Loss: 0.02574543096125126\n",
            "Fine-tuning Epoch 40, Loss: 0.12452825158834457\n",
            "Fine-tuning Epoch 50, Loss: 0.1261252909898758\n",
            "Fine-tuning Epoch 60, Loss: 0.3447142243385315\n",
            "Fine-tuning Epoch 70, Loss: 0.46818143129348755\n",
            "Fine-tuning Epoch 80, Loss: 0.07079716771841049\n",
            "Fine-tuning Epoch 90, Loss: 0.04835151880979538\n",
            "Fine-tuning with learning rate: 0.0001\n",
            "Fine-tuning Epoch 0, Loss: 0.09696203470230103\n",
            "Fine-tuning Epoch 10, Loss: 0.0008418967481702566\n",
            "Fine-tuning Epoch 20, Loss: 0.2851548194885254\n",
            "Fine-tuning Epoch 30, Loss: 0.033129267394542694\n",
            "Fine-tuning Epoch 40, Loss: 1.0253113508224487\n",
            "Fine-tuning Epoch 50, Loss: 0.0012216698378324509\n",
            "Fine-tuning Epoch 60, Loss: 0.011232922784984112\n",
            "Fine-tuning Epoch 70, Loss: 0.8801547288894653\n",
            "Fine-tuning Epoch 80, Loss: 0.6560466885566711\n",
            "Fine-tuning Epoch 90, Loss: 0.6614736914634705\n"
          ]
        }
      ],
      "source": [
        "def run_fine_tuning_for_learning_rates(model, fine_tune_epochs, learning_rates, state_size, action_size, device, reward_array, location_to_state, state_to_location):\n",
        "    # Dictionary to hold the average losses for each learning rate\n",
        "    avg_losses_per_lr = {}\n",
        "\n",
        "    # Loop over different learning rates\n",
        "    for lr in learning_rates:\n",
        "        print(f\"Fine-tuning with learning rate: {lr}\")\n",
        "        # Assuming fine_tune_q_learning_model is modified to accept and properly use the new parameters\n",
        "        avg_loss = fine_tune_q_learning_model(model, fine_tune_epochs, lr, state_size, action_size, device, reward_array, location_to_state, state_to_location)\n",
        "        avg_losses_per_lr[lr] = avg_loss\n",
        "\n",
        "    return avg_losses_per_lr\n",
        "\n",
        "\n",
        "# Define your parameters\n",
        "fine_tune_epochs = 100\n",
        "learning_rates = [0.01, 0.001, 0.0001]  # Example learning rates\n",
        "state_size = state_size  # Define your state size\n",
        "action_size = action_size  # Define your action size\n",
        "device = torch.device(\"cuda\" if torch.cuda.is_available() else \"cpu\")\n",
        "# Example usage:\n",
        "# Make sure to define or obtain reward_array, location_to_state, and state_to_location before calling this function\n",
        "avg_losses = run_fine_tuning_for_learning_rates(\n",
        "    q_model,\n",
        "    fine_tune_epochs,\n",
        "    learning_rates,\n",
        "    state_size,\n",
        "    action_size,\n",
        "    device,\n",
        "    reward_array,  # Make sure this is defined\n",
        "    location_to_state,  # Make sure this is defined\n",
        "    state_to_location  # Make sure this is defined\n",
        ")\n",
        "\n",
        "\n",
        "# # Plotting the results\n",
        "# plt.figure(figsize=(10, 6))\n",
        "# plt.plot(learning_rates, [avg_losses[lr] for lr in learning_rates], marker='o')\n",
        "# plt.xlabel('Learning Rate')\n",
        "# plt.ylabel('Average Loss')\n",
        "# plt.title('Average Loss vs. Learning Rate')\n",
        "# plt.xscale('log')  # Since\n"
      ]
    },
    {
      "cell_type": "code",
      "execution_count": 31,
      "metadata": {
        "colab": {
          "base_uri": "https://localhost:8080/"
        },
        "id": "yaXsOIg0_qQc",
        "outputId": "cd6e1bae-0c75-4410-a705-feb9b7462940"
      },
      "outputs": [
        {
          "name": "stdout",
          "output_type": "stream",
          "text": [
            "{0.01: None, 0.001: None, 0.0001: None}\n"
          ]
        }
      ],
      "source": [
        "print(avg_losses)\n"
      ]
    },
    {
      "cell_type": "code",
      "execution_count": 32,
      "metadata": {
        "colab": {
          "base_uri": "https://localhost:8080/",
          "height": 718
        },
        "id": "8Id5_A3kCM0J",
        "outputId": "a48e3496-2155-4b0e-c60f-afbf76d865e8"
      },
      "outputs": [
        {
          "data": {
            "image/png": "[encoded data removed]",
            "text/plain": [
              "<Figure size 1200x800 with 1 Axes>"
            ]
          },
          "metadata": {},
          "output_type": "display_data"
        }
      ],
      "source": [
        "import matplotlib.pyplot as plt\n",
        "\n",
        "# Loss values for each learning rate\n",
        "losses = {\n",
        "    0.01: [0.04436193406581879, 0.2828226089477539, 0.14149786531925201, 0.4483889043331146, 0.7703043818473816, 0.038790225982666016, 1.0821348428726196, 6.659852027893066, 0.00027566778589971364, 1.0962485074996948],\n",
        "    0.001: [0.9997183084487915, 0.26420366764068604, 0.19119352102279663, 0.8151378631591797, 3.363884449005127, 0.0203425120562315, 1.3398990631103516, 0.4744490087032318, 0.14148609340190887, 0.03283276781439781],\n",
        "    0.0001: [0.006462021265178919, 1.019790768623352, 0.8158676028251648, 0.7175911664962769, 1.574131965637207, 0.06792581081390381, 0.0005035356152802706, 0.7881684899330139, 0.3424261212348938, 0.0001799016899894923]\n",
        "}\n",
        "\n",
        "# Prepare the plot\n",
        "plt.figure(figsize=(12, 8))\n",
        "\n",
        "# Epochs to plot against\n",
        "epochs = range(0, 100, 10)  # Assuming you have 10 data points, matching your loss intervals\n",
        "\n",
        "# Plot each learning rate's losses\n",
        "for lr, lr_losses in losses.items():\n",
        "    plt.plot(epochs, lr_losses, marker='o', label=f'LR={lr}')\n",
        "\n",
        "# Adding plot details\n",
        "plt.xlabel('Epochs')\n",
        "plt.ylabel('Loss')\n",
        "plt.title('Loss vs. Epochs for different Learning Rates')\n",
        "plt.legend()\n",
        "plt.grid(True)\n",
        "\n",
        "# Show the plot\n",
        "plt.show()\n"
      ]
    },
    {
      "cell_type": "code",
      "execution_count": 33,
      "metadata": {
        "id": "xJS5Pks_OUex"
      },
      "outputs": [],
      "source": [
        "def find_optimal_path(model, source, destination, state_to_location, location_to_state, device):\n",
        "    model.eval()\n",
        "    if str(source) not in location_to_state or str(destination) not in location_to_state:\n",
        "        print(f\"Source or destination not found in location_to_state dictionary. Source: {source}, Destination: {destination}\")\n",
        "        return []\n",
        "\n",
        "    path = [str(source)]\n",
        "    current_state = str(source)\n",
        "\n",
        "    while current_state != str(destination):\n",
        "        state_index = location_to_state[current_state]  # Convert location to state index\n",
        "\n",
        "        # Create a one-hot encoded tensor based on the state index\n",
        "        state_vector = torch.zeros([1, 134], dtype=torch.float32)  # Adjust 134 to your actual state size\n",
        "        state_vector[0][state_index] = 1  # Set the appropriate index to 1 for one-hot encoding\n",
        "\n",
        "        state_vector = state_vector.to(device)  # Move to the correct device\n",
        "\n",
        "        with torch.no_grad():\n",
        "            q_values = model(state_vector)\n",
        "        predicted_action = torch.argmax(q_values, dim=1).item()\n",
        "\n",
        "        next_state = state_to_location[predicted_action]\n",
        "        if next_state in path:\n",
        "            print(\"Cycle detected. Terminating path search.\")\n",
        "            break\n",
        "\n",
        "        path.append(next_state)\n",
        "        current_state = next_state\n",
        "\n",
        "    return path\n"
      ]
    },
    {
      "cell_type": "code",
      "execution_count": 34,
      "metadata": {
        "colab": {
          "base_uri": "https://localhost:8080/"
        },
        "id": "EhB9acYfQItx",
        "outputId": "12d5ab63-321e-418b-937a-d75679747499"
      },
      "outputs": [
        {
          "name": "stdout",
          "output_type": "stream",
          "text": [
            "Cycle detected. Terminating path search.\n",
            "Optimal path from 5 to 10: ['5']\n",
            "Cycle detected. Terminating path search.\n",
            "Optimal path from 1 to 25: ['1', '3']\n",
            "Cycle detected. Terminating path search.\n",
            "Optimal path from 3 to 10: ['3', '1']\n"
          ]
        }
      ],
      "source": [
        "\n",
        "test_pairs = [('5','10'),('1','25'),('3','10')]\n",
        "\"\"\n",
        "for source, destination in test_pairs:\n",
        "    path = find_optimal_path(q_model, source, destination, state_to_location, location_to_state, device)\n",
        "    print(f\"Optimal path from {source} to {destination}: {path}\")\n"
      ]
    },
    {
      "cell_type": "code",
      "execution_count": 35,
      "metadata": {
        "colab": {
          "base_uri": "https://localhost:8080/"
        },
        "id": "ZmqmfXatgrTj",
        "outputId": "7c708c17-dc9e-4310-b964-6053188f6f63"
      },
      "outputs": [
        {
          "name": "stdout",
          "output_type": "stream",
          "text": [
            "Cycle detected. Terminating path search.\n",
            "Cycle detected. Terminating path search.\n",
            "Cycle detected. Terminating path search.\n"
          ]
        }
      ],
      "source": [
        "paths = {f\"{src} to {dest}\": find_optimal_path(q_model, src, dest, state_to_location, location_to_state, device) for src, dest in test_pairs}"
      ]
    },
    {
      "cell_type": "code",
      "execution_count": 36,
      "metadata": {
        "id": "yBa3ugdvs9pH"
      },
      "outputs": [],
      "source": [
        "def convert_path_to_grid(path, size):\n",
        "    grid_path = []\n",
        "    for node_label in path:\n",
        "        node_index = int(node_label) - 1  # Convert label to 0-based index\n",
        "        row = node_index // size\n",
        "        col = node_index % size\n",
        "        grid_path.append((row, col))\n",
        "    return grid_path\n"
      ]
    },
    {
      "cell_type": "code",
      "execution_count": 37,
      "metadata": {
        "colab": {
          "base_uri": "https://localhost:8080/",
          "height": 591
        },
        "id": "3geUdcxSWqN5",
        "outputId": "c71e5f4c-98db-4922-e547-a5dcf7cee8e3"
      },
      "outputs": [
        {
          "name": "stdout",
          "output_type": "stream",
          "text": [
            "Cycle detected. Terminating path search.\n",
            "Cycle detected. Terminating path search.\n",
            "Cycle detected. Terminating path search.\n"
          ]
        },
        {
          "data": {
            "image/png": "[encoded data removed]",
            "text/plain": [
              "<Figure size 640x480 with 1 Axes>"
            ]
          },
          "metadata": {},
          "output_type": "display_data"
        }
      ],
      "source": [
        "import networkx as nx\n",
        "import matplotlib.pyplot as plt\n",
        "\n",
        "\n",
        "source_dest_pairs = [('5','10'),('1','25'),('3','10')]\n",
        "\n",
        "size = 5  # Mesh size\n",
        "G = nx.grid_2d_graph(size, size)\n",
        "pos = {(x, y): (y, -x) for x, y in G.nodes()}\n",
        "labels = {(x, y): str(x * size + y + 1) for x, y in G.nodes()}\n",
        "\n",
        "paths = {f\"{src} to {dest}\": find_optimal_path(q_model, src, dest, state_to_location, location_to_state, device) for src, dest in source_dest_pairs}\n",
        "\n",
        "nx.draw(G, pos, labels=labels, with_labels=True, node_size=700, node_color='lightblue')\n",
        "\n",
        "for label, path in paths.items():\n",
        "    grid_path = convert_path_to_grid(path, size)\n",
        "    edges = list(zip(grid_path[:-1], grid_path[1:]))\n",
        "    nx.draw_networkx_edges(G, pos, edgelist=edges, width=2, edge_color='yellow', style='solid', label=label)\n",
        "\n",
        "plt.legend()\n",
        "plt.title(\"Predicted Paths in Mesh Topology\")\n",
        "plt.axis('equal')\n",
        "plt.gca().invert_yaxis()\n",
        "plt.show()\n"
      ]
    },
    {
      "cell_type": "markdown",
      "metadata": {
        "id": "6OELwYcSZ1S-"
      },
      "source": []
    }
  ],
  "metadata": {
    "colab": {
      "provenance": []
    },
    "kernelspec": {
      "display_name": "Python 3",
      "name": "python3"
    },
    "language_info": {
      "codemirror_mode": {
        "name": "ipython",
        "version": 3
      },
      "file_extension": ".py",
      "mimetype": "text/x-python",
      "name": "python",
      "nbconvert_exporter": "python",
      "pygments_lexer": "ipython3",
      "version": "3.11.5"
    }
  },
  "nbformat": 4,
  "nbformat_minor": 0
}
