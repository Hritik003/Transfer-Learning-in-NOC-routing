{
  "cells": [
    {
      "cell_type": "code",
      "execution_count": 1,
      "metadata": {
        "id": "2jvhY5SpPTAQ"
      },
      "outputs": [],
      "source": [
        "import torch\n",
        "import torch.nn as nn\n",
        "import torch.optim as optim\n",
        "import numpy as np\n",
        "import matplotlib.pyplot as plt\n"
      ]
    },
    {
      "cell_type": "code",
      "execution_count": 2,
      "metadata": {
        "id": "rKbTc5xS2oYi"
      },
      "outputs": [],
      "source": [
        "class Router(object):\n",
        "    def __init__(self,x,y):\n",
        "        self.x = x\n",
        "        self.y = y\n",
        "        self.neighbor = []\n",
        "        self.edge = []\n",
        "\n",
        "class Edge(object):\n",
        "    def __init__(self,x,y,l):\n",
        "        self.start = x\n",
        "        self.end = y\n",
        "        self.len = int(int(l*10)/2+1)\n",
        "        self.load = 0\n",
        "\n",
        "class Data(object):\n",
        "    def __init__(self,x,y,size,priority):\n",
        "        self.now = x\n",
        "        self.target = y\n",
        "        self.size = size\n",
        "        self.priority = priority\n",
        "        self.time = 0\n",
        "        self.edge = -1\n",
        "        self.neigh = [priority,-1,-1,-1]\n",
        "\n",
        "router = []\n",
        "edges = []\n",
        "t_edge = 0 ##keeps tracks of the number of edges in the graph\n",
        "n_router = 25"
      ]
    },
    {
      "cell_type": "code",
      "execution_count": 3,
      "metadata": {
        "colab": {
          "base_uri": "https://localhost:8080/",
          "height": 864
        },
        "id": "OlMzAYbz2taB",
        "outputId": "a775c75a-d8e3-4b7f-812a-d3953eab9f95"
      },
      "outputs": [
        {
          "name": "stdout",
          "output_type": "stream",
          "text": [
            "0 0\n",
            "0.25 0\n",
            "0.5 0\n",
            "0.75 0\n",
            "1.0 0\n",
            "0 0.25\n",
            "0.25 0.25\n",
            "0.5 0.25\n",
            "0.75 0.25\n",
            "1.0 0.25\n",
            "0 0.5\n",
            "0.25 0.5\n",
            "0.5 0.5\n",
            "0.75 0.5\n",
            "1.0 0.5\n",
            "0 0.75\n",
            "0.25 0.75\n",
            "0.5 0.75\n",
            "0.75 0.75\n",
            "1.0 0.75\n",
            "0 1.0\n",
            "0.25 1.0\n",
            "0.5 1.0\n",
            "0.75 1.0\n",
            "1.0 1.0\n"
          ]
        },
        {
          "data": {
            "image/png": "[encoded data removed]",
            "text/plain": [
              "<Figure size 640x480 with 1 Axes>"
            ]
          },
          "metadata": {},
          "output_type": "display_data"
        }
      ],
      "source": [
        "#Router Topology (Router Positions)\n",
        "y_coordinate = 0\n",
        "x_coordinate = 0\n",
        "x_increment = 0.25\n",
        "y_increment = 0.25\n",
        "x_max = 1\n",
        "y_max = float('inf')  # Assuming there's no maximum y-coordinate\n",
        "\n",
        "for i in range(n_router):\n",
        "    router.append(Router(x_coordinate, y_coordinate))\n",
        "    x_coordinate += x_increment\n",
        "    if x_coordinate > x_max:\n",
        "        x_coordinate = 0\n",
        "        y_coordinate += y_increment\n",
        "\n",
        "for i in range(n_router):\n",
        "\tprint(router[i].x,router[i].y)\n",
        "\tplt.scatter(router[i].x, router[i].y, color = 'red')\n",
        "plt.show()"
      ]
    },
    {
      "cell_type": "code",
      "execution_count": 4,
      "metadata": {
        "colab": {
          "base_uri": "https://localhost:8080/",
          "height": 430
        },
        "id": "f-GvrvbM2yIg",
        "outputId": "914b65c0-37d2-4cc8-8525-54541b1dc09e"
      },
      "outputs": [
        {
          "data": {
            "image/png": "[encoded data removed]",
            "text/plain": [
              "<Figure size 640x480 with 1 Axes>"
            ]
          },
          "metadata": {},
          "output_type": "display_data"
        }
      ],
      "source": [
        "for i in range(n_router):\n",
        "  dis = []\n",
        "  for j in range(n_router):\n",
        "    dis.append([(router[j].x - router[i].x)**2 + (router[j].y - router[i].y)**2, j])\n",
        "  dis.sort(key = lambda x: x[0],reverse = False)\n",
        "\n",
        "  for j in range(n_router):\n",
        "    if(j==i):\n",
        "      continue\n",
        "    else:\n",
        "      if(dis[j][0] == 0.0625):\n",
        "        if dis[j][1] not in router[i].neighbor:\n",
        "          router[i].neighbor.append(dis[j][1])\n",
        "          router[dis[j][1]].neighbor.append(i)\n",
        "          if i<dis[j][1]:\n",
        "            edges.append(Edge(i,dis[j][1],np.sqrt(dis[j][0])))\n",
        "            router[i].edge.append(t_edge)\n",
        "            router[dis[j][1]].edge.append(t_edge)\n",
        "            t_edge += 1\n",
        "          else:\n",
        "            edges.append(Edge(dis[j][1],i,np.sqrt(dis[j][0])))\n",
        "            router[dis[j][1]].edge.append(t_edge)\n",
        "            router[i].edge.append(t_edge)\n",
        "            t_edge += 1\n",
        "\n",
        "for i in range(n_router):\n",
        "    plt.scatter(router[i].x, router[i].y, color = 'orange')\n",
        "for e in edges:\n",
        "    plt.plot([router[e.start].x,router[e.end].x],[router[e.start].y,router[e.end].y],color='black')"
      ]
    },
    {
      "cell_type": "code",
      "execution_count": 5,
      "metadata": {
        "colab": {
          "base_uri": "https://localhost:8080/"
        },
        "id": "I-wvhfLQ21Il",
        "outputId": "042e73d4-4fda-4b3c-9887-61645eeb7e97"
      },
      "outputs": [
        {
          "name": "stdout",
          "output_type": "stream",
          "text": [
            "total no of edges:  40\n",
            "Router 0: x = 0 y = 0 neighbor = [1, 5] edges = [0, 1]\n",
            "Router 1: x = 0.25 y = 0 neighbor = [0, 2, 6] edges = [0, 2, 3]\n",
            "Router 2: x = 0.5 y = 0 neighbor = [1, 7, 3] edges = [2, 4, 5]\n",
            "Router 3: x = 0.75 y = 0 neighbor = [2, 4, 8] edges = [5, 6, 14]\n",
            "Router 4: x = 1.0 y = 0 neighbor = [3, 9] edges = [6, 7]\n",
            "Router 5: x = 0 y = 0.25 neighbor = [0, 6, 10] edges = [1, 8, 9]\n",
            "Router 6: x = 0.25 y = 0.25 neighbor = [1, 5, 7, 11] edges = [3, 8, 10, 11]\n",
            "Router 7: x = 0.5 y = 0.25 neighbor = [2, 6, 8, 12] edges = [4, 10, 12, 13]\n",
            "Router 8: x = 0.75 y = 0.25 neighbor = [7, 3, 9, 13] edges = [12, 14, 15, 16]\n",
            "Router 9: x = 1.0 y = 0.25 neighbor = [4, 8, 14] edges = [7, 15, 17]\n",
            "Router 10: x = 0 y = 0.5 neighbor = [5, 11, 15] edges = [9, 18, 19]\n",
            "Router 11: x = 0.25 y = 0.5 neighbor = [6, 10, 12, 16] edges = [11, 18, 20, 21]\n",
            "Router 12: x = 0.5 y = 0.5 neighbor = [7, 11, 13, 17] edges = [13, 20, 22, 23]\n",
            "Router 13: x = 0.75 y = 0.5 neighbor = [8, 12, 14, 18] edges = [16, 22, 24, 25]\n",
            "Router 14: x = 1.0 y = 0.5 neighbor = [9, 13, 19] edges = [17, 24, 26]\n",
            "Router 15: x = 0 y = 0.75 neighbor = [10, 16, 20] edges = [19, 27, 28]\n",
            "Router 16: x = 0.25 y = 0.75 neighbor = [11, 15, 17, 21] edges = [21, 27, 29, 30]\n",
            "Router 17: x = 0.5 y = 0.75 neighbor = [12, 16, 18, 22] edges = [23, 29, 31, 32]\n",
            "Router 18: x = 0.75 y = 0.75 neighbor = [13, 17, 19, 23] edges = [25, 31, 33, 34]\n",
            "Router 19: x = 1.0 y = 0.75 neighbor = [14, 18, 24] edges = [26, 33, 35]\n",
            "Router 20: x = 0 y = 1.0 neighbor = [15, 21] edges = [28, 36]\n",
            "Router 21: x = 0.25 y = 1.0 neighbor = [16, 20, 22] edges = [30, 36, 37]\n",
            "Router 22: x = 0.5 y = 1.0 neighbor = [17, 21, 23] edges = [32, 37, 38]\n",
            "Router 23: x = 0.75 y = 1.0 neighbor = [18, 22, 24] edges = [34, 38, 39]\n",
            "Router 24: x = 1.0 y = 1.0 neighbor = [19, 23] edges = [35, 39]\n",
            "Edge 0: start_point = 0 end_point = 1 length = 2\n",
            "Edge 1: start_point = 0 end_point = 5 length = 2\n",
            "Edge 2: start_point = 1 end_point = 2 length = 2\n",
            "Edge 3: start_point = 1 end_point = 6 length = 2\n",
            "Edge 4: start_point = 2 end_point = 7 length = 2\n",
            "Edge 5: start_point = 2 end_point = 3 length = 2\n",
            "Edge 6: start_point = 3 end_point = 4 length = 2\n",
            "Edge 7: start_point = 4 end_point = 9 length = 2\n",
            "Edge 8: start_point = 5 end_point = 6 length = 2\n",
            "Edge 9: start_point = 5 end_point = 10 length = 2\n",
            "Edge 10: start_point = 6 end_point = 7 length = 2\n",
            "Edge 11: start_point = 6 end_point = 11 length = 2\n",
            "Edge 12: start_point = 7 end_point = 8 length = 2\n",
            "Edge 13: start_point = 7 end_point = 12 length = 2\n",
            "Edge 14: start_point = 3 end_point = 8 length = 2\n",
            "Edge 15: start_point = 8 end_point = 9 length = 2\n",
            "Edge 16: start_point = 8 end_point = 13 length = 2\n",
            "Edge 17: start_point = 9 end_point = 14 length = 2\n",
            "Edge 18: start_point = 10 end_point = 11 length = 2\n",
            "Edge 19: start_point = 10 end_point = 15 length = 2\n",
            "Edge 20: start_point = 11 end_point = 12 length = 2\n",
            "Edge 21: start_point = 11 end_point = 16 length = 2\n",
            "Edge 22: start_point = 12 end_point = 13 length = 2\n",
            "Edge 23: start_point = 12 end_point = 17 length = 2\n",
            "Edge 24: start_point = 13 end_point = 14 length = 2\n",
            "Edge 25: start_point = 13 end_point = 18 length = 2\n",
            "Edge 26: start_point = 14 end_point = 19 length = 2\n",
            "Edge 27: start_point = 15 end_point = 16 length = 2\n",
            "Edge 28: start_point = 15 end_point = 20 length = 2\n",
            "Edge 29: start_point = 16 end_point = 17 length = 2\n",
            "Edge 30: start_point = 16 end_point = 21 length = 2\n",
            "Edge 31: start_point = 17 end_point = 18 length = 2\n",
            "Edge 32: start_point = 17 end_point = 22 length = 2\n",
            "Edge 33: start_point = 18 end_point = 19 length = 2\n",
            "Edge 34: start_point = 18 end_point = 23 length = 2\n",
            "Edge 35: start_point = 19 end_point = 24 length = 2\n",
            "Edge 36: start_point = 20 end_point = 21 length = 2\n",
            "Edge 37: start_point = 21 end_point = 22 length = 2\n",
            "Edge 38: start_point = 22 end_point = 23 length = 2\n",
            "Edge 39: start_point = 23 end_point = 24 length = 2\n"
          ]
        }
      ],
      "source": [
        "print(\"total no of edges: \",t_edge)\n",
        "for i in range(n_router):\n",
        "  print(\"Router {}: x = {} y = {} neighbor = {} edges = {}\".format(i,router[i].x,router[i].y,router[i].neighbor,router[i].edge))\n",
        "for i in range(t_edge):\n",
        "  print(\"Edge {}: start_point = {} end_point = {} length = {}\".format(i,edges[i].start,edges[i].end,edges[i].len))"
      ]
    },
    {
      "cell_type": "code",
      "execution_count": 6,
      "metadata": {
        "colab": {
          "base_uri": "https://localhost:8080/"
        },
        "id": "glkNWYGt28Nm",
        "outputId": "3f1ef5c0-4481-41cd-d93e-15188aa2d6ff"
      },
      "outputs": [
        {
          "name": "stdout",
          "output_type": "stream",
          "text": [
            "Data Packet 0: start_point = 6, target = 19, size = 0.0974607522675186, priority = 0\n",
            "Data Packet 1: start_point = 15, target = 24, size = 0.22174028250080213, priority = 1\n",
            "Data Packet 2: start_point = 11, target = 8, size = 0.38104186533442985, priority = 2\n",
            "Data Packet 3: start_point = 20, target = 10, size = 0.08947596241083411, priority = 3\n",
            "Data Packet 4: start_point = 8, target = 14, size = 0.7455958141945903, priority = 4\n",
            "Data Packet 5: start_point = 15, target = 12, size = 0.9058302362662206, priority = 5\n",
            "Data Packet 6: start_point = 6, target = 10, size = 0.3021113774304298, priority = 6\n",
            "Data Packet 7: start_point = 8, target = 16, size = 0.23901790731521488, priority = 7\n",
            "Data Packet 8: start_point = 15, target = 9, size = 0.7283727415485173, priority = 8\n",
            "Data Packet 9: start_point = 21, target = 17, size = 0.04789236614586201, priority = 9\n",
            "Data Packet 10: start_point = 6, target = 24, size = 0.9015342384606367, priority = 10\n",
            "Data Packet 11: start_point = 17, target = 19, size = 0.4160264598598201, priority = 11\n",
            "Data Packet 12: start_point = 17, target = 3, size = 0.064442719747825, priority = 12\n",
            "Data Packet 13: start_point = 4, target = 19, size = 0.8343252736665876, priority = 13\n",
            "Data Packet 14: start_point = 1, target = 17, size = 0.6923919369278213, priority = 14\n",
            "Data Packet 15: start_point = 23, target = 2, size = 0.3003394527748816, priority = 15\n",
            "Data Packet 16: start_point = 8, target = 24, size = 0.030456126896867386, priority = 16\n",
            "Data Packet 17: start_point = 4, target = 8, size = 0.7497982678916507, priority = 17\n",
            "Data Packet 18: start_point = 15, target = 3, size = 0.8620456854327418, priority = 18\n",
            "Data Packet 19: start_point = 12, target = 3, size = 0.6722325752760397, priority = 19\n"
          ]
        }
      ],
      "source": [
        "data = []\n",
        "n_data = 20\n",
        "for i in range(n_data):\n",
        "    data.append(Data(np.random.randint(n_router),np.random.randint(n_router),np.random.random(),i))\n",
        "\n",
        "\n",
        "for i in range(n_data):\n",
        "    print(\"Data Packet {}: start_point = {}, target = {}, size = {}, priority = {}\".format(i,data[i].now,data[i].target,data[i].size,data[i].priority))\n"
      ]
    },
    {
      "cell_type": "code",
      "execution_count": 7,
      "metadata": {},
      "outputs": [],
      "source": [
        "import random\n",
        "import pandas as pd\n",
        "\n",
        "\n",
        "m, n = 5, 5  \n",
        "\n",
        "# Generate 20 samples\n",
        "data = []\n",
        "for _ in range(20):\n",
        "    source = (random.randint(0, m-1), random.randint(0, n-1))\n",
        "    destination = (random.randint(0, m-1), random.randint(0, n-1))\n",
        "    current_router = source  \n",
        "    action = random.choice(['send', 'wait'])\n",
        "    \n",
        "    if action == 'send':\n",
        "        if current_router[0] < destination[0]: \n",
        "            next_router = (current_router[0] + 1, current_router[1])\n",
        "        elif current_router[0] > destination[0]:  \n",
        "            next_router = (current_router[0] - 1, current_router[1])\n",
        "        elif current_router[1] < destination[1]:  \n",
        "            next_router = (current_router[0], current_router[1] + 1)\n",
        "        elif current_router[1] > destination[1]:  \n",
        "            next_router = (current_router[0], current_router[1] - 1)\n",
        "        else:\n",
        "            next_router = current_router  \n",
        "    else:\n",
        "        next_router = current_router  \n",
        "    \n",
        "    data.append([source, destination, current_router, action, next_router])\n",
        "\n",
        "df = pd.DataFrame(data, columns=['Source', 'Destination','current_router','action','next_router'])\n"
      ]
    },
    {
      "cell_type": "code",
      "execution_count": 8,
      "metadata": {},
      "outputs": [
        {
          "data": {
            "text/html": [
              "<div>\n",
              "<style scoped>\n",
              "    .dataframe tbody tr th:only-of-type {\n",
              "        vertical-align: middle;\n",
              "    }\n",
              "\n",
              "    .dataframe tbody tr th {\n",
              "        vertical-align: top;\n",
              "    }\n",
              "\n",
              "    .dataframe thead th {\n",
              "        text-align: right;\n",
              "    }\n",
              "</style>\n",
              "<table border=\"1\" class=\"dataframe\">\n",
              "  <thead>\n",
              "    <tr style=\"text-align: right;\">\n",
              "      <th></th>\n",
              "      <th>Source</th>\n",
              "      <th>Destination</th>\n",
              "      <th>current_router</th>\n",
              "      <th>action</th>\n",
              "      <th>next_router</th>\n",
              "    </tr>\n",
              "  </thead>\n",
              "  <tbody>\n",
              "    <tr>\n",
              "      <th>0</th>\n",
              "      <td>(2, 3)</td>\n",
              "      <td>(3, 4)</td>\n",
              "      <td>(2, 3)</td>\n",
              "      <td>wait</td>\n",
              "      <td>(2, 3)</td>\n",
              "    </tr>\n",
              "    <tr>\n",
              "      <th>1</th>\n",
              "      <td>(0, 3)</td>\n",
              "      <td>(2, 3)</td>\n",
              "      <td>(0, 3)</td>\n",
              "      <td>send</td>\n",
              "      <td>(1, 3)</td>\n",
              "    </tr>\n",
              "    <tr>\n",
              "      <th>2</th>\n",
              "      <td>(4, 4)</td>\n",
              "      <td>(1, 1)</td>\n",
              "      <td>(4, 4)</td>\n",
              "      <td>wait</td>\n",
              "      <td>(4, 4)</td>\n",
              "    </tr>\n",
              "    <tr>\n",
              "      <th>3</th>\n",
              "      <td>(1, 3)</td>\n",
              "      <td>(3, 2)</td>\n",
              "      <td>(1, 3)</td>\n",
              "      <td>wait</td>\n",
              "      <td>(1, 3)</td>\n",
              "    </tr>\n",
              "    <tr>\n",
              "      <th>4</th>\n",
              "      <td>(3, 0)</td>\n",
              "      <td>(1, 0)</td>\n",
              "      <td>(3, 0)</td>\n",
              "      <td>wait</td>\n",
              "      <td>(3, 0)</td>\n",
              "    </tr>\n",
              "  </tbody>\n",
              "</table>\n",
              "</div>"
            ],
            "text/plain": [
              "   Source Destination current_router action next_router\n",
              "0  (2, 3)      (3, 4)         (2, 3)   wait      (2, 3)\n",
              "1  (0, 3)      (2, 3)         (0, 3)   send      (1, 3)\n",
              "2  (4, 4)      (1, 1)         (4, 4)   wait      (4, 4)\n",
              "3  (1, 3)      (3, 2)         (1, 3)   wait      (1, 3)\n",
              "4  (3, 0)      (1, 0)         (3, 0)   wait      (3, 0)"
            ]
          },
          "execution_count": 8,
          "metadata": {},
          "output_type": "execute_result"
        }
      ],
      "source": [
        "df.head()"
      ]
    },
    {
      "cell_type": "code",
      "execution_count": null,
      "metadata": {},
      "outputs": [],
      "source": []
    },
    {
      "cell_type": "code",
      "execution_count": 9,
      "metadata": {
        "id": "NlK8IDNK3NAn"
      },
      "outputs": [],
      "source": [
        "obs = []\n",
        "def observation(router, edges, data, n_router, n_data, t_edge):\n",
        "\t\n",
        "\tfor i in range(n_data):\n",
        "\t\tob=[]\n",
        "\n",
        "\t\t####meta information####\n",
        "\t\tob.append(data[i].now)\n",
        "\t\tob.append(data[i].target)\n",
        "\t\tob.append(data[i].edge)\n",
        "\t\tob.append(data[i].size)\n",
        "\t\tob.append(data[i].priority)\n",
        "\n",
        "\t\t####edge information####\n",
        "\t\tedge_count=0\n",
        "\t\tfor j in router[data[i].now].edge:\n",
        "\t\t\tedge_count+=1\n",
        "\t\t\tob.append(j)\n",
        "\t\t\tob.append(edges[j].start)\n",
        "\t\t\tob.append(edges[j].end)\n",
        "\t\t\tob.append(edges[j].len)\n",
        "\t\t\tob.append(edges[j].load)\n",
        "\t\tfor j in range(4-edge_count): ####\n",
        "\t\t\tfor k in range(5): ####\n",
        "\t\t\t\tob.append(-1) #invalid placeholder  ####\n",
        "\n",
        "\t\t####other datas####\n",
        "\t\tcount =0\n",
        "\t\tdata[i].neigh = []\n",
        "\t\tdata[i].neigh.append(i)\n",
        "\n",
        "\t\tfor j in range(n_data):\n",
        "\t\t\tif j==i:\n",
        "\t\t\t\tcontinue\n",
        "\t\t\tif (data[j].now in router[data[i].now].neighbor)|(data[j].now == data[i].now):\n",
        "\t\t\t\tcount+=1\n",
        "\t\t\t\tob.append(data[j].now)\n",
        "\t\t\t\tob.append(data[j].target)\n",
        "\t\t\t\tob.append(data[j].edge)\n",
        "\t\t\t\tob.append(data[j].size)\n",
        "\t\t\t\tob.append(data[i].priority)\n",
        "\t\t\t\tdata[i].neigh.append(j)\n",
        "\n",
        "\t\t\tif count==3:\n",
        "\t\t\t\tbreak\n",
        "\t\tfor j in range(3-count):\n",
        "\t\t\tdata[i].neigh.append(-1)\n",
        "\t\t\tfor k in range(5):\n",
        "\t\t\t\tob.append(-1) #invalid placeholder\n",
        "\n",
        "\t\tobs.append(np.array(ob))\n",
        "\treturn obs\n",
        "\n"
      ]
    },
    {
      "cell_type": "code",
      "execution_count": null,
      "metadata": {},
      "outputs": [],
      "source": []
    },
    {
      "cell_type": "code",
      "execution_count": 12,
      "metadata": {
        "colab": {
          "base_uri": "https://localhost:8080/"
        },
        "id": "AUW-DDUU3Fem",
        "outputId": "56f88a33-24bb-44e6-f5dd-0e642db95f21"
      },
      "outputs": [
        {
          "name": "stdout",
          "output_type": "stream",
          "text": [
            "[[], [], [], [], [], [], [], [], [], [], [], [], [], [], [], [], [], [], [], []]\n"
          ]
        },
        {
          "ename": "AttributeError",
          "evalue": "'list' object has no attribute 'now'",
          "output_type": "error",
          "traceback": [
            "\u001b[0;31m---------------------------------------------------------------------------\u001b[0m",
            "\u001b[0;31mAttributeError\u001b[0m                            Traceback (most recent call last)",
            "Cell \u001b[0;32mIn[12], line 5\u001b[0m\n\u001b[1;32m      2\u001b[0m \u001b[38;5;28mprint\u001b[39m(path)\n\u001b[1;32m      4\u001b[0m \u001b[38;5;28;01mfor\u001b[39;00m i \u001b[38;5;129;01min\u001b[39;00m \u001b[38;5;28mrange\u001b[39m(n_data):\n\u001b[0;32m----> 5\u001b[0m     path[i]\u001b[38;5;241m.\u001b[39mappend(\u001b[38;5;124m\"\u001b[39m\u001b[38;5;124mStart:\u001b[39m\u001b[38;5;124m\"\u001b[39m\u001b[38;5;241m+\u001b[39m\u001b[38;5;28mstr\u001b[39m(data[i]\u001b[38;5;241m.\u001b[39mnow))\n\u001b[1;32m      6\u001b[0m \u001b[38;5;28mprint\u001b[39m(path)\n",
            "\u001b[0;31mAttributeError\u001b[0m: 'list' object has no attribute 'now'"
          ]
        }
      ],
      "source": [
        "path = [[] for _ in range(n_data)]\n",
        "print(path)\n",
        "\n",
        "for i in range(n_data):\n",
        "    path[i].append(\"Start:\"+str(data[i].now))\n",
        "print(path)"
      ]
    },
    {
      "cell_type": "code",
      "execution_count": 13,
      "metadata": {
        "id": "ttvUGL_jPUDq"
      },
      "outputs": [],
      "source": [
        "class Generator(nn.Module):\n",
        "    def __init__(self, input_size, hidden_dim, output_size):\n",
        "        super(Generator, self).__init__()\n",
        "        self.input_size = input_size\n",
        "        self.output_size = output_size\n",
        "        self.hidden_dim = hidden_dim\n",
        "        self.net = nn.Sequential(\n",
        "            nn.Linear(input_size, hidden_dim),\n",
        "            nn.ReLU(True),\n",
        "            nn.Linear(hidden_dim, output_size),\n",
        "            nn.Tanh()\n",
        "        )\n",
        "\n",
        "    def forward(self, x):\n",
        "        return self.net(x)\n",
        "\n",
        "class Discriminator(nn.Module):\n",
        "    def __init__(self, input_size, hidden_dim):\n",
        "        super(Discriminator, self).__init__()\n",
        "        self.input_size = input_size\n",
        "        self.hidden_dim = hidden_dim\n",
        "        self.net = nn.Sequential(\n",
        "            nn.Linear(input_size, hidden_dim),\n",
        "            nn.LeakyReLU(0.2, inplace=True),\n",
        "            nn.Linear(hidden_dim, 1),\n",
        "            nn.Sigmoid()\n",
        "        )\n",
        "\n",
        "    def forward(self, x):\n",
        "        return self.net(x)\n"
      ]
    },
    {
      "cell_type": "code",
      "execution_count": 14,
      "metadata": {
        "id": "9k38Gw9QPULM"
      },
      "outputs": [],
      "source": [
        "class QLearningModel(nn.Module):\n",
        "    def __init__(self, state_size, action_size, hidden_dim):\n",
        "        super(QLearningModel, self).__init__()\n",
        "        self.state_size = state_size\n",
        "        self.action_size = action_size\n",
        "        self.hidden_dim = hidden_dim\n",
        "        self.net = nn.Sequential(\n",
        "            nn.Linear(state_size, hidden_dim),\n",
        "            nn.ReLU(),\n",
        "            nn.Linear(hidden_dim, action_size)\n",
        "        )\n",
        "\n",
        "    def forward(self, x):\n",
        "        return self.net(x)\n"
      ]
    },
    {
      "cell_type": "code",
      "execution_count": 15,
      "metadata": {
        "id": "rlfu_WrkPUNd"
      },
      "outputs": [],
      "source": [
        "def train_gan(generator, discriminator, gen_optimizer, disc_optimizer, real_data_loader, epochs, device):\n",
        "    criterion = nn.BCELoss()\n",
        "\n",
        "    for epoch in range(epochs):\n",
        "     for batch in real_data_loader:\n",
        "            real_data = batch[0].to(device)\n",
        "            batch_size = real_data.size(0)\n",
        "\n",
        "            disc_optimizer.zero_grad()\n",
        "            real_labels = torch.ones(batch_size, 1).to(device)\n",
        "            real_output = discriminator(real_data)\n",
        "            real_loss = criterion(real_output, real_labels)\n",
        "\n",
        "\n",
        "            noise = torch.randn(batch_size, generator.input_size).to(device)\n",
        "            fake_data = generator(noise)\n",
        "            fake_labels = torch.zeros(batch_size, 1).to(device)\n",
        "            fake_output = discriminator(fake_data.detach())\n",
        "            fake_loss = criterion(fake_output, fake_labels)\n",
        "\n",
        "\n",
        "            disc_loss = real_loss + fake_loss\n",
        "            disc_loss.backward()\n",
        "            disc_optimizer.step()\n",
        "\n",
        "\n",
        "            gen_optimizer.zero_grad()\n",
        "            trick_labels = torch.ones(batch_size, 1).to(device)\n",
        "            trick_output = discriminator(fake_data)\n",
        "            gen_loss = criterion(trick_output, trick_labels)\n",
        "\n",
        "            # Update Generator\n",
        "            gen_loss.backward()\n",
        "            gen_optimizer.step()\n",
        "\n",
        "    print(f'Epoch [{epoch+1}/{epochs}], Loss D: {disc_loss.item()}, Loss G: {gen_loss.item()}')\n"
      ]
    },
    {
      "cell_type": "code",
      "execution_count": 16,
      "metadata": {
        "id": "MIH26so-FhYi"
      },
      "outputs": [],
      "source": [
        "\n",
        "location_to_state = {}\n",
        "for i in range(25):\n",
        "    #location_to_state maps each location (node) in the grid to a state in the RL model.\n",
        "    location_to_state[str(i+1)] = i\n",
        "\n",
        "# # Print the dictionary to understand its structure\n",
        "\n",
        "# print(\"location_to_state dictionary content:\")\n",
        "# for  value in location_to_state.items():\n",
        "#     print(f\"State: {value}\")"
      ]
    },
    {
      "cell_type": "code",
      "execution_count": 17,
      "metadata": {
        "id": "G0JplPzYEJbD"
      },
      "outputs": [],
      "source": [
        "def simulate_environment_response(current_state, action, reward_array, location_to_state, state_to_location, gamma=0.75, alpha=0.9, device='cpu'):\n",
        "\n",
        "    invalid_state_tensor = torch.zeros(state_size).to(device)  # Adjust state size\n",
        "\n",
        "    if current_state not in location_to_state:\n",
        "\n",
        "        return invalid_state_tensor, torch.tensor([0.], device=device)\n",
        "\n",
        "    current_state_index = location_to_state[current_state]\n",
        "\n",
        "    next_state_index = action\n",
        "    if next_state_index not in state_to_location:\n",
        "        return invalid_state_tensor, torch.tensor([0.], device=device)\n",
        "\n",
        "    next_state = state_to_location[next_state_index]\n",
        "    reward = torch.tensor([reward_array[current_state_index, next_state_index]], device=device)\n",
        "\n",
        "    return next_state, reward\n"
      ]
    },
    {
      "cell_type": "code",
      "execution_count": 18,
      "metadata": {
        "id": "I9aBajhzPUSs"
      },
      "outputs": [],
      "source": [
        "def pretrain_q_learning_model(model, generator, pretrain_epochs, learning_rate, state_size, action_size, device, reward_array, location_to_state, state_to_location):\n",
        "    optimizer = optim.Adam(model.parameters(), lr=learning_rate)\n",
        "    criterion = nn.MSELoss()\n",
        "\n",
        "    for epoch in range(pretrain_epochs):\n",
        "        noise = torch.randn((1, generator.input_size), device=device)\n",
        "        synthetic_state = generator(noise)\n",
        "\n",
        "        synthetic_state_flat = synthetic_state.view(-1)\n",
        "\n",
        "        synthetic_state_flat = synthetic_state_flat.unsqueeze(0) if synthetic_state_flat.dim() == 1 else synthetic_state_flat\n",
        "\n",
        "        q_values = model(synthetic_state_flat)  # Get Q-values from model\n",
        "        _, predicted_action = torch.max(q_values, 1)  # Choose action\n",
        "\n",
        "        predicted_action = predicted_action.item()  # Assuming action needs to be a scalar\n",
        "\n",
        "        next_state, reward = simulate_environment_response(\n",
        "            current_state=synthetic_state_flat,\n",
        "            action=predicted_action,\n",
        "            reward_array=reward_array,\n",
        "            location_to_state=location_to_state,\n",
        "            state_to_location=state_to_location,\n",
        "            device=device\n",
        "        )\n",
        "\n",
        "        # Inside pretrain_q_learning_model\n",
        "        if isinstance(next_state, str):  # This is just a debugging line\n",
        "          next_state = torch.zeros(state_size).to(device)\n",
        "          raise TypeError(\"next_state is a string, which is incorrect.\")\n",
        "\n",
        "        target_q_value = reward + torch.max(model(next_state)).detach()\n",
        "        current_q_value = q_values[0][predicted_action]\n",
        "        loss = criterion(current_q_value, target_q_value)\n",
        "\n",
        "        # Backpropagation\n",
        "        optimizer.zero_grad()\n",
        "        loss.backward()\n",
        "        optimizer.step()\n",
        "\n",
        "        if epoch % 10 == 0:\n",
        "            print(f'Pre-training Epoch {epoch}, Loss: {loss.item()}')\n"
      ]
    },
    {
      "cell_type": "code",
      "execution_count": 19,
      "metadata": {
        "id": "_hei43bEPUVS"
      },
      "outputs": [],
      "source": [
        "def fine_tune_q_learning_model(model, fine_tune_epochs, learning_rate, state_size, action_size, device, reward_array, location_to_state, state_to_location):\n",
        "    optimizer = optim.Adam(model.parameters(), lr=learning_rate)\n",
        "    criterion = nn.MSELoss()\n",
        "\n",
        "    for epoch in range(fine_tune_epochs):\n",
        "        # Simulate receiving a real state from the NoC environment\n",
        "        real_state = get_real_noc_state()\n",
        "\n",
        "        # Ensure real_state is correctly shaped with a batch dimension\n",
        "        real_state = real_state.unsqueeze(0) if real_state.dim() == 1 else real_state\n",
        "\n",
        "        q_values = model(real_state.to(device))\n",
        "\n",
        "        # If your model's output is expected to be [batch_size, number_of_actions]\n",
        "        # then torch.max(q_values, 1) should work. However, if the batch size is 1,\n",
        "        # you can use torch.max(q_values, dim=-1) to be dimension-agnostic\n",
        "        _, predicted_action = torch.max(q_values, dim=-1)\n",
        "\n",
        "        # Simulate the environment response\n",
        "        # Ensure you pass all required arguments here\n",
        "        next_state, reward = simulate_environment_response(real_state, predicted_action, reward_array, location_to_state, state_to_location)\n",
        "\n",
        "        # Update Q-values\n",
        "        target_q_value = reward + torch.max(model(next_state)).detach()\n",
        "        current_q_value = q_values[0][predicted_action]\n",
        "        loss = criterion(current_q_value, target_q_value)\n",
        "\n",
        "        # Backpropagation\n",
        "        optimizer.zero_grad()\n",
        "        loss.backward()\n",
        "        optimizer.step()\n",
        "\n",
        "        if epoch % 10 == 0:\n",
        "            print(f'Fine-tuning Epoch {epoch}, Loss: {loss.item()}')\n"
      ]
    },
    {
      "cell_type": "code",
      "execution_count": 20,
      "metadata": {
        "id": "sY-6wUMxPUXp"
      },
      "outputs": [],
      "source": [
        "# Initialize models\n",
        "output_size = 130\n",
        "input_size = 130  # Generator's output size\n",
        "device = torch.device(\"cuda\" if torch.cuda.is_available() else \"cpu\")\n",
        "state_size = 134\n",
        "action_size = 5\n",
        "\n",
        "generator = Generator(input_size=100, hidden_dim=128, output_size=134).to(device)  # Adjust output_size to 134\n",
        "\n",
        "discriminator = Discriminator(input_size=134, hidden_dim=128).to(device)  # Adjust input_size to 134\n",
        "\n",
        "q_model = QLearningModel(state_size=state_size, action_size=action_size, hidden_dim=128).to(device)\n",
        "\n",
        "gen_optimizer = optim.Adam(generator.parameters(), lr=0.002)\n",
        "disc_optimizer = optim.Adam(discriminator.parameters(), lr=0.002)\n",
        "q_optimizer = optim.Adam(q_model.parameters(), lr=0.01)\n"
      ]
    },
    {
      "cell_type": "code",
      "execution_count": 22,
      "metadata": {
        "id": "YFOUOhJ_rKzu"
      },
      "outputs": [
        {
          "ename": "AttributeError",
          "evalue": "'list' object has no attribute 'target'",
          "output_type": "error",
          "traceback": [
            "\u001b[0;31m---------------------------------------------------------------------------\u001b[0m",
            "\u001b[0;31mAttributeError\u001b[0m                            Traceback (most recent call last)",
            "Cell \u001b[0;32mIn[22], line 28\u001b[0m\n\u001b[1;32m     24\u001b[0m         state_vectors\u001b[38;5;241m.\u001b[39mappend(state_vector)\n\u001b[1;32m     26\u001b[0m     \u001b[38;5;28;01mreturn\u001b[39;00m state_vectors\n\u001b[0;32m---> 28\u001b[0m simulated_network_states \u001b[38;5;241m=\u001b[39m create_network_state_vectors(router, edges, data)\n",
            "Cell \u001b[0;32mIn[22], line 19\u001b[0m, in \u001b[0;36mcreate_network_state_vectors\u001b[0;34m(routers, edges, data_packets)\u001b[0m\n\u001b[1;32m     14\u001b[0m     state_vector\u001b[38;5;241m.\u001b[39mappend(edge\u001b[38;5;241m.\u001b[39mload)\n\u001b[1;32m     15\u001b[0m     \u001b[38;5;66;03m# any other additional edge-specific features if needed\u001b[39;00m\n\u001b[1;32m     16\u001b[0m \n\u001b[1;32m     17\u001b[0m \u001b[38;5;66;03m# Add features for the data packet\u001b[39;00m\n\u001b[1;32m     18\u001b[0m \u001b[38;5;66;03m# state_vector.append(data_packet.now)\u001b[39;00m\n\u001b[0;32m---> 19\u001b[0m state_vector\u001b[38;5;241m.\u001b[39mappend(data_packet\u001b[38;5;241m.\u001b[39mtarget)\n\u001b[1;32m     20\u001b[0m state_vector\u001b[38;5;241m.\u001b[39mappend(data_packet\u001b[38;5;241m.\u001b[39msize)\n\u001b[1;32m     21\u001b[0m state_vector\u001b[38;5;241m.\u001b[39mappend(data_packet\u001b[38;5;241m.\u001b[39mpriority)\n",
            "\u001b[0;31mAttributeError\u001b[0m: 'list' object has no attribute 'target'"
          ]
        }
      ],
      "source": [
        "def create_network_state_vectors(routers, edges, data_packets):\n",
        "    state_vectors = []\n",
        "    for data_packet in data_packets:\n",
        "        state_vector = []\n",
        "\n",
        "        for router in routers:\n",
        "            state_vector.append(router.x)\n",
        "            state_vector.append(router.y)\n",
        "            # Add additional router-specific features as needed\n",
        "\n",
        "        # Add features for each edge\n",
        "        for edge in edges:\n",
        "            state_vector.append(edge.len)\n",
        "            state_vector.append(edge.load)\n",
        "            # any other additional edge-specific features if needed\n",
        "\n",
        "        # Add features for the data packet\n",
        "        state_vector.append(data_packet.now)\n",
        "        state_vector.append(data_packet.target)\n",
        "        state_vector.append(data_packet.size)\n",
        "        state_vector.append(data_packet.priority)\n",
        "\n",
        "        # Append the state vector for this data packet to the list\n",
        "        state_vectors.append(state_vector)\n",
        "\n",
        "    return state_vectors\n",
        "\n",
        "simulated_network_states = create_network_state_vectors(router, edges, data)\n"
      ]
    },
    {
      "cell_type": "code",
      "execution_count": null,
      "metadata": {
        "id": "SO5LHhMhCS9j"
      },
      "outputs": [],
      "source": [
        "import csv\n",
        "\n",
        "def create_network_state_vectors_and_export_csv(routers, edges, data_packets, csv_filename):\n",
        "    state_vectors = []\n",
        "\n",
        "    # Open a CSV file for writing\n",
        "    with open(csv_filename, 'w', newline='') as csvfile:\n",
        "        # Initialize a CSV writer\n",
        "        csvwriter = csv.writer(csvfile)\n",
        "\n",
        "        # (Optional) Write headers to the CSV file\n",
        "        headers = ['router_x', 'router_y'] * len(routers) + \\\n",
        "                  ['edge_len', 'edge_load'] * len(edges) + \\\n",
        "                  ['data_now', 'data_target', 'data_size', 'data_priority']\n",
        "        csvwriter.writerow(headers)\n",
        "\n",
        "        for data_packet in data_packets:\n",
        "            state_vector = []\n",
        "\n",
        "            for router in routers:\n",
        "                state_vector.append(router.x)\n",
        "                state_vector.append(router.y)\n",
        "                # Add additional router-specific features as needed\n",
        "\n",
        "            # Add features for each edge\n",
        "            for edge in edges:\n",
        "                state_vector.append(edge.len)\n",
        "                state_vector.append(edge.load)\n",
        "                # any other additional edge-specific features if needed\n",
        "\n",
        "            # Add features for the data packet\n",
        "            state_vector.append(data_packet.now)\n",
        "            state_vector.append(data_packet.target)\n",
        "            state_vector.append(data_packet.size)\n",
        "            state_vector.append(data_packet.priority)\n",
        "\n",
        "            # Append the state vector for this data packet to the list\n",
        "            state_vectors.append(state_vector)\n",
        "\n",
        "            # Write the state vector to the CSV file\n",
        "            csvwriter.writerow(state_vector)\n",
        "\n",
        "    return state_vectors\n",
        "\n",
        "# Example usage\n",
        "csv_filename = 'simulated_network_states.csv'\n",
        "simulated_network_states = create_network_state_vectors_and_export_csv(router, edges, data, csv_filename)\n"
      ]
    },
    {
      "cell_type": "code",
      "execution_count": null,
      "metadata": {
        "colab": {
          "base_uri": "https://localhost:8080/"
        },
        "id": "7HEM0ItrnYs5",
        "outputId": "47fed50f-2d27-4992-f52e-e59ae48e7c0c"
      },
      "outputs": [
        {
          "data": {
            "text/plain": [
              "20"
            ]
          },
          "execution_count": 19,
          "metadata": {},
          "output_type": "execute_result"
        }
      ],
      "source": [
        "len(simulated_network_states)"
      ]
    },
    {
      "cell_type": "code",
      "execution_count": null,
      "metadata": {
        "id": "7FjkamWgqWnn"
      },
      "outputs": [],
      "source": [
        "\n",
        "from torch.utils.data import DataLoader, TensorDataset\n",
        "\n",
        "\n",
        "simulated_data_tensors = torch.tensor(simulated_network_states, dtype=torch.float32)\n",
        "data_loader = DataLoader(TensorDataset(simulated_data_tensors), batch_size=64, shuffle=True)\n"
      ]
    },
    {
      "cell_type": "markdown",
      "metadata": {
        "id": "x5vXrFWerkXh"
      },
      "source": [
        "## checking if dataloader is sending bataches correctly"
      ]
    },
    {
      "cell_type": "code",
      "execution_count": null,
      "metadata": {
        "colab": {
          "base_uri": "https://localhost:8080/"
        },
        "id": "yGzw9P1arj3K",
        "outputId": "b727d2ce-6fba-4931-93bc-f143f61cca70"
      },
      "outputs": [
        {
          "name": "stdout",
          "output_type": "stream",
          "text": [
            "<class 'list'> <class 'torch.Tensor'>\n"
          ]
        }
      ],
      "source": [
        "for batch in data_loader:\n",
        "    print(type(batch), type(batch[0]))\n",
        "    break\n"
      ]
    },
    {
      "cell_type": "code",
      "execution_count": null,
      "metadata": {
        "colab": {
          "base_uri": "https://localhost:8080/"
        },
        "id": "ZJLlhc9LPUZ7",
        "outputId": "42944502-5ec9-432e-f1ff-93fa430bdffe"
      },
      "outputs": [
        {
          "name": "stdout",
          "output_type": "stream",
          "text": [
            "Epoch [1000/1000], Loss D: 0.0014868066646158695, Loss G: 7.0958051681518555\n"
          ]
        }
      ],
      "source": [
        "# Assuming you have defined the train_gan function and initialized the GAN components as shown earlier\n",
        "train_gan(generator, discriminator, gen_optimizer, disc_optimizer, data_loader, epochs=1000, device=device)\n"
      ]
    },
    {
      "cell_type": "code",
      "execution_count": null,
      "metadata": {
        "id": "tR2xV30EPUcY"
      },
      "outputs": [],
      "source": [
        "# Set the number of synthetic samples you want to generate\n",
        "num_synthetic_samples = 1000\n",
        "synthetic_states = []\n",
        "\n",
        "with torch.no_grad():\n",
        "    for _ in range(num_synthetic_samples):\n",
        "        noise = torch.randn((1, generator.input_size), device=device)  # Generate random noise\n",
        "        synthetic_state = generator(noise)  # Generate a synthetic state\n",
        "        synthetic_states.append(synthetic_state)\n",
        "\n",
        "# Convert list of tensors to a single tensor\n",
        "synthetic_states_tensor = torch.cat(synthetic_states, dim=0)\n"
      ]
    },
    {
      "cell_type": "code",
      "execution_count": null,
      "metadata": {
        "colab": {
          "base_uri": "https://localhost:8080/"
        },
        "id": "drtVOcsRIt-b",
        "outputId": "439cc907-595c-4ef4-918d-44574e7083cf"
      },
      "outputs": [
        {
          "name": "stdout",
          "output_type": "stream",
          "text": [
            "{0: '1', 1: '2', 2: '3', 3: '4', 4: '5', 5: '6', 6: '7', 7: '8', 8: '9', 9: '10', 10: '11', 11: '12', 12: '13', 13: '14', 14: '15', 15: '16', 16: '17', 17: '18', 18: '19', 19: '20', 20: '21', 21: '22', 22: '23', 23: '24', 24: '25'}\n"
          ]
        }
      ],
      "source": [
        "state_to_location = dict((state,location) for location,state in location_to_state.items())\n",
        "print(state_to_location)"
      ]
    },
    {
      "cell_type": "code",
      "execution_count": null,
      "metadata": {
        "colab": {
          "base_uri": "https://localhost:8080/"
        },
        "id": "1PhZ7BI8IjnZ",
        "outputId": "b06ca6cd-3c27-4d91-a849-376dcb9f3976"
      },
      "outputs": [
        {
          "name": "stdout",
          "output_type": "stream",
          "text": [
            "Pre-training Epoch 0, Loss: 0.00037258228985592723\n",
            "Pre-training Epoch 10, Loss: 0.038159459829330444\n",
            "Pre-training Epoch 20, Loss: 3.68067849194631e-05\n",
            "Pre-training Epoch 30, Loss: 4.3972605112685414e-07\n",
            "Pre-training Epoch 40, Loss: 0.05214172229170799\n",
            "Pre-training Epoch 50, Loss: 0.009490402415394783\n",
            "Pre-training Epoch 60, Loss: 0.015442567877471447\n",
            "Pre-training Epoch 70, Loss: 0.0017093076603487134\n",
            "Pre-training Epoch 80, Loss: 0.0015598675236105919\n",
            "Pre-training Epoch 90, Loss: 0.0014852631138637662\n",
            "Pre-training Epoch 100, Loss: 0.001268051564693451\n",
            "Pre-training Epoch 110, Loss: 0.00012957406579516828\n",
            "Pre-training Epoch 120, Loss: 2.358632264076732e-05\n",
            "Pre-training Epoch 130, Loss: 0.0002914267242886126\n",
            "Pre-training Epoch 140, Loss: 2.6663003154681064e-05\n",
            "Pre-training Epoch 150, Loss: 5.040242467657663e-05\n",
            "Pre-training Epoch 160, Loss: 0.00014368537813425064\n",
            "Pre-training Epoch 170, Loss: 5.8611065469449386e-05\n",
            "Pre-training Epoch 180, Loss: 4.859933255829674e-07\n",
            "Pre-training Epoch 190, Loss: 1.8401251509203576e-05\n",
            "Pre-training Epoch 200, Loss: 0.00015091673412825912\n",
            "Pre-training Epoch 210, Loss: 2.102629696310032e-05\n",
            "Pre-training Epoch 220, Loss: 0.0001223241852130741\n",
            "Pre-training Epoch 230, Loss: 2.4698602274497716e-08\n",
            "Pre-training Epoch 240, Loss: 1.2740911188302562e-06\n",
            "Pre-training Epoch 250, Loss: 0.00010992128227371722\n",
            "Pre-training Epoch 260, Loss: 1.2943887668370735e-05\n",
            "Pre-training Epoch 270, Loss: 1.424622610102233e-06\n",
            "Pre-training Epoch 280, Loss: 1.048887861543335e-05\n",
            "Pre-training Epoch 290, Loss: 1.0333051250199787e-05\n",
            "Pre-training Epoch 300, Loss: 1.5524201444350183e-06\n",
            "Pre-training Epoch 310, Loss: 3.988588650827296e-05\n",
            "Pre-training Epoch 320, Loss: 4.5270382543094456e-05\n",
            "Pre-training Epoch 330, Loss: 5.269170060273609e-07\n",
            "Pre-training Epoch 340, Loss: 6.848056364106014e-05\n"
          ]
        },
        {
          "name": "stderr",
          "output_type": "stream",
          "text": [
            "/Users/hritik/anaconda3/lib/python3.11/site-packages/torch/nn/modules/loss.py:535: UserWarning: Using a target size (torch.Size([1])) that is different to the input size (torch.Size([])). This will likely lead to incorrect results due to broadcasting. Please ensure they have the same size.\n",
            "  return F.mse_loss(input, target, reduction=self.reduction)\n"
          ]
        },
        {
          "name": "stdout",
          "output_type": "stream",
          "text": [
            "Pre-training Epoch 350, Loss: 0.00012593281280715019\n",
            "Pre-training Epoch 360, Loss: 1.9394477931200527e-05\n",
            "Pre-training Epoch 370, Loss: 3.703140828292817e-05\n",
            "Pre-training Epoch 380, Loss: 2.7689922717399895e-05\n",
            "Pre-training Epoch 390, Loss: 3.0350796805578284e-05\n",
            "Pre-training Epoch 400, Loss: 2.9847456971765496e-05\n",
            "Pre-training Epoch 410, Loss: 0.002090004039928317\n",
            "Pre-training Epoch 420, Loss: 8.597710802860092e-06\n",
            "Pre-training Epoch 430, Loss: 5.403424074756913e-05\n",
            "Pre-training Epoch 440, Loss: 3.7925881770206615e-05\n",
            "Pre-training Epoch 450, Loss: 3.890518200933002e-06\n",
            "Pre-training Epoch 460, Loss: 6.7428391048451886e-06\n",
            "Pre-training Epoch 470, Loss: 5.76823549636174e-06\n",
            "Pre-training Epoch 480, Loss: 5.1833967518177815e-06\n",
            "Pre-training Epoch 490, Loss: 4.6359095904335845e-06\n",
            "Pre-training Epoch 500, Loss: 3.83597625841503e-06\n",
            "Pre-training Epoch 510, Loss: 0.00015223507944028825\n",
            "Pre-training Epoch 520, Loss: 2.0226300989634183e-07\n",
            "Pre-training Epoch 530, Loss: 8.34187630971428e-07\n",
            "Pre-training Epoch 540, Loss: 2.7347703053237638e-06\n",
            "Pre-training Epoch 550, Loss: 6.003506314300466e-06\n",
            "Pre-training Epoch 560, Loss: 8.633992365503218e-06\n",
            "Pre-training Epoch 570, Loss: 6.201303222042043e-07\n",
            "Pre-training Epoch 580, Loss: 2.0126237814110937e-06\n",
            "Pre-training Epoch 590, Loss: 4.8077079554786906e-05\n",
            "Pre-training Epoch 600, Loss: 2.8924490834469907e-05\n",
            "Pre-training Epoch 610, Loss: 1.4510860637528822e-05\n",
            "Pre-training Epoch 620, Loss: 1.2689938557741698e-05\n",
            "Pre-training Epoch 630, Loss: 1.4950255717849359e-05\n",
            "Pre-training Epoch 640, Loss: 2.6301370326109463e-06\n",
            "Pre-training Epoch 650, Loss: 1.2090615200577304e-05\n",
            "Pre-training Epoch 660, Loss: 2.8183192625874653e-05\n",
            "Pre-training Epoch 670, Loss: 9.675524097474408e-07\n",
            "Pre-training Epoch 680, Loss: 5.1279671424708795e-06\n",
            "Pre-training Epoch 690, Loss: 3.434735518226262e-08\n",
            "Pre-training Epoch 700, Loss: 5.116349257150432e-06\n",
            "Pre-training Epoch 710, Loss: 7.103813914000057e-06\n",
            "Pre-training Epoch 720, Loss: 2.390729605394881e-07\n",
            "Pre-training Epoch 730, Loss: 8.702037916918925e-07\n",
            "Pre-training Epoch 740, Loss: 4.495538632909302e-06\n",
            "Pre-training Epoch 750, Loss: 2.2384040221368195e-06\n",
            "Pre-training Epoch 760, Loss: 6.46144314941921e-07\n",
            "Pre-training Epoch 770, Loss: 7.208940644432005e-08\n",
            "Pre-training Epoch 780, Loss: 1.5238171044984483e-06\n",
            "Pre-training Epoch 790, Loss: 3.375651402848234e-08\n",
            "Pre-training Epoch 800, Loss: 1.7220056633959757e-06\n",
            "Pre-training Epoch 810, Loss: 1.8286244767296012e-06\n",
            "Pre-training Epoch 820, Loss: 7.106610269147495e-07\n",
            "Pre-training Epoch 830, Loss: 4.3205632209719624e-06\n",
            "Pre-training Epoch 840, Loss: 7.925886080784039e-08\n",
            "Pre-training Epoch 850, Loss: 3.636780456872657e-05\n",
            "Pre-training Epoch 860, Loss: 3.961667061957996e-06\n",
            "Pre-training Epoch 870, Loss: 1.0327221389161423e-06\n",
            "Pre-training Epoch 880, Loss: 2.1308381725759773e-09\n",
            "Pre-training Epoch 890, Loss: 3.4969016837749223e-07\n",
            "Pre-training Epoch 900, Loss: 7.562551473938584e-08\n",
            "Pre-training Epoch 910, Loss: 0.00037725677248090506\n",
            "Pre-training Epoch 920, Loss: 6.482532626250759e-05\n",
            "Pre-training Epoch 930, Loss: 4.651172275771387e-05\n",
            "Pre-training Epoch 940, Loss: 4.672848774589511e-07\n",
            "Pre-training Epoch 950, Loss: 3.5738838732868317e-07\n",
            "Pre-training Epoch 960, Loss: 4.201686169835739e-05\n",
            "Pre-training Epoch 970, Loss: 2.4139275410561822e-05\n",
            "Pre-training Epoch 980, Loss: 1.580668322276324e-05\n",
            "Pre-training Epoch 990, Loss: 2.3170336135081016e-05\n"
          ]
        }
      ],
      "source": [
        "reward_array = np.zeros((5,5))\n",
        "\n",
        "# Make sure these variables are defined and properly set up before this call\n",
        "pretrain_q_learning_model(\n",
        "    q_model,\n",
        "    generator,\n",
        "    pretrain_epochs=1000,\n",
        "    learning_rate=0.01,\n",
        "    state_size=state_size,\n",
        "    action_size=action_size,\n",
        "    device=device,\n",
        "    reward_array=reward_array,  # This should be your NoC's reward matrix\n",
        "    location_to_state=location_to_state,  # Mapping from NoC locations to state indices\n",
        "    state_to_location=state_to_location   # Mapping from state indices back to NoC locations\n",
        ")\n"
      ]
    },
    {
      "cell_type": "code",
      "execution_count": null,
      "metadata": {
        "colab": {
          "base_uri": "https://localhost:8080/"
        },
        "id": "bzN_HgUQPUhN",
        "outputId": "b01a4b75-dc20-4218-8b20-3b55b9511140"
      },
      "outputs": [
        {
          "name": "stdout",
          "output_type": "stream",
          "text": [
            "Test State is: tensor([-0.1525, -0.1877, -0.4503,  0.4516, -0.0534,  0.6490,  0.1385, -0.1446,\n",
            "        -0.0420,  0.3243,  0.0414,  0.0929, -0.1552, -0.4238,  0.6338,  0.2096,\n",
            "        -0.4103, -0.3323,  0.0397,  0.1428,  0.4515,  0.0408,  0.6380,  0.2637,\n",
            "         0.6124, -0.2353, -0.3691,  0.2028,  0.4714, -0.0021,  0.3056,  0.7582,\n",
            "         0.2196, -0.2864,  0.0283, -0.0096,  0.2314, -0.0127,  0.0946,  0.6736,\n",
            "        -0.5542,  0.0182,  0.4419,  0.4506,  0.1325,  0.2772,  0.2443,  0.0942,\n",
            "         0.2296,  0.7035,  0.1669,  0.3658,  0.1168, -0.3996,  0.6266, -0.2591,\n",
            "         0.5369, -0.2640,  0.7786,  0.6306,  0.5988,  0.0653,  0.6530,  0.1478,\n",
            "         0.8231, -0.1429,  0.0030, -0.4164,  0.5666, -0.1911,  0.2291, -0.1864,\n",
            "         0.5447,  0.0169,  0.6315,  0.0717,  0.3400,  0.2123,  0.8464,  0.1693,\n",
            "         0.6057,  0.3554,  0.5132, -0.6289, -0.1235, -0.2365,  0.0190, -0.6389,\n",
            "         0.6283,  0.2904,  0.4410,  0.4023, -0.1053, -0.2010,  0.4404, -0.1245,\n",
            "         0.1036, -0.2252,  0.0611,  0.1174,  0.5270, -0.4394,  0.5667,  0.1496,\n",
            "         0.7363, -0.5959,  0.0809, -0.2851,  0.4926,  0.3140,  0.1718, -0.2669,\n",
            "         0.8985, -0.5584,  0.6093, -0.0589,  0.8130, -0.4905,  0.5617, -0.2560,\n",
            "         0.8505, -0.0874,  0.1642, -0.1045,  0.7484, -0.5584,  0.4100,  0.0239,\n",
            "         0.8512, -0.0780,  0.9995,  0.9994, -0.1152,  0.9990]), Predicted Action is: 4\n",
            "Test State is: tensor([-0.1604, -0.2373, -0.5287,  0.4639, -0.0261,  0.5551, -0.0061, -0.1493,\n",
            "        -0.2409,  0.4470, -0.2409,  0.0539, -0.2253, -0.5397,  0.5565,  0.2669,\n",
            "        -0.5742, -0.5864,  0.1065,  0.0959,  0.4396, -0.2060,  0.5919,  0.4626,\n",
            "         0.6769, -0.4045, -0.5049,  0.0309,  0.4634,  0.0025,  0.2525,  0.7301,\n",
            "         0.2738, -0.2270,  0.0228, -0.1556,  0.2071, -0.2133, -0.0125,  0.6809,\n",
            "        -0.5523, -0.3208,  0.4729,  0.4000,  0.0971, -0.0143,  0.2762, -0.1724,\n",
            "         0.1527,  0.7163, -0.2458,  0.4066, -0.1455, -0.5943,  0.2607, -0.4056,\n",
            "         0.3511, -0.0869,  0.6847,  0.6057,  0.6340,  0.2680,  0.5852,  0.1705,\n",
            "         0.7718, -0.1072, -0.0876, -0.5208,  0.2917, -0.2856, -0.1428, -0.4682,\n",
            "         0.4178,  0.1128,  0.3661,  0.1949,  0.2967,  0.3093,  0.6793,  0.3092,\n",
            "         0.4090,  0.3544,  0.5707, -0.6918, -0.3158, -0.2560, -0.2589, -0.6474,\n",
            "         0.5315,  0.2312,  0.0262,  0.5709, -0.2887, -0.3720, -0.0441, -0.1174,\n",
            "        -0.2483, -0.3151, -0.3964,  0.0986,  0.2880, -0.4730,  0.2931,  0.1584,\n",
            "         0.5524, -0.6444, -0.1099, -0.3716, -0.0462,  0.3640,  0.2394, -0.3799,\n",
            "         0.8461, -0.7052,  0.3777, -0.0866,  0.6881, -0.5259,  0.1772, -0.1056,\n",
            "         0.7309, -0.0658, -0.1315,  0.1658,  0.6775, -0.6101,  0.1100, -0.0336,\n",
            "         0.8007,  0.2615,  0.9955,  0.9944, -0.0469,  0.9942]), Predicted Action is: 4\n",
            "Test State is: tensor([-0.0446, -0.1110, -0.3843,  0.1820, -0.0885,  0.4012, -0.0055, -0.1449,\n",
            "        -0.1642,  0.3064, -0.0624,  0.0790, -0.0381, -0.3344,  0.4581,  0.1176,\n",
            "        -0.3587, -0.4238,  0.1772, -0.0589,  0.3855, -0.0228,  0.4040,  0.3798,\n",
            "         0.4328, -0.2320, -0.2519,  0.0794,  0.3098, -0.0209,  0.1479,  0.5575,\n",
            "         0.1608, -0.1126,  0.0028, -0.0213,  0.2680,  0.0622,  0.2025,  0.5360,\n",
            "        -0.3638, -0.1314,  0.2186,  0.3449,  0.1022, -0.0091,  0.1837, -0.1653,\n",
            "         0.1826,  0.5750, -0.0802,  0.2821,  0.1651, -0.3612,  0.3387, -0.1984,\n",
            "         0.3663, -0.0718,  0.5424,  0.3645,  0.5707,  0.2191,  0.5411,  0.0401,\n",
            "         0.6145, -0.2172,  0.1282, -0.2383,  0.1955, -0.1238,  0.0929, -0.3839,\n",
            "         0.2954,  0.0319,  0.3348,  0.0961,  0.2865,  0.1034,  0.5687,  0.1011,\n",
            "         0.3662,  0.2545,  0.4604, -0.4819, -0.1471, -0.1258, -0.0250, -0.3649,\n",
            "         0.4688,  0.1550,  0.2801,  0.4159,  0.0409, -0.1299,  0.2087, -0.0545,\n",
            "        -0.0869, -0.1670, -0.0174,  0.0929,  0.3352, -0.2923,  0.2876,  0.0106,\n",
            "         0.5293, -0.5013,  0.1105, -0.2486,  0.0976,  0.1764,  0.3300, -0.1903,\n",
            "         0.7169, -0.4015,  0.4190, -0.1695,  0.6291, -0.1990,  0.2918, -0.0140,\n",
            "         0.5765, -0.1397,  0.1139,  0.0520,  0.5743, -0.3871,  0.2095, -0.1943,\n",
            "         0.6794,  0.1256,  0.9818,  0.9822, -0.0526,  0.9815]), Predicted Action is: 4\n",
            "Test State is: tensor([-0.6615, -0.6917, -0.8294,  0.6394, -0.0225,  0.9043, -0.4152, -0.7808,\n",
            "        -0.7256,  0.6758, -0.0130,  0.5287, -0.5745, -0.6517,  0.8998,  0.6367,\n",
            "        -0.8252, -0.8884, -0.1995, -0.0365,  0.8653,  0.2310,  0.9100,  0.6154,\n",
            "         0.4363, -0.8968, -0.5387,  0.6560,  0.0913, -0.5787,  0.6597,  0.8734,\n",
            "         0.2493, -0.2207,  0.5254,  0.2215,  0.6106, -0.4815, -0.4780,  0.8571,\n",
            "        -0.7862, -0.2502, -0.0893,  0.8757,  0.6613, -0.0601, -0.3698, -0.7328,\n",
            "         0.3771,  0.9295, -0.4766,  0.7994, -0.3217, -0.8377,  0.7790, -0.3902,\n",
            "         0.1792, -0.5790,  0.9056,  0.8619,  0.8493, -0.2053,  0.7987,  0.5578,\n",
            "         0.9452, -0.6948, -0.0159, -0.2001, -0.0519, -0.5018, -0.0597, -0.8494,\n",
            "        -0.0974,  0.2672,  0.0673,  0.0843,  0.2853,  0.2940,  0.9493,  0.6156,\n",
            "         0.5907,  0.7796,  0.8022, -0.8300, -0.5668, -0.5494, -0.1551, -0.7984,\n",
            "         0.8745,  0.1726, -0.3542,  0.6415, -0.4813, -0.5711, -0.1417, -0.1044,\n",
            "        -0.6369, -0.5626,  0.1481, -0.1801,  0.7400, -0.6573,  0.8466,  0.5607,\n",
            "         0.8001, -0.8877, -0.1108, -0.8438,  0.5171,  0.8205,  0.5254, -0.6992,\n",
            "         0.9596, -0.7740,  0.8061, -0.7070,  0.7702, -0.0542,  0.6882, -0.4941,\n",
            "         0.8554, -0.4488, -0.5948,  0.4612,  0.8518, -0.7458, -0.2005, -0.4707,\n",
            "         0.9101, -0.2407,  0.9989,  0.9985,  0.2697,  0.9983]), Predicted Action is: 4\n",
            "Test State is: tensor([-0.1645, -0.3025, -0.7071,  0.6153, -0.0051,  0.8033,  0.0211, -0.0866,\n",
            "        -0.1850,  0.4488, -0.0992, -0.0192, -0.4150, -0.6535,  0.8083,  0.4264,\n",
            "        -0.5992, -0.6650,  0.1047, -0.0531,  0.6670,  0.0082,  0.8372,  0.5240,\n",
            "         0.7123, -0.4204, -0.6458,  0.1156,  0.5671,  0.1515,  0.3487,  0.8949,\n",
            "         0.3147, -0.4598,  0.0309, -0.0492,  0.3944, -0.2628, -0.1285,  0.8574,\n",
            "        -0.6019, -0.3235,  0.6178,  0.4218,  0.2915,  0.1475,  0.3229, -0.2383,\n",
            "         0.3737,  0.8536, -0.1886,  0.5239,  0.0709, -0.6431,  0.4604, -0.4126,\n",
            "         0.6268, -0.3045,  0.8417,  0.8532,  0.8186,  0.1041,  0.6493,  0.4337,\n",
            "         0.9248, -0.4316, -0.1546, -0.6676,  0.6757, -0.1229,  0.3640, -0.5176,\n",
            "         0.6442,  0.2566,  0.5980,  0.0776,  0.2076,  0.2406,  0.9335,  0.3449,\n",
            "         0.6603,  0.3304,  0.6803, -0.8601, -0.4708, -0.3701, -0.2504, -0.7862,\n",
            "         0.7685,  0.2552,  0.1906,  0.6067, -0.4380, -0.1214,  0.2212, -0.2859,\n",
            "        -0.2625, -0.3518, -0.0747,  0.0360,  0.3697, -0.5649,  0.5147,  0.2093,\n",
            "         0.7731, -0.8267, -0.2931, -0.3982,  0.5801,  0.4155,  0.3493, -0.4951,\n",
            "         0.9618, -0.7627,  0.6450, -0.1396,  0.9091, -0.6341,  0.4994, -0.3240,\n",
            "         0.9126, -0.2162,  0.2440, -0.0314,  0.8634, -0.7261,  0.1885, -0.1426,\n",
            "         0.9385,  0.2936,  0.9999,  0.9999,  0.0016,  0.9999]), Predicted Action is: 4\n",
            "Test State is: tensor([-0.3216, -0.3725, -0.6037,  0.4962,  0.0234,  0.6561, -0.1557, -0.4591,\n",
            "        -0.2752,  0.3455, -0.0069,  0.2437, -0.3624, -0.4414,  0.6078,  0.4088,\n",
            "        -0.5286, -0.5896, -0.0749,  0.0905,  0.5665,  0.0524,  0.7091,  0.3209,\n",
            "         0.3977, -0.5635, -0.3251,  0.3999,  0.1650, -0.2922,  0.5231,  0.6988,\n",
            "         0.1348, -0.1773,  0.3521,  0.1893,  0.3511, -0.2379, -0.2360,  0.6626,\n",
            "        -0.4892, -0.1171,  0.2106,  0.6411,  0.3444,  0.1394, -0.0649, -0.3490,\n",
            "         0.2571,  0.7584, -0.0186,  0.4776, -0.0538, -0.5638,  0.5782, -0.2375,\n",
            "         0.2176, -0.3145,  0.7278,  0.6279,  0.6576, -0.1025,  0.5907,  0.2905,\n",
            "         0.7925, -0.3758, -0.0079, -0.2362,  0.1930, -0.2338,  0.0890, -0.5129,\n",
            "         0.2328,  0.0506,  0.2296,  0.0803,  0.1863,  0.1635,  0.7795,  0.3346,\n",
            "         0.4383,  0.4913,  0.5179, -0.5962, -0.1965, -0.3380, -0.0699, -0.5682,\n",
            "         0.7029,  0.0777, -0.0227,  0.4918, -0.1658, -0.3286,  0.1201, -0.0994,\n",
            "        -0.1713, -0.3420,  0.0788, -0.0907,  0.4629, -0.3266,  0.6669,  0.2708,\n",
            "         0.6127, -0.6411,  0.0474, -0.5436,  0.2726,  0.5274,  0.4533, -0.2626,\n",
            "         0.7950, -0.5408,  0.5938, -0.3003,  0.6505, -0.1879,  0.4562, -0.2732,\n",
            "         0.7243, -0.2307, -0.2575,  0.2786,  0.6833, -0.5027,  0.0185, -0.2004,\n",
            "         0.7956, -0.1006,  0.9895,  0.9887,  0.1695,  0.9859]), Predicted Action is: 4\n",
            "Test State is: tensor([-0.8794, -0.8738, -0.9578,  0.8977, -0.0862,  0.9794, -0.4140, -0.9048,\n",
            "        -0.9035,  0.8981, -0.6464,  0.7316, -0.8093, -0.8889,  0.9570,  0.8454,\n",
            "        -0.9631, -0.9893, -0.4485,  0.0899,  0.9373, -0.2291,  0.9790,  0.8767,\n",
            "         0.9235, -0.9821, -0.8421,  0.7946,  0.6512, -0.7642,  0.8831,  0.9822,\n",
            "         0.4669, -0.2680,  0.5741,  0.3429,  0.5907, -0.8962, -0.6240,  0.9741,\n",
            "        -0.9425, -0.7631,  0.0677,  0.9745,  0.7425, -0.1805, -0.2495, -0.8754,\n",
            "         0.6392,  0.9893, -0.7416,  0.9305, -0.7088, -0.9666,  0.9034, -0.8124,\n",
            "        -0.3894, -0.5401,  0.9867,  0.9698,  0.9712,  0.0056,  0.9549,  0.7881,\n",
            "         0.9959, -0.7171,  0.1684, -0.6619, -0.3550, -0.8330, -0.7584, -0.9716,\n",
            "         0.1412,  0.2522, -0.2593,  0.4279,  0.4854,  0.7242,  0.9866,  0.9120,\n",
            "         0.7244,  0.9384,  0.9574, -0.9849, -0.7702, -0.6867, -0.5244, -0.9403,\n",
            "         0.9399,  0.4558, -0.7420,  0.9423, -0.7869, -0.8796, -0.7314, -0.3819,\n",
            "        -0.9008, -0.8761, -0.6621, -0.3317,  0.8464, -0.9069,  0.8941,  0.8545,\n",
            "         0.8185, -0.9866, -0.3583, -0.9621, -0.2721,  0.9479,  0.6625, -0.8544,\n",
            "         0.9963, -0.9840,  0.9034, -0.8464,  0.9236, -0.5905,  0.6737, -0.6847,\n",
            "         0.9669, -0.4542, -0.8081,  0.7856,  0.9800, -0.9644, -0.6456, -0.3970,\n",
            "         0.9880,  0.0464,  1.0000,  1.0000,  0.5130,  1.0000]), Predicted Action is: 4\n",
            "Test State is: tensor([ 0.0344, -0.1130, -0.4461,  0.1151, -0.0863,  0.3912,  0.0767, -0.1155,\n",
            "        -0.2508,  0.2291,  0.1560,  0.0440, -0.0322, -0.3471,  0.4184,  0.1722,\n",
            "        -0.3334, -0.3513,  0.1620, -0.1263,  0.3321,  0.0792,  0.2782,  0.1648,\n",
            "         0.3341, -0.1548, -0.1750,  0.0586,  0.2809,  0.0047,  0.1230,  0.5184,\n",
            "        -0.0253,  0.0106,  0.1121,  0.0431,  0.3182, -0.0489,  0.2040,  0.5314,\n",
            "        -0.2435, -0.0397,  0.1902,  0.2941,  0.1628, -0.1572,  0.1706, -0.2823,\n",
            "         0.2506,  0.5234, -0.1075,  0.2253,  0.2563, -0.3685,  0.3056, -0.1288,\n",
            "         0.3300, -0.0619,  0.5001,  0.3593,  0.6114,  0.1533,  0.3846, -0.0063,\n",
            "         0.5651, -0.3357,  0.1248, -0.2508,  0.2519, -0.0422,  0.2955, -0.3814,\n",
            "         0.2569,  0.0426,  0.2890,  0.1398,  0.1848, -0.1254,  0.5114,  0.0543,\n",
            "         0.3350,  0.2004,  0.3636, -0.4370, -0.0703, -0.2157,  0.0501, -0.2265,\n",
            "         0.4908,  0.0212,  0.2167,  0.4481,  0.1386,  0.0384,  0.1697, -0.0777,\n",
            "        -0.1314, -0.1596,  0.1221,  0.0039,  0.0236, -0.0980,  0.3110,  0.0392,\n",
            "         0.5326, -0.4910, -0.0258, -0.1677, -0.0638,  0.1983,  0.5476, -0.0514,\n",
            "         0.5454, -0.3648,  0.4412, -0.1604,  0.5592, -0.1135,  0.2839,  0.0095,\n",
            "         0.5470, -0.2158,  0.1407,  0.1446,  0.5149, -0.2679,  0.2253, -0.2908,\n",
            "         0.7187,  0.1121,  0.9821,  0.9795, -0.0325,  0.9775]), Predicted Action is: 4\n",
            "Test State is: tensor([-0.3969, -0.6301, -0.9316,  0.5585, -0.2763,  0.9358,  0.0179, -0.7636,\n",
            "        -0.8319,  0.7091, -0.1560,  0.5664, -0.3343, -0.8222,  0.8655,  0.6515,\n",
            "        -0.8987, -0.9324,  0.1586, -0.0989,  0.8254, -0.1050,  0.8418,  0.7065,\n",
            "         0.8146, -0.7911, -0.5737,  0.3678,  0.6850, -0.2885,  0.6948,  0.9408,\n",
            "         0.0739,  0.1775,  0.4168,  0.1782,  0.5964, -0.7787, -0.1109,  0.9270,\n",
            "        -0.8177, -0.6228,  0.3555,  0.9074,  0.6163, -0.4157,  0.3599, -0.7572,\n",
            "         0.6069,  0.9453, -0.4179,  0.7679, -0.0404, -0.9062,  0.7384, -0.7074,\n",
            "         0.0465, -0.3119,  0.9524,  0.8835,  0.9685,  0.1962,  0.8903,  0.4657,\n",
            "         0.9779, -0.6794,  0.3618, -0.6849,  0.2309, -0.4148,  0.0829, -0.8601,\n",
            "         0.3662,  0.2100, -0.1112,  0.4105,  0.3495,  0.0994,  0.9304,  0.6078,\n",
            "         0.6496,  0.6485,  0.7966, -0.9424, -0.5568, -0.6858, -0.1292, -0.5880,\n",
            "         0.8659, -0.0298, -0.3173,  0.9039, -0.2791, -0.2893, -0.2170, -0.2668,\n",
            "        -0.7047, -0.6474, -0.2697, -0.0321,  0.0275, -0.7122,  0.7045,  0.5338,\n",
            "         0.7953, -0.9543, -0.3917, -0.8168, -0.6962,  0.8039,  0.9249, -0.3474,\n",
            "         0.9536, -0.9417,  0.8158, -0.6171,  0.9131, -0.4170,  0.4737, -0.3677,\n",
            "         0.9274, -0.5792, -0.3794,  0.6285,  0.9379, -0.8062, -0.2802, -0.2387,\n",
            "         0.9825,  0.3737,  1.0000,  1.0000,  0.0730,  1.0000]), Predicted Action is: 4\n",
            "Test State is: tensor([ 0.2628,  0.0037, -0.3485,  0.2812, -0.2160,  0.3235,  0.0916,  0.2522,\n",
            "         0.1228,  0.2908, -0.2075, -0.2384,  0.0390, -0.5533,  0.4594, -0.0914,\n",
            "        -0.3684, -0.3026,  0.4709,  0.0172,  0.2320, -0.2456,  0.2981,  0.4972,\n",
            "         0.6577,  0.1166, -0.4922, -0.3857,  0.4674,  0.3500, -0.0821,  0.6785,\n",
            "         0.3153, -0.3812, -0.2738, -0.3105,  0.2153,  0.2583,  0.2800,  0.5291,\n",
            "        -0.3585, -0.2793,  0.6038, -0.0097, -0.1300,  0.0650,  0.4409,  0.1383,\n",
            "         0.0887,  0.4954, -0.1735,  0.1805,  0.1569, -0.3266, -0.0972, -0.3498,\n",
            "         0.5960,  0.0802,  0.5251,  0.4716,  0.4692,  0.4889,  0.5809, -0.1254,\n",
            "         0.5861,  0.0472, -0.1648, -0.5870,  0.5130,  0.0863,  0.1572, -0.1140,\n",
            "         0.5844,  0.1324,  0.6981,  0.0622,  0.3243,  0.1863,  0.5562, -0.0532,\n",
            "         0.4105,  0.0686,  0.4690, -0.5749, -0.2523, -0.1353, -0.2610, -0.5803,\n",
            "         0.3118,  0.2243,  0.3907,  0.4804, -0.1971,  0.0210,  0.3163, -0.1849,\n",
            "         0.0492,  0.0318, -0.3607,  0.3265,  0.0289, -0.3876, -0.0719, -0.2305,\n",
            "         0.6071, -0.4870, -0.1002,  0.1618,  0.0968, -0.1791,  0.3260, -0.2256,\n",
            "         0.7710, -0.5032,  0.2318,  0.1029,  0.7356, -0.6184,  0.1506,  0.1984,\n",
            "         0.6581,  0.0566,  0.4340, -0.2338,  0.6116, -0.5741,  0.4561, -0.0690,\n",
            "         0.7205,  0.4466,  0.9972,  0.9973, -0.3044,  0.9974]), Predicted Action is: 4\n"
          ]
        }
      ],
      "source": [
        "q_model.eval()\n",
        "\n",
        "with torch.no_grad():  # No need to track gradients during evaluation\n",
        "    for i, test_state in enumerate(synthetic_states_tensor):\n",
        "\n",
        "        state_tensor = test_state.clone().detach().to(device) if isinstance(test_state, torch.Tensor) else torch.tensor(test_state, dtype=torch.float32).to(device)\n",
        "\n",
        "        q_values = q_model(state_tensor)\n",
        "        predicted_action = torch.argmax(q_values, dim=0).item()\n",
        "        if i < 10:\n",
        "            print(f\"Test State is: {test_state}, Predicted Action is: {predicted_action}\")\n"
      ]
    },
    {
      "cell_type": "code",
      "execution_count": null,
      "metadata": {
        "id": "lkRrLXj8wMOd"
      },
      "outputs": [],
      "source": [
        "def get_real_noc_state():\n",
        "    \n",
        "    state = torch.randn(state_size)  # Generate a random state\n",
        "    return state.to(device)\n"
      ]
    },
    {
      "cell_type": "code",
      "execution_count": null,
      "metadata": {
        "colab": {
          "base_uri": "https://localhost:8080/"
        },
        "id": "L3C02MXqPUmI",
        "outputId": "8a84af23-4490-4c89-b848-5e60f5913aca"
      },
      "outputs": [
        {
          "name": "stdout",
          "output_type": "stream",
          "text": [
            "Fine-tuning with learning rate: 0.01\n",
            "Fine-tuning Epoch 0, Loss: 0.048444051295518875\n",
            "Fine-tuning Epoch 10, Loss: 0.014535429887473583\n",
            "Fine-tuning Epoch 20, Loss: 0.37447160482406616\n",
            "Fine-tuning Epoch 30, Loss: 0.14997498691082\n",
            "Fine-tuning Epoch 40, Loss: 0.2912318706512451\n",
            "Fine-tuning Epoch 50, Loss: 0.036051228642463684\n",
            "Fine-tuning Epoch 60, Loss: 1.9036213159561157\n",
            "Fine-tuning Epoch 70, Loss: 0.02005540020763874\n",
            "Fine-tuning Epoch 80, Loss: 6.5513014793396\n",
            "Fine-tuning Epoch 90, Loss: 6.947090148925781\n",
            "Fine-tuning Epoch 100, Loss: 0.046234406530857086\n",
            "Fine-tuning Epoch 110, Loss: 0.02234553173184395\n",
            "Fine-tuning Epoch 120, Loss: 0.01572834886610508\n",
            "Fine-tuning Epoch 130, Loss: 0.18213367462158203\n",
            "Fine-tuning Epoch 140, Loss: 0.022762281820178032\n",
            "Fine-tuning Epoch 150, Loss: 2.9121086597442627\n",
            "Fine-tuning Epoch 160, Loss: 2.153000593185425\n",
            "Fine-tuning Epoch 170, Loss: 0.6290460228919983\n",
            "Fine-tuning Epoch 180, Loss: 0.19732019305229187\n",
            "Fine-tuning Epoch 190, Loss: 1.185127854347229\n",
            "Fine-tuning Epoch 200, Loss: 1.391471028327942\n",
            "Fine-tuning Epoch 210, Loss: 4.609136581420898\n",
            "Fine-tuning Epoch 220, Loss: 0.7409961819648743\n",
            "Fine-tuning Epoch 230, Loss: 6.99503231048584\n",
            "Fine-tuning Epoch 240, Loss: 0.4534912109375\n",
            "Fine-tuning Epoch 250, Loss: 0.3873801827430725\n",
            "Fine-tuning Epoch 260, Loss: 3.6145122051239014\n",
            "Fine-tuning Epoch 270, Loss: 1.9096988439559937\n",
            "Fine-tuning Epoch 280, Loss: 3.397213935852051\n",
            "Fine-tuning Epoch 290, Loss: 0.11905286461114883\n",
            "Fine-tuning Epoch 300, Loss: 2.152559757232666\n",
            "Fine-tuning Epoch 310, Loss: 0.029370153322815895\n",
            "Fine-tuning Epoch 320, Loss: 0.15998543798923492\n",
            "Fine-tuning Epoch 330, Loss: 1.4081459045410156\n",
            "Fine-tuning Epoch 340, Loss: 0.9737421274185181\n",
            "Fine-tuning Epoch 350, Loss: 18.71937370300293\n",
            "Fine-tuning Epoch 360, Loss: 1.1554853916168213\n",
            "Fine-tuning Epoch 370, Loss: 0.8953899145126343\n",
            "Fine-tuning Epoch 380, Loss: 0.6696445345878601\n",
            "Fine-tuning Epoch 390, Loss: 2.9820241928100586\n",
            "Fine-tuning Epoch 400, Loss: 0.9814336895942688\n",
            "Fine-tuning Epoch 410, Loss: 4.012982368469238\n",
            "Fine-tuning Epoch 420, Loss: 6.9300055503845215\n",
            "Fine-tuning Epoch 430, Loss: 0.18364299833774567\n",
            "Fine-tuning Epoch 440, Loss: 2.6090314388275146\n",
            "Fine-tuning Epoch 450, Loss: 0.7888696789741516\n",
            "Fine-tuning Epoch 460, Loss: 3.641000747680664\n",
            "Fine-tuning Epoch 470, Loss: 1.680152416229248\n",
            "Fine-tuning Epoch 480, Loss: 3.3143417835235596\n",
            "Fine-tuning Epoch 490, Loss: 0.8349491953849792\n",
            "Fine-tuning Epoch 500, Loss: 4.229660987854004\n",
            "Fine-tuning Epoch 510, Loss: 0.9515531063079834\n",
            "Fine-tuning Epoch 520, Loss: 7.291773319244385\n",
            "Fine-tuning Epoch 530, Loss: 5.8676438331604\n",
            "Fine-tuning Epoch 540, Loss: 1.1276805400848389\n",
            "Fine-tuning Epoch 550, Loss: 0.8119720220565796\n",
            "Fine-tuning Epoch 560, Loss: 0.14753220975399017\n",
            "Fine-tuning Epoch 570, Loss: 0.2875414192676544\n",
            "Fine-tuning Epoch 580, Loss: 0.4739401340484619\n",
            "Fine-tuning Epoch 590, Loss: 3.2500076293945312\n",
            "Fine-tuning Epoch 600, Loss: 4.21532678604126\n",
            "Fine-tuning Epoch 610, Loss: 0.014212229289114475\n",
            "Fine-tuning Epoch 620, Loss: 0.7633271217346191\n",
            "Fine-tuning Epoch 630, Loss: 0.08183126151561737\n",
            "Fine-tuning Epoch 640, Loss: 0.18954181671142578\n",
            "Fine-tuning Epoch 650, Loss: 0.30956390500068665\n",
            "Fine-tuning Epoch 660, Loss: 1.8747608661651611\n",
            "Fine-tuning Epoch 670, Loss: 0.1121114194393158\n",
            "Fine-tuning Epoch 680, Loss: 1.6090456247329712\n",
            "Fine-tuning Epoch 690, Loss: 0.10774725675582886\n",
            "Fine-tuning Epoch 700, Loss: 0.06209472939372063\n",
            "Fine-tuning Epoch 710, Loss: 1.1260643005371094\n",
            "Fine-tuning Epoch 720, Loss: 0.08217982202768326\n",
            "Fine-tuning Epoch 730, Loss: 0.9250321388244629\n",
            "Fine-tuning Epoch 740, Loss: 0.17617933452129364\n",
            "Fine-tuning Epoch 750, Loss: 0.09299564361572266\n",
            "Fine-tuning Epoch 760, Loss: 0.28142690658569336\n",
            "Fine-tuning Epoch 770, Loss: 0.14652542769908905\n",
            "Fine-tuning Epoch 780, Loss: 0.04340585693717003\n",
            "Fine-tuning Epoch 790, Loss: 0.36085155606269836\n",
            "Fine-tuning Epoch 800, Loss: 0.9042754769325256\n",
            "Fine-tuning Epoch 810, Loss: 0.0051554529927670956\n",
            "Fine-tuning Epoch 820, Loss: 0.045358818024396896\n",
            "Fine-tuning Epoch 830, Loss: 0.0037495384458452463\n",
            "Fine-tuning Epoch 840, Loss: 0.5041587948799133\n",
            "Fine-tuning Epoch 850, Loss: 0.004523239564150572\n",
            "Fine-tuning Epoch 860, Loss: 0.038040462881326675\n",
            "Fine-tuning Epoch 870, Loss: 0.004495236091315746\n",
            "Fine-tuning Epoch 880, Loss: 0.21788758039474487\n",
            "Fine-tuning Epoch 890, Loss: 0.336548775434494\n",
            "Fine-tuning Epoch 900, Loss: 0.43299615383148193\n",
            "Fine-tuning Epoch 910, Loss: 0.03660859912633896\n",
            "Fine-tuning Epoch 920, Loss: 0.020865775644779205\n",
            "Fine-tuning Epoch 930, Loss: 0.0726410374045372\n",
            "Fine-tuning Epoch 940, Loss: 0.03144657984375954\n",
            "Fine-tuning Epoch 950, Loss: 0.17512930929660797\n",
            "Fine-tuning Epoch 960, Loss: 0.18966922163963318\n",
            "Fine-tuning Epoch 970, Loss: 0.006224040407687426\n",
            "Fine-tuning Epoch 980, Loss: 0.5969194769859314\n",
            "Fine-tuning Epoch 990, Loss: 0.15348517894744873\n",
            "Fine-tuning with learning rate: 0.001\n",
            "Fine-tuning Epoch 0, Loss: 0.10280133038759232\n",
            "Fine-tuning Epoch 10, Loss: 0.03946276009082794\n",
            "Fine-tuning Epoch 20, Loss: 0.11354416608810425\n",
            "Fine-tuning Epoch 30, Loss: 0.01983792707324028\n",
            "Fine-tuning Epoch 40, Loss: 0.2191411405801773\n",
            "Fine-tuning Epoch 50, Loss: 0.07012780755758286\n",
            "Fine-tuning Epoch 60, Loss: 0.42693227529525757\n",
            "Fine-tuning Epoch 70, Loss: 0.10200116038322449\n",
            "Fine-tuning Epoch 80, Loss: 0.47615379095077515\n",
            "Fine-tuning Epoch 90, Loss: 0.03598511591553688\n",
            "Fine-tuning Epoch 100, Loss: 0.0007529649883508682\n",
            "Fine-tuning Epoch 110, Loss: 0.008889812044799328\n",
            "Fine-tuning Epoch 120, Loss: 0.0002821906527969986\n",
            "Fine-tuning Epoch 130, Loss: 0.12024136632680893\n",
            "Fine-tuning Epoch 140, Loss: 0.05309305712580681\n",
            "Fine-tuning Epoch 150, Loss: 1.7111902707256377e-05\n",
            "Fine-tuning Epoch 160, Loss: 0.07892511785030365\n",
            "Fine-tuning Epoch 170, Loss: 0.0003791649069171399\n",
            "Fine-tuning Epoch 180, Loss: 0.013692249543964863\n",
            "Fine-tuning Epoch 190, Loss: 0.25181180238723755\n",
            "Fine-tuning Epoch 200, Loss: 0.00400506379082799\n",
            "Fine-tuning Epoch 210, Loss: 0.12705396115779877\n",
            "Fine-tuning Epoch 220, Loss: 0.049590326845645905\n",
            "Fine-tuning Epoch 230, Loss: 0.1785072684288025\n",
            "Fine-tuning Epoch 240, Loss: 0.4601975083351135\n",
            "Fine-tuning Epoch 250, Loss: 0.026066463440656662\n",
            "Fine-tuning Epoch 260, Loss: 0.002708274405449629\n",
            "Fine-tuning Epoch 270, Loss: 0.008067626506090164\n",
            "Fine-tuning Epoch 280, Loss: 0.1397739052772522\n",
            "Fine-tuning Epoch 290, Loss: 0.01925879530608654\n",
            "Fine-tuning Epoch 300, Loss: 0.02344113402068615\n",
            "Fine-tuning Epoch 310, Loss: 0.09994623064994812\n",
            "Fine-tuning Epoch 320, Loss: 0.06391482800245285\n",
            "Fine-tuning Epoch 330, Loss: 0.0019184461561962962\n",
            "Fine-tuning Epoch 340, Loss: 0.00032301453757099807\n",
            "Fine-tuning Epoch 350, Loss: 0.042096517980098724\n",
            "Fine-tuning Epoch 360, Loss: 0.001273280126042664\n",
            "Fine-tuning Epoch 370, Loss: 0.10070572793483734\n",
            "Fine-tuning Epoch 380, Loss: 0.04353624954819679\n",
            "Fine-tuning Epoch 390, Loss: 0.016165167093276978\n",
            "Fine-tuning Epoch 400, Loss: 0.004767012316733599\n",
            "Fine-tuning Epoch 410, Loss: 0.013573615811765194\n",
            "Fine-tuning Epoch 420, Loss: 0.08649436384439468\n",
            "Fine-tuning Epoch 430, Loss: 0.010280921123921871\n",
            "Fine-tuning Epoch 440, Loss: 0.00015023835294414312\n",
            "Fine-tuning Epoch 450, Loss: 0.0029157011304050684\n",
            "Fine-tuning Epoch 460, Loss: 0.00037484263884834945\n",
            "Fine-tuning Epoch 470, Loss: 0.0023750471882522106\n",
            "Fine-tuning Epoch 480, Loss: 0.0007909295381978154\n",
            "Fine-tuning Epoch 490, Loss: 0.005708454176783562\n",
            "Fine-tuning Epoch 500, Loss: 0.0003318368108011782\n",
            "Fine-tuning Epoch 510, Loss: 0.001222460065037012\n",
            "Fine-tuning Epoch 520, Loss: 0.11244827508926392\n",
            "Fine-tuning Epoch 530, Loss: 0.07649293541908264\n",
            "Fine-tuning Epoch 540, Loss: 0.011155976913869381\n",
            "Fine-tuning Epoch 550, Loss: 0.012702509760856628\n",
            "Fine-tuning Epoch 560, Loss: 0.05020839720964432\n",
            "Fine-tuning Epoch 570, Loss: 0.00684112124145031\n",
            "Fine-tuning Epoch 580, Loss: 0.006518689915537834\n",
            "Fine-tuning Epoch 590, Loss: 0.013979900628328323\n",
            "Fine-tuning Epoch 600, Loss: 0.015553177334368229\n",
            "Fine-tuning Epoch 610, Loss: 0.000530139310285449\n",
            "Fine-tuning Epoch 620, Loss: 0.003265605540946126\n",
            "Fine-tuning Epoch 630, Loss: 0.0007536054472438991\n",
            "Fine-tuning Epoch 640, Loss: 0.03767897188663483\n",
            "Fine-tuning Epoch 650, Loss: 0.004050782416015863\n",
            "Fine-tuning Epoch 660, Loss: 0.009859776124358177\n",
            "Fine-tuning Epoch 670, Loss: 0.01827160082757473\n",
            "Fine-tuning Epoch 680, Loss: 0.006950805429369211\n",
            "Fine-tuning Epoch 690, Loss: 0.00776674784719944\n",
            "Fine-tuning Epoch 700, Loss: 0.004617395345121622\n",
            "Fine-tuning Epoch 710, Loss: 0.009839816950261593\n",
            "Fine-tuning Epoch 720, Loss: 0.0003064070187974721\n",
            "Fine-tuning Epoch 730, Loss: 0.009876695461571217\n",
            "Fine-tuning Epoch 740, Loss: 0.003335733897984028\n",
            "Fine-tuning Epoch 750, Loss: 0.01591312699019909\n",
            "Fine-tuning Epoch 760, Loss: 0.0030676426831632853\n",
            "Fine-tuning Epoch 770, Loss: 0.04971812292933464\n",
            "Fine-tuning Epoch 780, Loss: 0.001264883321709931\n",
            "Fine-tuning Epoch 790, Loss: 0.002803162205964327\n",
            "Fine-tuning Epoch 800, Loss: 0.008496899157762527\n",
            "Fine-tuning Epoch 810, Loss: 0.0010179649107158184\n",
            "Fine-tuning Epoch 820, Loss: 0.024577666074037552\n",
            "Fine-tuning Epoch 830, Loss: 0.006380285602062941\n",
            "Fine-tuning Epoch 840, Loss: 0.0037383530288934708\n",
            "Fine-tuning Epoch 850, Loss: 0.003864599158987403\n",
            "Fine-tuning Epoch 860, Loss: 0.022873958572745323\n",
            "Fine-tuning Epoch 870, Loss: 7.723560702288523e-05\n",
            "Fine-tuning Epoch 880, Loss: 0.011842173524200916\n",
            "Fine-tuning Epoch 890, Loss: 0.00015649142733309418\n",
            "Fine-tuning Epoch 900, Loss: 0.013161752372980118\n",
            "Fine-tuning Epoch 910, Loss: 0.010063775815069675\n",
            "Fine-tuning Epoch 920, Loss: 0.0056645371951162815\n",
            "Fine-tuning Epoch 930, Loss: 0.011291398666799068\n",
            "Fine-tuning Epoch 940, Loss: 0.02233523689210415\n",
            "Fine-tuning Epoch 950, Loss: 0.004310003016144037\n",
            "Fine-tuning Epoch 960, Loss: 0.0016501598292961717\n",
            "Fine-tuning Epoch 970, Loss: 0.013894015923142433\n",
            "Fine-tuning Epoch 980, Loss: 0.00852368026971817\n",
            "Fine-tuning Epoch 990, Loss: 0.004640631377696991\n",
            "Fine-tuning with learning rate: 0.0001\n",
            "Fine-tuning Epoch 0, Loss: 0.037620220333337784\n",
            "Fine-tuning Epoch 10, Loss: 0.0024938732385635376\n",
            "Fine-tuning Epoch 20, Loss: 0.003372741397470236\n",
            "Fine-tuning Epoch 30, Loss: 0.00023623925517313182\n",
            "Fine-tuning Epoch 40, Loss: 3.3164051274070516e-05\n",
            "Fine-tuning Epoch 50, Loss: 0.002004138194024563\n",
            "Fine-tuning Epoch 60, Loss: 0.013633660040795803\n",
            "Fine-tuning Epoch 70, Loss: 0.002084905980154872\n",
            "Fine-tuning Epoch 80, Loss: 0.0038303921464830637\n",
            "Fine-tuning Epoch 90, Loss: 0.00041981996037065983\n",
            "Fine-tuning Epoch 100, Loss: 0.00021886269678361714\n",
            "Fine-tuning Epoch 110, Loss: 0.0012351453769952059\n",
            "Fine-tuning Epoch 120, Loss: 0.00036496558459475636\n",
            "Fine-tuning Epoch 130, Loss: 0.001317347283475101\n",
            "Fine-tuning Epoch 140, Loss: 0.00043957593152299523\n",
            "Fine-tuning Epoch 150, Loss: 0.0005840354133397341\n",
            "Fine-tuning Epoch 160, Loss: 1.0760433724499308e-05\n",
            "Fine-tuning Epoch 170, Loss: 0.004728741943836212\n",
            "Fine-tuning Epoch 180, Loss: 0.00023427755513694137\n",
            "Fine-tuning Epoch 190, Loss: 0.005012298934161663\n",
            "Fine-tuning Epoch 200, Loss: 0.009460503235459328\n",
            "Fine-tuning Epoch 210, Loss: 0.0004558612417895347\n",
            "Fine-tuning Epoch 220, Loss: 0.0003949963429477066\n",
            "Fine-tuning Epoch 230, Loss: 0.00010231871419819072\n",
            "Fine-tuning Epoch 240, Loss: 0.0006905155605636537\n",
            "Fine-tuning Epoch 250, Loss: 0.0016211863839998841\n",
            "Fine-tuning Epoch 260, Loss: 0.0022328204941004515\n",
            "Fine-tuning Epoch 270, Loss: 0.008356351405382156\n",
            "Fine-tuning Epoch 280, Loss: 1.4939361790311523e-05\n",
            "Fine-tuning Epoch 290, Loss: 0.0027080837171524763\n",
            "Fine-tuning Epoch 300, Loss: 0.006463697180151939\n",
            "Fine-tuning Epoch 310, Loss: 0.004227513447403908\n",
            "Fine-tuning Epoch 320, Loss: 0.0005264554056338966\n",
            "Fine-tuning Epoch 330, Loss: 0.009335593320429325\n",
            "Fine-tuning Epoch 340, Loss: 0.0029510234016925097\n",
            "Fine-tuning Epoch 350, Loss: 0.0012283879332244396\n",
            "Fine-tuning Epoch 360, Loss: 0.0007531048031523824\n",
            "Fine-tuning Epoch 370, Loss: 0.006589051336050034\n",
            "Fine-tuning Epoch 380, Loss: 0.0012142478954046965\n",
            "Fine-tuning Epoch 390, Loss: 0.0031056187581270933\n",
            "Fine-tuning Epoch 400, Loss: 0.0004217286768835038\n",
            "Fine-tuning Epoch 410, Loss: 0.0022402768954634666\n",
            "Fine-tuning Epoch 420, Loss: 0.00659589096903801\n",
            "Fine-tuning Epoch 430, Loss: 0.028797052800655365\n",
            "Fine-tuning Epoch 440, Loss: 0.0011252106633037329\n",
            "Fine-tuning Epoch 450, Loss: 0.006001227535307407\n",
            "Fine-tuning Epoch 460, Loss: 0.002653055125847459\n",
            "Fine-tuning Epoch 470, Loss: 0.002231529215350747\n",
            "Fine-tuning Epoch 480, Loss: 0.00027610865072347224\n",
            "Fine-tuning Epoch 490, Loss: 0.0007275521638803184\n",
            "Fine-tuning Epoch 500, Loss: 0.0005385371623560786\n",
            "Fine-tuning Epoch 510, Loss: 0.0005083329742774367\n",
            "Fine-tuning Epoch 520, Loss: 0.0027951791416853666\n",
            "Fine-tuning Epoch 530, Loss: 0.005502460058778524\n",
            "Fine-tuning Epoch 540, Loss: 5.707538093702169e-06\n",
            "Fine-tuning Epoch 550, Loss: 0.0022475114092230797\n",
            "Fine-tuning Epoch 560, Loss: 0.002773380372673273\n",
            "Fine-tuning Epoch 570, Loss: 0.006221308838576078\n",
            "Fine-tuning Epoch 580, Loss: 0.0012968771625310183\n",
            "Fine-tuning Epoch 590, Loss: 0.0006566661759279668\n",
            "Fine-tuning Epoch 600, Loss: 0.0008687436347827315\n",
            "Fine-tuning Epoch 610, Loss: 2.9000935683143325e-05\n",
            "Fine-tuning Epoch 620, Loss: 0.001526809181086719\n",
            "Fine-tuning Epoch 630, Loss: 0.003905460238456726\n",
            "Fine-tuning Epoch 640, Loss: 0.00011837332567665726\n",
            "Fine-tuning Epoch 650, Loss: 0.00032524080597795546\n",
            "Fine-tuning Epoch 660, Loss: 8.73851513460977e-06\n",
            "Fine-tuning Epoch 670, Loss: 0.0006895555998198688\n",
            "Fine-tuning Epoch 680, Loss: 0.0010133180767297745\n",
            "Fine-tuning Epoch 690, Loss: 0.0005898651434108615\n",
            "Fine-tuning Epoch 700, Loss: 0.0001627908059163019\n",
            "Fine-tuning Epoch 710, Loss: 0.0001633180509088561\n",
            "Fine-tuning Epoch 720, Loss: 0.0004229860787745565\n",
            "Fine-tuning Epoch 730, Loss: 0.0007825363427400589\n",
            "Fine-tuning Epoch 740, Loss: 0.004938258323818445\n",
            "Fine-tuning Epoch 750, Loss: 0.0036436147056519985\n",
            "Fine-tuning Epoch 760, Loss: 0.0006745854043401778\n",
            "Fine-tuning Epoch 770, Loss: 0.0004024168010801077\n",
            "Fine-tuning Epoch 780, Loss: 0.00011530685151228681\n",
            "Fine-tuning Epoch 790, Loss: 0.0012772104237228632\n",
            "Fine-tuning Epoch 800, Loss: 0.002162671647965908\n",
            "Fine-tuning Epoch 810, Loss: 0.0002487936581019312\n",
            "Fine-tuning Epoch 820, Loss: 0.002929345006123185\n",
            "Fine-tuning Epoch 830, Loss: 0.0010075379395857453\n",
            "Fine-tuning Epoch 840, Loss: 0.0007739905850030482\n",
            "Fine-tuning Epoch 850, Loss: 0.006864583119750023\n",
            "Fine-tuning Epoch 860, Loss: 0.0006163615034893155\n",
            "Fine-tuning Epoch 870, Loss: 0.0034990189597010612\n",
            "Fine-tuning Epoch 880, Loss: 2.433115878375247e-05\n",
            "Fine-tuning Epoch 890, Loss: 0.003191407537087798\n",
            "Fine-tuning Epoch 900, Loss: 2.731897257035598e-05\n",
            "Fine-tuning Epoch 910, Loss: 0.0009783155983313918\n",
            "Fine-tuning Epoch 920, Loss: 0.00021218210167717189\n",
            "Fine-tuning Epoch 930, Loss: 0.0031781066209077835\n",
            "Fine-tuning Epoch 940, Loss: 6.763532383047277e-06\n",
            "Fine-tuning Epoch 950, Loss: 0.0007647650199942291\n",
            "Fine-tuning Epoch 960, Loss: 0.0025395574048161507\n",
            "Fine-tuning Epoch 970, Loss: 0.0011105934390798211\n",
            "Fine-tuning Epoch 980, Loss: 8.314070873893797e-05\n",
            "Fine-tuning Epoch 990, Loss: 0.012366017326712608\n"
          ]
        }
      ],
      "source": [
        "def run_fine_tuning_for_learning_rates(model, fine_tune_epochs, learning_rates, state_size, action_size, device, reward_array, location_to_state, state_to_location):\n",
        "    # Dictionary to hold the average losses for each learning rate\n",
        "    avg_losses_per_lr = {}\n",
        "\n",
        "    # Loop over different learning rates\n",
        "    for lr in learning_rates:\n",
        "        print(f\"Fine-tuning with learning rate: {lr}\")\n",
        "        # Assuming fine_tune_q_learning_model is modified to accept and properly use the new parameters\n",
        "        avg_loss = fine_tune_q_learning_model(model, fine_tune_epochs, lr, state_size, action_size, device, reward_array, location_to_state, state_to_location)\n",
        "        avg_losses_per_lr[lr] = avg_loss\n",
        "\n",
        "    return avg_losses_per_lr\n",
        "\n",
        "\n",
        "# Define your parameters\n",
        "fine_tune_epochs = 1000\n",
        "learning_rates = [0.01, 0.001, 0.0001]  # Example learning rates\n",
        "state_size = state_size  # Define your state size\n",
        "action_size = action_size  # Define your action size\n",
        "device = torch.device(\"cuda\" if torch.cuda.is_available() else \"cpu\")\n",
        "# Example usage:\n",
        "# Make sure to define or obtain reward_array, location_to_state, and state_to_location before calling this function\n",
        "avg_losses = run_fine_tuning_for_learning_rates(\n",
        "    q_model,\n",
        "    fine_tune_epochs,\n",
        "    learning_rates,\n",
        "    state_size,\n",
        "    action_size,\n",
        "    device,\n",
        "    reward_array,  # Make sure this is defined\n",
        "    location_to_state,  # Make sure this is defined\n",
        "    state_to_location  # Make sure this is defined\n",
        ")\n",
        "\n",
        "\n",
        "# # Plotting the results\n",
        "# plt.figure(figsize=(10, 6))\n",
        "# plt.plot(learning_rates, [avg_losses[lr] for lr in learning_rates], marker='o')\n",
        "# plt.xlabel('Learning Rate')\n",
        "# plt.ylabel('Average Loss')\n",
        "# plt.title('Average Loss vs. Learning Rate')\n",
        "# plt.xscale('log')  # Since\n"
      ]
    },
    {
      "cell_type": "code",
      "execution_count": null,
      "metadata": {
        "colab": {
          "base_uri": "https://localhost:8080/"
        },
        "id": "yaXsOIg0_qQc",
        "outputId": "cd6e1bae-0c75-4410-a705-feb9b7462940"
      },
      "outputs": [
        {
          "name": "stdout",
          "output_type": "stream",
          "text": [
            "{0.01: None, 0.001: None, 0.0001: None}\n"
          ]
        }
      ],
      "source": [
        "print(avg_losses)\n"
      ]
    },
    {
      "cell_type": "code",
      "execution_count": null,
      "metadata": {
        "colab": {
          "base_uri": "https://localhost:8080/",
          "height": 718
        },
        "id": "8Id5_A3kCM0J",
        "outputId": "a48e3496-2155-4b0e-c60f-afbf76d865e8"
      },
      "outputs": [
        {
          "data": {
            "image/png": "[encoded data removed]",
            "text/plain": [
              "<Figure size 1200x800 with 1 Axes>"
            ]
          },
          "metadata": {},
          "output_type": "display_data"
        }
      ],
      "source": [
        "import matplotlib.pyplot as plt\n",
        "\n",
        "# Loss values for each learning rate\n",
        "losses = {\n",
        "    0.01: [0.04436193406581879, 0.2828226089477539, 0.14149786531925201, 0.4483889043331146, 0.7703043818473816, 0.038790225982666016, 1.0821348428726196, 6.659852027893066, 0.00027566778589971364, 1.0962485074996948],\n",
        "    0.001: [0.9997183084487915, 0.26420366764068604, 0.19119352102279663, 0.8151378631591797, 3.363884449005127, 0.0203425120562315, 1.3398990631103516, 0.4744490087032318, 0.14148609340190887, 0.03283276781439781],\n",
        "    0.0001: [0.006462021265178919, 1.019790768623352, 0.8158676028251648, 0.7175911664962769, 1.574131965637207, 0.06792581081390381, 0.0005035356152802706, 0.7881684899330139, 0.3424261212348938, 0.0001799016899894923]\n",
        "}\n",
        "\n",
        "# Prepare the plot\n",
        "plt.figure(figsize=(12, 8))\n",
        "\n",
        "# Epochs to plot against\n",
        "epochs = range(0, 100, 10)  # Assuming you have 10 data points, matching your loss intervals\n",
        "\n",
        "# Plot each learning rate's losses\n",
        "for lr, lr_losses in losses.items():\n",
        "    plt.plot(epochs, lr_losses, marker='o', label=f'LR={lr}')\n",
        "\n",
        "# Adding plot details\n",
        "plt.xlabel('Epochs')\n",
        "plt.ylabel('Loss')\n",
        "plt.title('Loss vs. Epochs for different Learning Rates')\n",
        "plt.legend()\n",
        "plt.grid(True)\n",
        "\n",
        "# Show the plot\n",
        "plt.show()\n"
      ]
    },
    {
      "cell_type": "code",
      "execution_count": null,
      "metadata": {
        "id": "xJS5Pks_OUex"
      },
      "outputs": [],
      "source": [
        "def find_optimal_path(model, source, destination, state_to_location, location_to_state, device):\n",
        "    model.eval()\n",
        "    if str(source) not in location_to_state or str(destination) not in location_to_state:\n",
        "        print(f\"Source or destination not found in location_to_state dictionary. Source: {source}, Destination: {destination}\")\n",
        "        return []\n",
        "\n",
        "    path = [str(source)]\n",
        "    current_state = str(source)\n",
        "\n",
        "    while current_state != str(destination):\n",
        "        state_index = location_to_state[current_state]  # Convert location to state index\n",
        "\n",
        "        # Create a one-hot encoded tensor based on the state index\n",
        "        state_vector = torch.zeros([1, 134], dtype=torch.float32)  # Adjust 134 to your actual state size\n",
        "        state_vector[0][state_index] = 1  # Set the appropriate index to 1 for one-hot encoding\n",
        "\n",
        "        state_vector = state_vector.to(device)  # Move to the correct device\n",
        "\n",
        "        with torch.no_grad():\n",
        "            q_values = model(state_vector)\n",
        "        predicted_action = torch.argmax(q_values, dim=1).item()\n",
        "\n",
        "        next_state = state_to_location[predicted_action]\n",
        "        if next_state in path:\n",
        "            print(\"Cycle detected. Terminating path search.\")\n",
        "            break\n",
        "\n",
        "        path.append(next_state)\n",
        "        current_state = next_state\n",
        "\n",
        "    return path\n"
      ]
    },
    {
      "cell_type": "code",
      "execution_count": null,
      "metadata": {
        "colab": {
          "base_uri": "https://localhost:8080/"
        },
        "id": "EhB9acYfQItx",
        "outputId": "12d5ab63-321e-418b-937a-d75679747499"
      },
      "outputs": [
        {
          "name": "stdout",
          "output_type": "stream",
          "text": [
            "Cycle detected. Terminating path search.\n",
            "Optimal path from 5 to 10: ['5', '3']\n",
            "Cycle detected. Terminating path search.\n",
            "Optimal path from 1 to 25: ['1', '3']\n",
            "Cycle detected. Terminating path search.\n",
            "Optimal path from 3 to 10: ['3']\n"
          ]
        }
      ],
      "source": [
        "\n",
        "test_pairs = [('5','10'),('1','25'),('3','10')]\n",
        "\"\"\n",
        "for source, destination in test_pairs:\n",
        "    path = find_optimal_path(q_model, source, destination, state_to_location, location_to_state, device)\n",
        "    print(f\"Optimal path from {source} to {destination}: {path}\")\n"
      ]
    },
    {
      "cell_type": "code",
      "execution_count": null,
      "metadata": {
        "colab": {
          "base_uri": "https://localhost:8080/"
        },
        "id": "ZmqmfXatgrTj",
        "outputId": "7c708c17-dc9e-4310-b964-6053188f6f63"
      },
      "outputs": [
        {
          "name": "stdout",
          "output_type": "stream",
          "text": [
            "Cycle detected. Terminating path search.\n",
            "Cycle detected. Terminating path search.\n",
            "Cycle detected. Terminating path search.\n"
          ]
        }
      ],
      "source": [
        "paths = {f\"{src} to {dest}\": find_optimal_path(q_model, src, dest, state_to_location, location_to_state, device) for src, dest in test_pairs}"
      ]
    },
    {
      "cell_type": "code",
      "execution_count": null,
      "metadata": {
        "id": "yBa3ugdvs9pH"
      },
      "outputs": [],
      "source": [
        "def convert_path_to_grid(path, size):\n",
        "    grid_path = []\n",
        "    for node_label in path:\n",
        "        node_index = int(node_label) - 1  # Convert label to 0-based index\n",
        "        row = node_index // size\n",
        "        col = node_index % size\n",
        "        grid_path.append((row, col))\n",
        "    return grid_path\n"
      ]
    },
    {
      "cell_type": "code",
      "execution_count": null,
      "metadata": {
        "colab": {
          "base_uri": "https://localhost:8080/",
          "height": 591
        },
        "id": "3geUdcxSWqN5",
        "outputId": "c71e5f4c-98db-4922-e547-a5dcf7cee8e3"
      },
      "outputs": [
        {
          "name": "stdout",
          "output_type": "stream",
          "text": [
            "Cycle detected. Terminating path search.\n",
            "Cycle detected. Terminating path search.\n",
            "Cycle detected. Terminating path search.\n"
          ]
        },
        {
          "data": {
            "image/png": "[encoded data removed]",
            "text/plain": [
              "<Figure size 640x480 with 1 Axes>"
            ]
          },
          "metadata": {},
          "output_type": "display_data"
        }
      ],
      "source": [
        "import networkx as nx\n",
        "import matplotlib.pyplot as plt\n",
        "\n",
        "\n",
        "source_dest_pairs = [('5','10'),('1','25'),('3','10')]\n",
        "\n",
        "size = 5  # Mesh size\n",
        "G = nx.grid_2d_graph(size, size)\n",
        "pos = {(x, y): (y, -x) for x, y in G.nodes()}\n",
        "labels = {(x, y): str(x * size + y + 1) for x, y in G.nodes()}\n",
        "\n",
        "paths = {f\"{src} to {dest}\": find_optimal_path(q_model, src, dest, state_to_location, location_to_state, device) for src, dest in source_dest_pairs}\n",
        "\n",
        "nx.draw(G, pos, labels=labels, with_labels=True, node_size=700, node_color='lightblue')\n",
        "\n",
        "for label, path in paths.items():\n",
        "    grid_path = convert_path_to_grid(path, size)\n",
        "    edges = list(zip(grid_path[:-1], grid_path[1:]))\n",
        "    nx.draw_networkx_edges(G, pos, edgelist=edges, width=2, edge_color='yellow', style='solid', label=label)\n",
        "\n",
        "plt.legend()\n",
        "plt.title(\"Predicted Paths in Mesh Topology\")\n",
        "plt.axis('equal')\n",
        "plt.gca().invert_yaxis()\n",
        "plt.show()\n"
      ]
    },
    {
      "cell_type": "markdown",
      "metadata": {
        "id": "6OELwYcSZ1S-"
      },
      "source": []
    }
  ],
  "metadata": {
    "colab": {
      "provenance": []
    },
    "kernelspec": {
      "display_name": "Python 3",
      "name": "python3"
    },
    "language_info": {
      "codemirror_mode": {
        "name": "ipython",
        "version": 3
      },
      "file_extension": ".py",
      "mimetype": "text/x-python",
      "name": "python",
      "nbconvert_exporter": "python",
      "pygments_lexer": "ipython3",
      "version": "3.11.5"
    }
  },
  "nbformat": 4,
  "nbformat_minor": 0
}
